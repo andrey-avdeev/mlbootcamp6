{
 "cells": [
  {
   "cell_type": "markdown",
   "metadata": {},
   "source": [
    "# 03 - GridSearchCV - LGBM"
   ]
  },
  {
   "cell_type": "markdown",
   "metadata": {},
   "source": [
    "#### Imports"
   ]
  },
  {
   "cell_type": "code",
   "execution_count": 1,
   "metadata": {},
   "outputs": [],
   "source": [
    "import numpy as np\n",
    "import pandas as pd\n",
    "\n",
    "import matplotlib.pyplot as plt\n",
    "import seaborn as sns\n",
    "\n",
    "sns.set(style=\"white\")"
   ]
  },
  {
   "cell_type": "markdown",
   "metadata": {},
   "source": [
    "#### Constants"
   ]
  },
  {
   "cell_type": "code",
   "execution_count": 2,
   "metadata": {},
   "outputs": [],
   "source": [
    "n_components = 1000"
   ]
  },
  {
   "cell_type": "code",
   "execution_count": 3,
   "metadata": {},
   "outputs": [],
   "source": [
    "models_folder = \"models/\"\n",
    "train_data_fn = models_folder+'train_data.pkl'\n",
    "target_fn = models_folder+'target.pkl'\n",
    "test_data_fn = models_folder+'test_data.pkl'\n",
    "\n",
    "weight_multiplier_fn = models_folder+\"weight_multiplier.pkl\""
   ]
  },
  {
   "cell_type": "markdown",
   "metadata": {},
   "source": [
    "#### Functions"
   ]
  },
  {
   "cell_type": "code",
   "execution_count": 4,
   "metadata": {},
   "outputs": [],
   "source": [
    "import os.path\n",
    "from sklearn.externals import joblib\n",
    "\n",
    "def Load(filename):\n",
    "    if os.path.isfile(filename):\n",
    "        return joblib.load(filename)\n",
    "    \n",
    "def Save(obj, filename):\n",
    "    joblib.dump(obj, filename)"
   ]
  },
  {
   "cell_type": "markdown",
   "metadata": {},
   "source": [
    "# Loading data"
   ]
  },
  {
   "cell_type": "code",
   "execution_count": 5,
   "metadata": {},
   "outputs": [],
   "source": [
    "import scipy\n",
    "\n",
    "data = scipy.sparse.load_npz(\"train_sparse_matrix_after_scale.npz\")\n",
    "\n",
    "target = Load(target_fn)"
   ]
  },
  {
   "cell_type": "code",
   "execution_count": 6,
   "metadata": {},
   "outputs": [],
   "source": [
    "weight_multiplier = Load(weight_multiplier_fn)"
   ]
  },
  {
   "cell_type": "markdown",
   "metadata": {},
   "source": [
    "## Splitting dataset"
   ]
  },
  {
   "cell_type": "code",
   "execution_count": 8,
   "metadata": {},
   "outputs": [
    {
     "name": "stderr",
     "output_type": "stream",
     "text": [
      "/home/aavdeev/anaconda3/lib/python3.6/site-packages/sklearn/model_selection/_split.py:2026: FutureWarning: From version 0.21, test_size will always complement train_size unless both are specified.\n",
      "  FutureWarning)\n"
     ]
    }
   ],
   "source": [
    "from sklearn.model_selection import train_test_split\n",
    "\n",
    "X_train, X_validation, Y_train, Y_validation = train_test_split(data, target.ravel(), train_size=0.8, random_state=42)"
   ]
  },
  {
   "cell_type": "markdown",
   "metadata": {},
   "source": [
    "# CatBoost Classifier"
   ]
  },
  {
   "cell_type": "code",
   "execution_count": 9,
   "metadata": {},
   "outputs": [],
   "source": [
    "import lightgbm as lgbm\n",
    "import re"
   ]
  },
  {
   "cell_type": "code",
   "execution_count": 42,
   "metadata": {},
   "outputs": [],
   "source": [
    "tuned_parameters = {\n",
    "     'num_leaves': [50,1000,10000,10000],\n",
    "     'max_depth':[10,20,30,40],\n",
    "     'min_child_samples':[30,50,100],\n",
    "     'max_bin':[50,100,200],\n",
    "     'subsample':[0.1,0.4,0.7],\n",
    "     'subsample_freq':[2,30,100],\n",
    "     'colsample_bytree':[0.2,0.3,0.7],\n",
    "     'min_child_weight':[2,3,6],\n",
    "     'subsample_for_bin':[10,100,200],\n",
    "     'min_split_gain':[1.1,2.0,10.0],\n",
    "     'reg_alpha':[2,3,5,7,8],\n",
    "     'reg_lambda':[0,0.2,0.8],\n",
    "     'metric':['auc'],\n",
    "    'learning_rate':[0.05,0.1,0.005],\n",
    "    'objective':['binary'],\n",
    "    'scale_pos_weight':[1,weight_multiplier,1/weight_multiplier],\n",
    "}"
   ]
  },
  {
   "cell_type": "code",
   "execution_count": 43,
   "metadata": {},
   "outputs": [
    {
     "name": "stdout",
     "output_type": "stream",
     "text": [
      "CPU times: user 29 µs, sys: 0 ns, total: 29 µs\n",
      "Wall time: 32.9 µs\n"
     ]
    }
   ],
   "source": [
    "%%time\n",
    "from sklearn.model_selection import GridSearchCV,RandomizedSearchCV\n",
    "\n",
    "clf = RandomizedSearchCV(lgbm.LGBMClassifier(nthread=8, verbose_eval=32),\n",
    "                   tuned_parameters,\n",
    "                   cv=4,\n",
    "                   n_iter=100,\n",
    "                   scoring='roc_auc',\n",
    "                   random_state=42,\n",
    "                   verbose=2)"
   ]
  },
  {
   "cell_type": "code",
   "execution_count": 44,
   "metadata": {},
   "outputs": [
    {
     "name": "stdout",
     "output_type": "stream",
     "text": [
      "Fitting 4 folds for each of 100 candidates, totalling 400 fits\n",
      "[CV] subsample_freq=30, subsample_for_bin=200, subsample=0.1, scale_pos_weight=1, reg_lambda=0.8, reg_alpha=7, objective=binary, num_leaves=10000, min_split_gain=2.0, min_child_weight=6, min_child_samples=100, metric=auc, max_depth=10, max_bin=50, learning_rate=0.1, colsample_bytree=0.3 \n",
      "[CV]  subsample_freq=30, subsample_for_bin=200, subsample=0.1, scale_pos_weight=1, reg_lambda=0.8, reg_alpha=7, objective=binary, num_leaves=10000, min_split_gain=2.0, min_child_weight=6, min_child_samples=100, metric=auc, max_depth=10, max_bin=50, learning_rate=0.1, colsample_bytree=0.3, total=  20.3s\n",
      "[CV] subsample_freq=30, subsample_for_bin=200, subsample=0.1, scale_pos_weight=1, reg_lambda=0.8, reg_alpha=7, objective=binary, num_leaves=10000, min_split_gain=2.0, min_child_weight=6, min_child_samples=100, metric=auc, max_depth=10, max_bin=50, learning_rate=0.1, colsample_bytree=0.3 \n"
     ]
    },
    {
     "name": "stderr",
     "output_type": "stream",
     "text": [
      "[Parallel(n_jobs=1)]: Done   1 out of   1 | elapsed:   23.1s remaining:    0.0s\n"
     ]
    },
    {
     "name": "stdout",
     "output_type": "stream",
     "text": [
      "[CV]  subsample_freq=30, subsample_for_bin=200, subsample=0.1, scale_pos_weight=1, reg_lambda=0.8, reg_alpha=7, objective=binary, num_leaves=10000, min_split_gain=2.0, min_child_weight=6, min_child_samples=100, metric=auc, max_depth=10, max_bin=50, learning_rate=0.1, colsample_bytree=0.3, total=  17.7s\n",
      "[CV] subsample_freq=30, subsample_for_bin=200, subsample=0.1, scale_pos_weight=1, reg_lambda=0.8, reg_alpha=7, objective=binary, num_leaves=10000, min_split_gain=2.0, min_child_weight=6, min_child_samples=100, metric=auc, max_depth=10, max_bin=50, learning_rate=0.1, colsample_bytree=0.3 \n",
      "[CV]  subsample_freq=30, subsample_for_bin=200, subsample=0.1, scale_pos_weight=1, reg_lambda=0.8, reg_alpha=7, objective=binary, num_leaves=10000, min_split_gain=2.0, min_child_weight=6, min_child_samples=100, metric=auc, max_depth=10, max_bin=50, learning_rate=0.1, colsample_bytree=0.3, total=  17.6s\n",
      "[CV] subsample_freq=30, subsample_for_bin=200, subsample=0.1, scale_pos_weight=1, reg_lambda=0.8, reg_alpha=7, objective=binary, num_leaves=10000, min_split_gain=2.0, min_child_weight=6, min_child_samples=100, metric=auc, max_depth=10, max_bin=50, learning_rate=0.1, colsample_bytree=0.3 \n",
      "[CV]  subsample_freq=30, subsample_for_bin=200, subsample=0.1, scale_pos_weight=1, reg_lambda=0.8, reg_alpha=7, objective=binary, num_leaves=10000, min_split_gain=2.0, min_child_weight=6, min_child_samples=100, metric=auc, max_depth=10, max_bin=50, learning_rate=0.1, colsample_bytree=0.3, total=  18.1s\n",
      "[CV] subsample_freq=100, subsample_for_bin=10, subsample=0.1, scale_pos_weight=1, reg_lambda=0.2, reg_alpha=5, objective=binary, num_leaves=10000, min_split_gain=1.1, min_child_weight=6, min_child_samples=100, metric=auc, max_depth=20, max_bin=50, learning_rate=0.1, colsample_bytree=0.3 \n",
      "[CV]  subsample_freq=100, subsample_for_bin=10, subsample=0.1, scale_pos_weight=1, reg_lambda=0.2, reg_alpha=5, objective=binary, num_leaves=10000, min_split_gain=1.1, min_child_weight=6, min_child_samples=100, metric=auc, max_depth=20, max_bin=50, learning_rate=0.1, colsample_bytree=0.3, total=   7.4s\n",
      "[CV] subsample_freq=100, subsample_for_bin=10, subsample=0.1, scale_pos_weight=1, reg_lambda=0.2, reg_alpha=5, objective=binary, num_leaves=10000, min_split_gain=1.1, min_child_weight=6, min_child_samples=100, metric=auc, max_depth=20, max_bin=50, learning_rate=0.1, colsample_bytree=0.3 \n",
      "[CV]  subsample_freq=100, subsample_for_bin=10, subsample=0.1, scale_pos_weight=1, reg_lambda=0.2, reg_alpha=5, objective=binary, num_leaves=10000, min_split_gain=1.1, min_child_weight=6, min_child_samples=100, metric=auc, max_depth=20, max_bin=50, learning_rate=0.1, colsample_bytree=0.3, total=   7.6s\n",
      "[CV] subsample_freq=100, subsample_for_bin=10, subsample=0.1, scale_pos_weight=1, reg_lambda=0.2, reg_alpha=5, objective=binary, num_leaves=10000, min_split_gain=1.1, min_child_weight=6, min_child_samples=100, metric=auc, max_depth=20, max_bin=50, learning_rate=0.1, colsample_bytree=0.3 \n",
      "[CV]  subsample_freq=100, subsample_for_bin=10, subsample=0.1, scale_pos_weight=1, reg_lambda=0.2, reg_alpha=5, objective=binary, num_leaves=10000, min_split_gain=1.1, min_child_weight=6, min_child_samples=100, metric=auc, max_depth=20, max_bin=50, learning_rate=0.1, colsample_bytree=0.3, total=   6.2s\n",
      "[CV] subsample_freq=100, subsample_for_bin=10, subsample=0.1, scale_pos_weight=1, reg_lambda=0.2, reg_alpha=5, objective=binary, num_leaves=10000, min_split_gain=1.1, min_child_weight=6, min_child_samples=100, metric=auc, max_depth=20, max_bin=50, learning_rate=0.1, colsample_bytree=0.3 \n",
      "[CV]  subsample_freq=100, subsample_for_bin=10, subsample=0.1, scale_pos_weight=1, reg_lambda=0.2, reg_alpha=5, objective=binary, num_leaves=10000, min_split_gain=1.1, min_child_weight=6, min_child_samples=100, metric=auc, max_depth=20, max_bin=50, learning_rate=0.1, colsample_bytree=0.3, total=   8.6s\n",
      "[CV] subsample_freq=30, subsample_for_bin=10, subsample=0.4, scale_pos_weight=1, reg_lambda=0, reg_alpha=5, objective=binary, num_leaves=1000, min_split_gain=2.0, min_child_weight=3, min_child_samples=100, metric=auc, max_depth=10, max_bin=100, learning_rate=0.05, colsample_bytree=0.7 \n",
      "[CV]  subsample_freq=30, subsample_for_bin=10, subsample=0.4, scale_pos_weight=1, reg_lambda=0, reg_alpha=5, objective=binary, num_leaves=1000, min_split_gain=2.0, min_child_weight=3, min_child_samples=100, metric=auc, max_depth=10, max_bin=100, learning_rate=0.05, colsample_bytree=0.7, total=  13.1s\n",
      "[CV] subsample_freq=30, subsample_for_bin=10, subsample=0.4, scale_pos_weight=1, reg_lambda=0, reg_alpha=5, objective=binary, num_leaves=1000, min_split_gain=2.0, min_child_weight=3, min_child_samples=100, metric=auc, max_depth=10, max_bin=100, learning_rate=0.05, colsample_bytree=0.7 \n",
      "[CV]  subsample_freq=30, subsample_for_bin=10, subsample=0.4, scale_pos_weight=1, reg_lambda=0, reg_alpha=5, objective=binary, num_leaves=1000, min_split_gain=2.0, min_child_weight=3, min_child_samples=100, metric=auc, max_depth=10, max_bin=100, learning_rate=0.05, colsample_bytree=0.7, total=  13.4s\n",
      "[CV] subsample_freq=30, subsample_for_bin=10, subsample=0.4, scale_pos_weight=1, reg_lambda=0, reg_alpha=5, objective=binary, num_leaves=1000, min_split_gain=2.0, min_child_weight=3, min_child_samples=100, metric=auc, max_depth=10, max_bin=100, learning_rate=0.05, colsample_bytree=0.7 \n",
      "[CV]  subsample_freq=30, subsample_for_bin=10, subsample=0.4, scale_pos_weight=1, reg_lambda=0, reg_alpha=5, objective=binary, num_leaves=1000, min_split_gain=2.0, min_child_weight=3, min_child_samples=100, metric=auc, max_depth=10, max_bin=100, learning_rate=0.05, colsample_bytree=0.7, total=   9.1s\n",
      "[CV] subsample_freq=30, subsample_for_bin=10, subsample=0.4, scale_pos_weight=1, reg_lambda=0, reg_alpha=5, objective=binary, num_leaves=1000, min_split_gain=2.0, min_child_weight=3, min_child_samples=100, metric=auc, max_depth=10, max_bin=100, learning_rate=0.05, colsample_bytree=0.7 \n",
      "[CV]  subsample_freq=30, subsample_for_bin=10, subsample=0.4, scale_pos_weight=1, reg_lambda=0, reg_alpha=5, objective=binary, num_leaves=1000, min_split_gain=2.0, min_child_weight=3, min_child_samples=100, metric=auc, max_depth=10, max_bin=100, learning_rate=0.05, colsample_bytree=0.7, total=  15.2s\n",
      "[CV] subsample_freq=30, subsample_for_bin=200, subsample=0.4, scale_pos_weight=0.05276699578395344, reg_lambda=0, reg_alpha=8, objective=binary, num_leaves=10000, min_split_gain=1.1, min_child_weight=3, min_child_samples=100, metric=auc, max_depth=10, max_bin=200, learning_rate=0.005, colsample_bytree=0.2 \n",
      "[CV]  subsample_freq=30, subsample_for_bin=200, subsample=0.4, scale_pos_weight=0.05276699578395344, reg_lambda=0, reg_alpha=8, objective=binary, num_leaves=10000, min_split_gain=1.1, min_child_weight=3, min_child_samples=100, metric=auc, max_depth=10, max_bin=200, learning_rate=0.005, colsample_bytree=0.2, total=  25.1s\n",
      "[CV] subsample_freq=30, subsample_for_bin=200, subsample=0.4, scale_pos_weight=0.05276699578395344, reg_lambda=0, reg_alpha=8, objective=binary, num_leaves=10000, min_split_gain=1.1, min_child_weight=3, min_child_samples=100, metric=auc, max_depth=10, max_bin=200, learning_rate=0.005, colsample_bytree=0.2 \n",
      "[CV]  subsample_freq=30, subsample_for_bin=200, subsample=0.4, scale_pos_weight=0.05276699578395344, reg_lambda=0, reg_alpha=8, objective=binary, num_leaves=10000, min_split_gain=1.1, min_child_weight=3, min_child_samples=100, metric=auc, max_depth=10, max_bin=200, learning_rate=0.005, colsample_bytree=0.2, total=  21.8s\n",
      "[CV] subsample_freq=30, subsample_for_bin=200, subsample=0.4, scale_pos_weight=0.05276699578395344, reg_lambda=0, reg_alpha=8, objective=binary, num_leaves=10000, min_split_gain=1.1, min_child_weight=3, min_child_samples=100, metric=auc, max_depth=10, max_bin=200, learning_rate=0.005, colsample_bytree=0.2 \n",
      "[CV]  subsample_freq=30, subsample_for_bin=200, subsample=0.4, scale_pos_weight=0.05276699578395344, reg_lambda=0, reg_alpha=8, objective=binary, num_leaves=10000, min_split_gain=1.1, min_child_weight=3, min_child_samples=100, metric=auc, max_depth=10, max_bin=200, learning_rate=0.005, colsample_bytree=0.2, total=  20.4s\n",
      "[CV] subsample_freq=30, subsample_for_bin=200, subsample=0.4, scale_pos_weight=0.05276699578395344, reg_lambda=0, reg_alpha=8, objective=binary, num_leaves=10000, min_split_gain=1.1, min_child_weight=3, min_child_samples=100, metric=auc, max_depth=10, max_bin=200, learning_rate=0.005, colsample_bytree=0.2 \n"
     ]
    },
    {
     "name": "stdout",
     "output_type": "stream",
     "text": [
      "[CV]  subsample_freq=30, subsample_for_bin=200, subsample=0.4, scale_pos_weight=0.05276699578395344, reg_lambda=0, reg_alpha=8, objective=binary, num_leaves=10000, min_split_gain=1.1, min_child_weight=3, min_child_samples=100, metric=auc, max_depth=10, max_bin=200, learning_rate=0.005, colsample_bytree=0.2, total=  21.1s\n",
      "[CV] subsample_freq=2, subsample_for_bin=200, subsample=0.4, scale_pos_weight=0.05276699578395344, reg_lambda=0.2, reg_alpha=8, objective=binary, num_leaves=10000, min_split_gain=1.1, min_child_weight=3, min_child_samples=50, metric=auc, max_depth=20, max_bin=100, learning_rate=0.005, colsample_bytree=0.7 \n",
      "[CV]  subsample_freq=2, subsample_for_bin=200, subsample=0.4, scale_pos_weight=0.05276699578395344, reg_lambda=0.2, reg_alpha=8, objective=binary, num_leaves=10000, min_split_gain=1.1, min_child_weight=3, min_child_samples=50, metric=auc, max_depth=20, max_bin=100, learning_rate=0.005, colsample_bytree=0.7, total=  26.8s\n",
      "[CV] subsample_freq=2, subsample_for_bin=200, subsample=0.4, scale_pos_weight=0.05276699578395344, reg_lambda=0.2, reg_alpha=8, objective=binary, num_leaves=10000, min_split_gain=1.1, min_child_weight=3, min_child_samples=50, metric=auc, max_depth=20, max_bin=100, learning_rate=0.005, colsample_bytree=0.7 \n",
      "[CV]  subsample_freq=2, subsample_for_bin=200, subsample=0.4, scale_pos_weight=0.05276699578395344, reg_lambda=0.2, reg_alpha=8, objective=binary, num_leaves=10000, min_split_gain=1.1, min_child_weight=3, min_child_samples=50, metric=auc, max_depth=20, max_bin=100, learning_rate=0.005, colsample_bytree=0.7, total=  21.1s\n",
      "[CV] subsample_freq=2, subsample_for_bin=200, subsample=0.4, scale_pos_weight=0.05276699578395344, reg_lambda=0.2, reg_alpha=8, objective=binary, num_leaves=10000, min_split_gain=1.1, min_child_weight=3, min_child_samples=50, metric=auc, max_depth=20, max_bin=100, learning_rate=0.005, colsample_bytree=0.7 \n",
      "[CV]  subsample_freq=2, subsample_for_bin=200, subsample=0.4, scale_pos_weight=0.05276699578395344, reg_lambda=0.2, reg_alpha=8, objective=binary, num_leaves=10000, min_split_gain=1.1, min_child_weight=3, min_child_samples=50, metric=auc, max_depth=20, max_bin=100, learning_rate=0.005, colsample_bytree=0.7, total=  20.1s\n",
      "[CV] subsample_freq=2, subsample_for_bin=200, subsample=0.4, scale_pos_weight=0.05276699578395344, reg_lambda=0.2, reg_alpha=8, objective=binary, num_leaves=10000, min_split_gain=1.1, min_child_weight=3, min_child_samples=50, metric=auc, max_depth=20, max_bin=100, learning_rate=0.005, colsample_bytree=0.7 \n",
      "[CV]  subsample_freq=2, subsample_for_bin=200, subsample=0.4, scale_pos_weight=0.05276699578395344, reg_lambda=0.2, reg_alpha=8, objective=binary, num_leaves=10000, min_split_gain=1.1, min_child_weight=3, min_child_samples=50, metric=auc, max_depth=20, max_bin=100, learning_rate=0.005, colsample_bytree=0.7, total=  20.3s\n",
      "[CV] subsample_freq=100, subsample_for_bin=100, subsample=0.7, scale_pos_weight=1, reg_lambda=0.2, reg_alpha=2, objective=binary, num_leaves=10000, min_split_gain=1.1, min_child_weight=2, min_child_samples=30, metric=auc, max_depth=20, max_bin=100, learning_rate=0.1, colsample_bytree=0.2 \n",
      "[CV]  subsample_freq=100, subsample_for_bin=100, subsample=0.7, scale_pos_weight=1, reg_lambda=0.2, reg_alpha=2, objective=binary, num_leaves=10000, min_split_gain=1.1, min_child_weight=2, min_child_samples=30, metric=auc, max_depth=20, max_bin=100, learning_rate=0.1, colsample_bytree=0.2, total=  47.7s\n",
      "[CV] subsample_freq=100, subsample_for_bin=100, subsample=0.7, scale_pos_weight=1, reg_lambda=0.2, reg_alpha=2, objective=binary, num_leaves=10000, min_split_gain=1.1, min_child_weight=2, min_child_samples=30, metric=auc, max_depth=20, max_bin=100, learning_rate=0.1, colsample_bytree=0.2 \n",
      "[CV]  subsample_freq=100, subsample_for_bin=100, subsample=0.7, scale_pos_weight=1, reg_lambda=0.2, reg_alpha=2, objective=binary, num_leaves=10000, min_split_gain=1.1, min_child_weight=2, min_child_samples=30, metric=auc, max_depth=20, max_bin=100, learning_rate=0.1, colsample_bytree=0.2, total=  37.8s\n",
      "[CV] subsample_freq=100, subsample_for_bin=100, subsample=0.7, scale_pos_weight=1, reg_lambda=0.2, reg_alpha=2, objective=binary, num_leaves=10000, min_split_gain=1.1, min_child_weight=2, min_child_samples=30, metric=auc, max_depth=20, max_bin=100, learning_rate=0.1, colsample_bytree=0.2 \n",
      "[CV]  subsample_freq=100, subsample_for_bin=100, subsample=0.7, scale_pos_weight=1, reg_lambda=0.2, reg_alpha=2, objective=binary, num_leaves=10000, min_split_gain=1.1, min_child_weight=2, min_child_samples=30, metric=auc, max_depth=20, max_bin=100, learning_rate=0.1, colsample_bytree=0.2, total=  43.5s\n",
      "[CV] subsample_freq=100, subsample_for_bin=100, subsample=0.7, scale_pos_weight=1, reg_lambda=0.2, reg_alpha=2, objective=binary, num_leaves=10000, min_split_gain=1.1, min_child_weight=2, min_child_samples=30, metric=auc, max_depth=20, max_bin=100, learning_rate=0.1, colsample_bytree=0.2 \n",
      "[CV]  subsample_freq=100, subsample_for_bin=100, subsample=0.7, scale_pos_weight=1, reg_lambda=0.2, reg_alpha=2, objective=binary, num_leaves=10000, min_split_gain=1.1, min_child_weight=2, min_child_samples=30, metric=auc, max_depth=20, max_bin=100, learning_rate=0.1, colsample_bytree=0.2, total=  48.7s\n",
      "[CV] subsample_freq=2, subsample_for_bin=200, subsample=0.4, scale_pos_weight=0.05276699578395344, reg_lambda=0.8, reg_alpha=3, objective=binary, num_leaves=50, min_split_gain=1.1, min_child_weight=6, min_child_samples=100, metric=auc, max_depth=40, max_bin=50, learning_rate=0.05, colsample_bytree=0.7 \n",
      "[CV]  subsample_freq=2, subsample_for_bin=200, subsample=0.4, scale_pos_weight=0.05276699578395344, reg_lambda=0.8, reg_alpha=3, objective=binary, num_leaves=50, min_split_gain=1.1, min_child_weight=6, min_child_samples=100, metric=auc, max_depth=40, max_bin=50, learning_rate=0.05, colsample_bytree=0.7, total=  19.2s\n",
      "[CV] subsample_freq=2, subsample_for_bin=200, subsample=0.4, scale_pos_weight=0.05276699578395344, reg_lambda=0.8, reg_alpha=3, objective=binary, num_leaves=50, min_split_gain=1.1, min_child_weight=6, min_child_samples=100, metric=auc, max_depth=40, max_bin=50, learning_rate=0.05, colsample_bytree=0.7 \n",
      "[CV]  subsample_freq=2, subsample_for_bin=200, subsample=0.4, scale_pos_weight=0.05276699578395344, reg_lambda=0.8, reg_alpha=3, objective=binary, num_leaves=50, min_split_gain=1.1, min_child_weight=6, min_child_samples=100, metric=auc, max_depth=40, max_bin=50, learning_rate=0.05, colsample_bytree=0.7, total=  16.7s\n",
      "[CV] subsample_freq=2, subsample_for_bin=200, subsample=0.4, scale_pos_weight=0.05276699578395344, reg_lambda=0.8, reg_alpha=3, objective=binary, num_leaves=50, min_split_gain=1.1, min_child_weight=6, min_child_samples=100, metric=auc, max_depth=40, max_bin=50, learning_rate=0.05, colsample_bytree=0.7 \n",
      "[CV]  subsample_freq=2, subsample_for_bin=200, subsample=0.4, scale_pos_weight=0.05276699578395344, reg_lambda=0.8, reg_alpha=3, objective=binary, num_leaves=50, min_split_gain=1.1, min_child_weight=6, min_child_samples=100, metric=auc, max_depth=40, max_bin=50, learning_rate=0.05, colsample_bytree=0.7, total=  15.8s\n",
      "[CV] subsample_freq=2, subsample_for_bin=200, subsample=0.4, scale_pos_weight=0.05276699578395344, reg_lambda=0.8, reg_alpha=3, objective=binary, num_leaves=50, min_split_gain=1.1, min_child_weight=6, min_child_samples=100, metric=auc, max_depth=40, max_bin=50, learning_rate=0.05, colsample_bytree=0.7 \n",
      "[CV]  subsample_freq=2, subsample_for_bin=200, subsample=0.4, scale_pos_weight=0.05276699578395344, reg_lambda=0.8, reg_alpha=3, objective=binary, num_leaves=50, min_split_gain=1.1, min_child_weight=6, min_child_samples=100, metric=auc, max_depth=40, max_bin=50, learning_rate=0.05, colsample_bytree=0.7, total=  16.1s\n",
      "[CV] subsample_freq=2, subsample_for_bin=10, subsample=0.1, scale_pos_weight=0.05276699578395344, reg_lambda=0, reg_alpha=3, objective=binary, num_leaves=10000, min_split_gain=1.1, min_child_weight=6, min_child_samples=50, metric=auc, max_depth=10, max_bin=50, learning_rate=0.05, colsample_bytree=0.7 \n",
      "[CV]  subsample_freq=2, subsample_for_bin=10, subsample=0.1, scale_pos_weight=0.05276699578395344, reg_lambda=0, reg_alpha=3, objective=binary, num_leaves=10000, min_split_gain=1.1, min_child_weight=6, min_child_samples=50, metric=auc, max_depth=10, max_bin=50, learning_rate=0.05, colsample_bytree=0.7, total=   7.6s\n",
      "[CV] subsample_freq=2, subsample_for_bin=10, subsample=0.1, scale_pos_weight=0.05276699578395344, reg_lambda=0, reg_alpha=3, objective=binary, num_leaves=10000, min_split_gain=1.1, min_child_weight=6, min_child_samples=50, metric=auc, max_depth=10, max_bin=50, learning_rate=0.05, colsample_bytree=0.7 \n"
     ]
    },
    {
     "name": "stdout",
     "output_type": "stream",
     "text": [
      "[CV]  subsample_freq=2, subsample_for_bin=10, subsample=0.1, scale_pos_weight=0.05276699578395344, reg_lambda=0, reg_alpha=3, objective=binary, num_leaves=10000, min_split_gain=1.1, min_child_weight=6, min_child_samples=50, metric=auc, max_depth=10, max_bin=50, learning_rate=0.05, colsample_bytree=0.7, total=   7.9s\n",
      "[CV] subsample_freq=2, subsample_for_bin=10, subsample=0.1, scale_pos_weight=0.05276699578395344, reg_lambda=0, reg_alpha=3, objective=binary, num_leaves=10000, min_split_gain=1.1, min_child_weight=6, min_child_samples=50, metric=auc, max_depth=10, max_bin=50, learning_rate=0.05, colsample_bytree=0.7 \n",
      "[CV]  subsample_freq=2, subsample_for_bin=10, subsample=0.1, scale_pos_weight=0.05276699578395344, reg_lambda=0, reg_alpha=3, objective=binary, num_leaves=10000, min_split_gain=1.1, min_child_weight=6, min_child_samples=50, metric=auc, max_depth=10, max_bin=50, learning_rate=0.05, colsample_bytree=0.7, total=   6.8s\n",
      "[CV] subsample_freq=2, subsample_for_bin=10, subsample=0.1, scale_pos_weight=0.05276699578395344, reg_lambda=0, reg_alpha=3, objective=binary, num_leaves=10000, min_split_gain=1.1, min_child_weight=6, min_child_samples=50, metric=auc, max_depth=10, max_bin=50, learning_rate=0.05, colsample_bytree=0.7 \n",
      "[CV]  subsample_freq=2, subsample_for_bin=10, subsample=0.1, scale_pos_weight=0.05276699578395344, reg_lambda=0, reg_alpha=3, objective=binary, num_leaves=10000, min_split_gain=1.1, min_child_weight=6, min_child_samples=50, metric=auc, max_depth=10, max_bin=50, learning_rate=0.05, colsample_bytree=0.7, total=   8.3s\n",
      "[CV] subsample_freq=30, subsample_for_bin=100, subsample=0.7, scale_pos_weight=0.05276699578395344, reg_lambda=0.2, reg_alpha=3, objective=binary, num_leaves=1000, min_split_gain=10.0, min_child_weight=2, min_child_samples=100, metric=auc, max_depth=30, max_bin=200, learning_rate=0.1, colsample_bytree=0.7 \n",
      "[CV]  subsample_freq=30, subsample_for_bin=100, subsample=0.7, scale_pos_weight=0.05276699578395344, reg_lambda=0.2, reg_alpha=3, objective=binary, num_leaves=1000, min_split_gain=10.0, min_child_weight=2, min_child_samples=100, metric=auc, max_depth=30, max_bin=200, learning_rate=0.1, colsample_bytree=0.7, total=  17.1s\n",
      "[CV] subsample_freq=30, subsample_for_bin=100, subsample=0.7, scale_pos_weight=0.05276699578395344, reg_lambda=0.2, reg_alpha=3, objective=binary, num_leaves=1000, min_split_gain=10.0, min_child_weight=2, min_child_samples=100, metric=auc, max_depth=30, max_bin=200, learning_rate=0.1, colsample_bytree=0.7 \n",
      "[CV]  subsample_freq=30, subsample_for_bin=100, subsample=0.7, scale_pos_weight=0.05276699578395344, reg_lambda=0.2, reg_alpha=3, objective=binary, num_leaves=1000, min_split_gain=10.0, min_child_weight=2, min_child_samples=100, metric=auc, max_depth=30, max_bin=200, learning_rate=0.1, colsample_bytree=0.7, total=  16.3s\n",
      "[CV] subsample_freq=30, subsample_for_bin=100, subsample=0.7, scale_pos_weight=0.05276699578395344, reg_lambda=0.2, reg_alpha=3, objective=binary, num_leaves=1000, min_split_gain=10.0, min_child_weight=2, min_child_samples=100, metric=auc, max_depth=30, max_bin=200, learning_rate=0.1, colsample_bytree=0.7 \n",
      "[CV]  subsample_freq=30, subsample_for_bin=100, subsample=0.7, scale_pos_weight=0.05276699578395344, reg_lambda=0.2, reg_alpha=3, objective=binary, num_leaves=1000, min_split_gain=10.0, min_child_weight=2, min_child_samples=100, metric=auc, max_depth=30, max_bin=200, learning_rate=0.1, colsample_bytree=0.7, total=  16.6s\n",
      "[CV] subsample_freq=30, subsample_for_bin=100, subsample=0.7, scale_pos_weight=0.05276699578395344, reg_lambda=0.2, reg_alpha=3, objective=binary, num_leaves=1000, min_split_gain=10.0, min_child_weight=2, min_child_samples=100, metric=auc, max_depth=30, max_bin=200, learning_rate=0.1, colsample_bytree=0.7 \n",
      "[CV]  subsample_freq=30, subsample_for_bin=100, subsample=0.7, scale_pos_weight=0.05276699578395344, reg_lambda=0.2, reg_alpha=3, objective=binary, num_leaves=1000, min_split_gain=10.0, min_child_weight=2, min_child_samples=100, metric=auc, max_depth=30, max_bin=200, learning_rate=0.1, colsample_bytree=0.7, total=  17.6s\n",
      "[CV] subsample_freq=2, subsample_for_bin=10, subsample=0.7, scale_pos_weight=0.05276699578395344, reg_lambda=0.8, reg_alpha=3, objective=binary, num_leaves=1000, min_split_gain=1.1, min_child_weight=6, min_child_samples=100, metric=auc, max_depth=30, max_bin=100, learning_rate=0.1, colsample_bytree=0.3 \n",
      "[CV]  subsample_freq=2, subsample_for_bin=10, subsample=0.7, scale_pos_weight=0.05276699578395344, reg_lambda=0.8, reg_alpha=3, objective=binary, num_leaves=1000, min_split_gain=1.1, min_child_weight=6, min_child_samples=100, metric=auc, max_depth=30, max_bin=100, learning_rate=0.1, colsample_bytree=0.3, total=  11.2s\n",
      "[CV] subsample_freq=2, subsample_for_bin=10, subsample=0.7, scale_pos_weight=0.05276699578395344, reg_lambda=0.8, reg_alpha=3, objective=binary, num_leaves=1000, min_split_gain=1.1, min_child_weight=6, min_child_samples=100, metric=auc, max_depth=30, max_bin=100, learning_rate=0.1, colsample_bytree=0.3 \n",
      "[CV]  subsample_freq=2, subsample_for_bin=10, subsample=0.7, scale_pos_weight=0.05276699578395344, reg_lambda=0.8, reg_alpha=3, objective=binary, num_leaves=1000, min_split_gain=1.1, min_child_weight=6, min_child_samples=100, metric=auc, max_depth=30, max_bin=100, learning_rate=0.1, colsample_bytree=0.3, total=  10.0s\n",
      "[CV] subsample_freq=2, subsample_for_bin=10, subsample=0.7, scale_pos_weight=0.05276699578395344, reg_lambda=0.8, reg_alpha=3, objective=binary, num_leaves=1000, min_split_gain=1.1, min_child_weight=6, min_child_samples=100, metric=auc, max_depth=30, max_bin=100, learning_rate=0.1, colsample_bytree=0.3 \n",
      "[CV]  subsample_freq=2, subsample_for_bin=10, subsample=0.7, scale_pos_weight=0.05276699578395344, reg_lambda=0.8, reg_alpha=3, objective=binary, num_leaves=1000, min_split_gain=1.1, min_child_weight=6, min_child_samples=100, metric=auc, max_depth=30, max_bin=100, learning_rate=0.1, colsample_bytree=0.3, total=  10.2s\n",
      "[CV] subsample_freq=2, subsample_for_bin=10, subsample=0.7, scale_pos_weight=0.05276699578395344, reg_lambda=0.8, reg_alpha=3, objective=binary, num_leaves=1000, min_split_gain=1.1, min_child_weight=6, min_child_samples=100, metric=auc, max_depth=30, max_bin=100, learning_rate=0.1, colsample_bytree=0.3 \n",
      "[CV]  subsample_freq=2, subsample_for_bin=10, subsample=0.7, scale_pos_weight=0.05276699578395344, reg_lambda=0.8, reg_alpha=3, objective=binary, num_leaves=1000, min_split_gain=1.1, min_child_weight=6, min_child_samples=100, metric=auc, max_depth=30, max_bin=100, learning_rate=0.1, colsample_bytree=0.3, total=  11.6s\n",
      "[CV] subsample_freq=30, subsample_for_bin=100, subsample=0.7, scale_pos_weight=18.951239977624464, reg_lambda=0.2, reg_alpha=7, objective=binary, num_leaves=50, min_split_gain=2.0, min_child_weight=2, min_child_samples=50, metric=auc, max_depth=20, max_bin=50, learning_rate=0.05, colsample_bytree=0.7 \n",
      "[CV]  subsample_freq=30, subsample_for_bin=100, subsample=0.7, scale_pos_weight=18.951239977624464, reg_lambda=0.2, reg_alpha=7, objective=binary, num_leaves=50, min_split_gain=2.0, min_child_weight=2, min_child_samples=50, metric=auc, max_depth=20, max_bin=50, learning_rate=0.05, colsample_bytree=0.7, total=  46.4s\n",
      "[CV] subsample_freq=30, subsample_for_bin=100, subsample=0.7, scale_pos_weight=18.951239977624464, reg_lambda=0.2, reg_alpha=7, objective=binary, num_leaves=50, min_split_gain=2.0, min_child_weight=2, min_child_samples=50, metric=auc, max_depth=20, max_bin=50, learning_rate=0.05, colsample_bytree=0.7 \n",
      "[CV]  subsample_freq=30, subsample_for_bin=100, subsample=0.7, scale_pos_weight=18.951239977624464, reg_lambda=0.2, reg_alpha=7, objective=binary, num_leaves=50, min_split_gain=2.0, min_child_weight=2, min_child_samples=50, metric=auc, max_depth=20, max_bin=50, learning_rate=0.05, colsample_bytree=0.7, total=  36.4s\n",
      "[CV] subsample_freq=30, subsample_for_bin=100, subsample=0.7, scale_pos_weight=18.951239977624464, reg_lambda=0.2, reg_alpha=7, objective=binary, num_leaves=50, min_split_gain=2.0, min_child_weight=2, min_child_samples=50, metric=auc, max_depth=20, max_bin=50, learning_rate=0.05, colsample_bytree=0.7 \n",
      "[CV]  subsample_freq=30, subsample_for_bin=100, subsample=0.7, scale_pos_weight=18.951239977624464, reg_lambda=0.2, reg_alpha=7, objective=binary, num_leaves=50, min_split_gain=2.0, min_child_weight=2, min_child_samples=50, metric=auc, max_depth=20, max_bin=50, learning_rate=0.05, colsample_bytree=0.7, total=  38.8s\n",
      "[CV] subsample_freq=30, subsample_for_bin=100, subsample=0.7, scale_pos_weight=18.951239977624464, reg_lambda=0.2, reg_alpha=7, objective=binary, num_leaves=50, min_split_gain=2.0, min_child_weight=2, min_child_samples=50, metric=auc, max_depth=20, max_bin=50, learning_rate=0.05, colsample_bytree=0.7 \n"
     ]
    },
    {
     "name": "stdout",
     "output_type": "stream",
     "text": [
      "[CV]  subsample_freq=30, subsample_for_bin=100, subsample=0.7, scale_pos_weight=18.951239977624464, reg_lambda=0.2, reg_alpha=7, objective=binary, num_leaves=50, min_split_gain=2.0, min_child_weight=2, min_child_samples=50, metric=auc, max_depth=20, max_bin=50, learning_rate=0.05, colsample_bytree=0.7, total=  39.9s\n",
      "[CV] subsample_freq=100, subsample_for_bin=10, subsample=0.1, scale_pos_weight=0.05276699578395344, reg_lambda=0, reg_alpha=2, objective=binary, num_leaves=1000, min_split_gain=10.0, min_child_weight=2, min_child_samples=30, metric=auc, max_depth=30, max_bin=200, learning_rate=0.005, colsample_bytree=0.2 \n",
      "[CV]  subsample_freq=100, subsample_for_bin=10, subsample=0.1, scale_pos_weight=0.05276699578395344, reg_lambda=0, reg_alpha=2, objective=binary, num_leaves=1000, min_split_gain=10.0, min_child_weight=2, min_child_samples=30, metric=auc, max_depth=30, max_bin=200, learning_rate=0.005, colsample_bytree=0.2, total=   5.2s\n",
      "[CV] subsample_freq=100, subsample_for_bin=10, subsample=0.1, scale_pos_weight=0.05276699578395344, reg_lambda=0, reg_alpha=2, objective=binary, num_leaves=1000, min_split_gain=10.0, min_child_weight=2, min_child_samples=30, metric=auc, max_depth=30, max_bin=200, learning_rate=0.005, colsample_bytree=0.2 \n",
      "[CV]  subsample_freq=100, subsample_for_bin=10, subsample=0.1, scale_pos_weight=0.05276699578395344, reg_lambda=0, reg_alpha=2, objective=binary, num_leaves=1000, min_split_gain=10.0, min_child_weight=2, min_child_samples=30, metric=auc, max_depth=30, max_bin=200, learning_rate=0.005, colsample_bytree=0.2, total=   5.3s\n",
      "[CV] subsample_freq=100, subsample_for_bin=10, subsample=0.1, scale_pos_weight=0.05276699578395344, reg_lambda=0, reg_alpha=2, objective=binary, num_leaves=1000, min_split_gain=10.0, min_child_weight=2, min_child_samples=30, metric=auc, max_depth=30, max_bin=200, learning_rate=0.005, colsample_bytree=0.2 \n",
      "[CV]  subsample_freq=100, subsample_for_bin=10, subsample=0.1, scale_pos_weight=0.05276699578395344, reg_lambda=0, reg_alpha=2, objective=binary, num_leaves=1000, min_split_gain=10.0, min_child_weight=2, min_child_samples=30, metric=auc, max_depth=30, max_bin=200, learning_rate=0.005, colsample_bytree=0.2, total=   5.1s\n",
      "[CV] subsample_freq=100, subsample_for_bin=10, subsample=0.1, scale_pos_weight=0.05276699578395344, reg_lambda=0, reg_alpha=2, objective=binary, num_leaves=1000, min_split_gain=10.0, min_child_weight=2, min_child_samples=30, metric=auc, max_depth=30, max_bin=200, learning_rate=0.005, colsample_bytree=0.2 \n",
      "[CV]  subsample_freq=100, subsample_for_bin=10, subsample=0.1, scale_pos_weight=0.05276699578395344, reg_lambda=0, reg_alpha=2, objective=binary, num_leaves=1000, min_split_gain=10.0, min_child_weight=2, min_child_samples=30, metric=auc, max_depth=30, max_bin=200, learning_rate=0.005, colsample_bytree=0.2, total=   5.6s\n",
      "[CV] subsample_freq=2, subsample_for_bin=10, subsample=0.4, scale_pos_weight=1, reg_lambda=0.2, reg_alpha=2, objective=binary, num_leaves=50, min_split_gain=1.1, min_child_weight=6, min_child_samples=30, metric=auc, max_depth=10, max_bin=200, learning_rate=0.05, colsample_bytree=0.7 \n",
      "[CV]  subsample_freq=2, subsample_for_bin=10, subsample=0.4, scale_pos_weight=1, reg_lambda=0.2, reg_alpha=2, objective=binary, num_leaves=50, min_split_gain=1.1, min_child_weight=6, min_child_samples=30, metric=auc, max_depth=10, max_bin=200, learning_rate=0.05, colsample_bytree=0.7, total=  12.6s\n",
      "[CV] subsample_freq=2, subsample_for_bin=10, subsample=0.4, scale_pos_weight=1, reg_lambda=0.2, reg_alpha=2, objective=binary, num_leaves=50, min_split_gain=1.1, min_child_weight=6, min_child_samples=30, metric=auc, max_depth=10, max_bin=200, learning_rate=0.05, colsample_bytree=0.7 \n",
      "[CV]  subsample_freq=2, subsample_for_bin=10, subsample=0.4, scale_pos_weight=1, reg_lambda=0.2, reg_alpha=2, objective=binary, num_leaves=50, min_split_gain=1.1, min_child_weight=6, min_child_samples=30, metric=auc, max_depth=10, max_bin=200, learning_rate=0.05, colsample_bytree=0.7, total=  12.7s\n",
      "[CV] subsample_freq=2, subsample_for_bin=10, subsample=0.4, scale_pos_weight=1, reg_lambda=0.2, reg_alpha=2, objective=binary, num_leaves=50, min_split_gain=1.1, min_child_weight=6, min_child_samples=30, metric=auc, max_depth=10, max_bin=200, learning_rate=0.05, colsample_bytree=0.7 \n",
      "[CV]  subsample_freq=2, subsample_for_bin=10, subsample=0.4, scale_pos_weight=1, reg_lambda=0.2, reg_alpha=2, objective=binary, num_leaves=50, min_split_gain=1.1, min_child_weight=6, min_child_samples=30, metric=auc, max_depth=10, max_bin=200, learning_rate=0.05, colsample_bytree=0.7, total=   9.5s\n",
      "[CV] subsample_freq=2, subsample_for_bin=10, subsample=0.4, scale_pos_weight=1, reg_lambda=0.2, reg_alpha=2, objective=binary, num_leaves=50, min_split_gain=1.1, min_child_weight=6, min_child_samples=30, metric=auc, max_depth=10, max_bin=200, learning_rate=0.05, colsample_bytree=0.7 \n",
      "[CV]  subsample_freq=2, subsample_for_bin=10, subsample=0.4, scale_pos_weight=1, reg_lambda=0.2, reg_alpha=2, objective=binary, num_leaves=50, min_split_gain=1.1, min_child_weight=6, min_child_samples=30, metric=auc, max_depth=10, max_bin=200, learning_rate=0.05, colsample_bytree=0.7, total=  14.3s\n",
      "[CV] subsample_freq=100, subsample_for_bin=200, subsample=0.1, scale_pos_weight=0.05276699578395344, reg_lambda=0.8, reg_alpha=2, objective=binary, num_leaves=10000, min_split_gain=1.1, min_child_weight=3, min_child_samples=50, metric=auc, max_depth=30, max_bin=200, learning_rate=0.005, colsample_bytree=0.2 \n",
      "[CV]  subsample_freq=100, subsample_for_bin=200, subsample=0.1, scale_pos_weight=0.05276699578395344, reg_lambda=0.8, reg_alpha=2, objective=binary, num_leaves=10000, min_split_gain=1.1, min_child_weight=3, min_child_samples=50, metric=auc, max_depth=30, max_bin=200, learning_rate=0.005, colsample_bytree=0.2, total=  16.1s\n",
      "[CV] subsample_freq=100, subsample_for_bin=200, subsample=0.1, scale_pos_weight=0.05276699578395344, reg_lambda=0.8, reg_alpha=2, objective=binary, num_leaves=10000, min_split_gain=1.1, min_child_weight=3, min_child_samples=50, metric=auc, max_depth=30, max_bin=200, learning_rate=0.005, colsample_bytree=0.2 \n",
      "[CV]  subsample_freq=100, subsample_for_bin=200, subsample=0.1, scale_pos_weight=0.05276699578395344, reg_lambda=0.8, reg_alpha=2, objective=binary, num_leaves=10000, min_split_gain=1.1, min_child_weight=3, min_child_samples=50, metric=auc, max_depth=30, max_bin=200, learning_rate=0.005, colsample_bytree=0.2, total=  14.7s\n",
      "[CV] subsample_freq=100, subsample_for_bin=200, subsample=0.1, scale_pos_weight=0.05276699578395344, reg_lambda=0.8, reg_alpha=2, objective=binary, num_leaves=10000, min_split_gain=1.1, min_child_weight=3, min_child_samples=50, metric=auc, max_depth=30, max_bin=200, learning_rate=0.005, colsample_bytree=0.2 \n",
      "[CV]  subsample_freq=100, subsample_for_bin=200, subsample=0.1, scale_pos_weight=0.05276699578395344, reg_lambda=0.8, reg_alpha=2, objective=binary, num_leaves=10000, min_split_gain=1.1, min_child_weight=3, min_child_samples=50, metric=auc, max_depth=30, max_bin=200, learning_rate=0.005, colsample_bytree=0.2, total=  14.3s\n",
      "[CV] subsample_freq=100, subsample_for_bin=200, subsample=0.1, scale_pos_weight=0.05276699578395344, reg_lambda=0.8, reg_alpha=2, objective=binary, num_leaves=10000, min_split_gain=1.1, min_child_weight=3, min_child_samples=50, metric=auc, max_depth=30, max_bin=200, learning_rate=0.005, colsample_bytree=0.2 \n",
      "[CV]  subsample_freq=100, subsample_for_bin=200, subsample=0.1, scale_pos_weight=0.05276699578395344, reg_lambda=0.8, reg_alpha=2, objective=binary, num_leaves=10000, min_split_gain=1.1, min_child_weight=3, min_child_samples=50, metric=auc, max_depth=30, max_bin=200, learning_rate=0.005, colsample_bytree=0.2, total=  14.6s\n",
      "[CV] subsample_freq=2, subsample_for_bin=100, subsample=0.7, scale_pos_weight=0.05276699578395344, reg_lambda=0.2, reg_alpha=5, objective=binary, num_leaves=10000, min_split_gain=10.0, min_child_weight=2, min_child_samples=50, metric=auc, max_depth=10, max_bin=200, learning_rate=0.1, colsample_bytree=0.3 \n",
      "[CV]  subsample_freq=2, subsample_for_bin=100, subsample=0.7, scale_pos_weight=0.05276699578395344, reg_lambda=0.2, reg_alpha=5, objective=binary, num_leaves=10000, min_split_gain=10.0, min_child_weight=2, min_child_samples=50, metric=auc, max_depth=10, max_bin=200, learning_rate=0.1, colsample_bytree=0.3, total=  19.7s\n",
      "[CV] subsample_freq=2, subsample_for_bin=100, subsample=0.7, scale_pos_weight=0.05276699578395344, reg_lambda=0.2, reg_alpha=5, objective=binary, num_leaves=10000, min_split_gain=10.0, min_child_weight=2, min_child_samples=50, metric=auc, max_depth=10, max_bin=200, learning_rate=0.1, colsample_bytree=0.3 \n"
     ]
    },
    {
     "name": "stdout",
     "output_type": "stream",
     "text": [
      "[CV]  subsample_freq=2, subsample_for_bin=100, subsample=0.7, scale_pos_weight=0.05276699578395344, reg_lambda=0.2, reg_alpha=5, objective=binary, num_leaves=10000, min_split_gain=10.0, min_child_weight=2, min_child_samples=50, metric=auc, max_depth=10, max_bin=200, learning_rate=0.1, colsample_bytree=0.3, total=  17.7s\n",
      "[CV] subsample_freq=2, subsample_for_bin=100, subsample=0.7, scale_pos_weight=0.05276699578395344, reg_lambda=0.2, reg_alpha=5, objective=binary, num_leaves=10000, min_split_gain=10.0, min_child_weight=2, min_child_samples=50, metric=auc, max_depth=10, max_bin=200, learning_rate=0.1, colsample_bytree=0.3 \n",
      "[CV]  subsample_freq=2, subsample_for_bin=100, subsample=0.7, scale_pos_weight=0.05276699578395344, reg_lambda=0.2, reg_alpha=5, objective=binary, num_leaves=10000, min_split_gain=10.0, min_child_weight=2, min_child_samples=50, metric=auc, max_depth=10, max_bin=200, learning_rate=0.1, colsample_bytree=0.3, total=  17.7s\n",
      "[CV] subsample_freq=2, subsample_for_bin=100, subsample=0.7, scale_pos_weight=0.05276699578395344, reg_lambda=0.2, reg_alpha=5, objective=binary, num_leaves=10000, min_split_gain=10.0, min_child_weight=2, min_child_samples=50, metric=auc, max_depth=10, max_bin=200, learning_rate=0.1, colsample_bytree=0.3 \n",
      "[CV]  subsample_freq=2, subsample_for_bin=100, subsample=0.7, scale_pos_weight=0.05276699578395344, reg_lambda=0.2, reg_alpha=5, objective=binary, num_leaves=10000, min_split_gain=10.0, min_child_weight=2, min_child_samples=50, metric=auc, max_depth=10, max_bin=200, learning_rate=0.1, colsample_bytree=0.3, total=  18.7s\n",
      "[CV] subsample_freq=100, subsample_for_bin=100, subsample=0.1, scale_pos_weight=1, reg_lambda=0, reg_alpha=2, objective=binary, num_leaves=50, min_split_gain=10.0, min_child_weight=6, min_child_samples=100, metric=auc, max_depth=20, max_bin=50, learning_rate=0.05, colsample_bytree=0.3 \n",
      "[CV]  subsample_freq=100, subsample_for_bin=100, subsample=0.1, scale_pos_weight=1, reg_lambda=0, reg_alpha=2, objective=binary, num_leaves=50, min_split_gain=10.0, min_child_weight=6, min_child_samples=100, metric=auc, max_depth=20, max_bin=50, learning_rate=0.05, colsample_bytree=0.3, total=   9.4s\n",
      "[CV] subsample_freq=100, subsample_for_bin=100, subsample=0.1, scale_pos_weight=1, reg_lambda=0, reg_alpha=2, objective=binary, num_leaves=50, min_split_gain=10.0, min_child_weight=6, min_child_samples=100, metric=auc, max_depth=20, max_bin=50, learning_rate=0.05, colsample_bytree=0.3 \n",
      "[CV]  subsample_freq=100, subsample_for_bin=100, subsample=0.1, scale_pos_weight=1, reg_lambda=0, reg_alpha=2, objective=binary, num_leaves=50, min_split_gain=10.0, min_child_weight=6, min_child_samples=100, metric=auc, max_depth=20, max_bin=50, learning_rate=0.05, colsample_bytree=0.3, total=   8.3s\n",
      "[CV] subsample_freq=100, subsample_for_bin=100, subsample=0.1, scale_pos_weight=1, reg_lambda=0, reg_alpha=2, objective=binary, num_leaves=50, min_split_gain=10.0, min_child_weight=6, min_child_samples=100, metric=auc, max_depth=20, max_bin=50, learning_rate=0.05, colsample_bytree=0.3 \n",
      "[CV]  subsample_freq=100, subsample_for_bin=100, subsample=0.1, scale_pos_weight=1, reg_lambda=0, reg_alpha=2, objective=binary, num_leaves=50, min_split_gain=10.0, min_child_weight=6, min_child_samples=100, metric=auc, max_depth=20, max_bin=50, learning_rate=0.05, colsample_bytree=0.3, total=   8.9s\n",
      "[CV] subsample_freq=100, subsample_for_bin=100, subsample=0.1, scale_pos_weight=1, reg_lambda=0, reg_alpha=2, objective=binary, num_leaves=50, min_split_gain=10.0, min_child_weight=6, min_child_samples=100, metric=auc, max_depth=20, max_bin=50, learning_rate=0.05, colsample_bytree=0.3 \n",
      "[CV]  subsample_freq=100, subsample_for_bin=100, subsample=0.1, scale_pos_weight=1, reg_lambda=0, reg_alpha=2, objective=binary, num_leaves=50, min_split_gain=10.0, min_child_weight=6, min_child_samples=100, metric=auc, max_depth=20, max_bin=50, learning_rate=0.05, colsample_bytree=0.3, total=   9.0s\n",
      "[CV] subsample_freq=30, subsample_for_bin=10, subsample=0.4, scale_pos_weight=0.05276699578395344, reg_lambda=0, reg_alpha=3, objective=binary, num_leaves=50, min_split_gain=1.1, min_child_weight=2, min_child_samples=50, metric=auc, max_depth=30, max_bin=200, learning_rate=0.005, colsample_bytree=0.7 \n",
      "[CV]  subsample_freq=30, subsample_for_bin=10, subsample=0.4, scale_pos_weight=0.05276699578395344, reg_lambda=0, reg_alpha=3, objective=binary, num_leaves=50, min_split_gain=1.1, min_child_weight=2, min_child_samples=50, metric=auc, max_depth=30, max_bin=200, learning_rate=0.005, colsample_bytree=0.7, total=  10.1s\n",
      "[CV] subsample_freq=30, subsample_for_bin=10, subsample=0.4, scale_pos_weight=0.05276699578395344, reg_lambda=0, reg_alpha=3, objective=binary, num_leaves=50, min_split_gain=1.1, min_child_weight=2, min_child_samples=50, metric=auc, max_depth=30, max_bin=200, learning_rate=0.005, colsample_bytree=0.7 \n",
      "[CV]  subsample_freq=30, subsample_for_bin=10, subsample=0.4, scale_pos_weight=0.05276699578395344, reg_lambda=0, reg_alpha=3, objective=binary, num_leaves=50, min_split_gain=1.1, min_child_weight=2, min_child_samples=50, metric=auc, max_depth=30, max_bin=200, learning_rate=0.005, colsample_bytree=0.7, total=   9.7s\n",
      "[CV] subsample_freq=30, subsample_for_bin=10, subsample=0.4, scale_pos_weight=0.05276699578395344, reg_lambda=0, reg_alpha=3, objective=binary, num_leaves=50, min_split_gain=1.1, min_child_weight=2, min_child_samples=50, metric=auc, max_depth=30, max_bin=200, learning_rate=0.005, colsample_bytree=0.7 \n",
      "[CV]  subsample_freq=30, subsample_for_bin=10, subsample=0.4, scale_pos_weight=0.05276699578395344, reg_lambda=0, reg_alpha=3, objective=binary, num_leaves=50, min_split_gain=1.1, min_child_weight=2, min_child_samples=50, metric=auc, max_depth=30, max_bin=200, learning_rate=0.005, colsample_bytree=0.7, total=   7.2s\n",
      "[CV] subsample_freq=30, subsample_for_bin=10, subsample=0.4, scale_pos_weight=0.05276699578395344, reg_lambda=0, reg_alpha=3, objective=binary, num_leaves=50, min_split_gain=1.1, min_child_weight=2, min_child_samples=50, metric=auc, max_depth=30, max_bin=200, learning_rate=0.005, colsample_bytree=0.7 \n",
      "[CV]  subsample_freq=30, subsample_for_bin=10, subsample=0.4, scale_pos_weight=0.05276699578395344, reg_lambda=0, reg_alpha=3, objective=binary, num_leaves=50, min_split_gain=1.1, min_child_weight=2, min_child_samples=50, metric=auc, max_depth=30, max_bin=200, learning_rate=0.005, colsample_bytree=0.7, total=  10.8s\n",
      "[CV] subsample_freq=100, subsample_for_bin=10, subsample=0.4, scale_pos_weight=18.951239977624464, reg_lambda=0, reg_alpha=3, objective=binary, num_leaves=10000, min_split_gain=1.1, min_child_weight=3, min_child_samples=50, metric=auc, max_depth=20, max_bin=50, learning_rate=0.1, colsample_bytree=0.2 \n",
      "[CV]  subsample_freq=100, subsample_for_bin=10, subsample=0.4, scale_pos_weight=18.951239977624464, reg_lambda=0, reg_alpha=3, objective=binary, num_leaves=10000, min_split_gain=1.1, min_child_weight=3, min_child_samples=50, metric=auc, max_depth=20, max_bin=50, learning_rate=0.1, colsample_bytree=0.2, total=  14.2s\n",
      "[CV] subsample_freq=100, subsample_for_bin=10, subsample=0.4, scale_pos_weight=18.951239977624464, reg_lambda=0, reg_alpha=3, objective=binary, num_leaves=10000, min_split_gain=1.1, min_child_weight=3, min_child_samples=50, metric=auc, max_depth=20, max_bin=50, learning_rate=0.1, colsample_bytree=0.2 \n",
      "[CV]  subsample_freq=100, subsample_for_bin=10, subsample=0.4, scale_pos_weight=18.951239977624464, reg_lambda=0, reg_alpha=3, objective=binary, num_leaves=10000, min_split_gain=1.1, min_child_weight=3, min_child_samples=50, metric=auc, max_depth=20, max_bin=50, learning_rate=0.1, colsample_bytree=0.2, total=  15.5s\n",
      "[CV] subsample_freq=100, subsample_for_bin=10, subsample=0.4, scale_pos_weight=18.951239977624464, reg_lambda=0, reg_alpha=3, objective=binary, num_leaves=10000, min_split_gain=1.1, min_child_weight=3, min_child_samples=50, metric=auc, max_depth=20, max_bin=50, learning_rate=0.1, colsample_bytree=0.2 \n",
      "[CV]  subsample_freq=100, subsample_for_bin=10, subsample=0.4, scale_pos_weight=18.951239977624464, reg_lambda=0, reg_alpha=3, objective=binary, num_leaves=10000, min_split_gain=1.1, min_child_weight=3, min_child_samples=50, metric=auc, max_depth=20, max_bin=50, learning_rate=0.1, colsample_bytree=0.2, total=   9.7s\n",
      "[CV] subsample_freq=100, subsample_for_bin=10, subsample=0.4, scale_pos_weight=18.951239977624464, reg_lambda=0, reg_alpha=3, objective=binary, num_leaves=10000, min_split_gain=1.1, min_child_weight=3, min_child_samples=50, metric=auc, max_depth=20, max_bin=50, learning_rate=0.1, colsample_bytree=0.2 \n"
     ]
    },
    {
     "name": "stdout",
     "output_type": "stream",
     "text": [
      "[CV]  subsample_freq=100, subsample_for_bin=10, subsample=0.4, scale_pos_weight=18.951239977624464, reg_lambda=0, reg_alpha=3, objective=binary, num_leaves=10000, min_split_gain=1.1, min_child_weight=3, min_child_samples=50, metric=auc, max_depth=20, max_bin=50, learning_rate=0.1, colsample_bytree=0.2, total=  17.6s\n",
      "[CV] subsample_freq=30, subsample_for_bin=200, subsample=0.1, scale_pos_weight=18.951239977624464, reg_lambda=0.2, reg_alpha=3, objective=binary, num_leaves=1000, min_split_gain=1.1, min_child_weight=3, min_child_samples=50, metric=auc, max_depth=30, max_bin=200, learning_rate=0.005, colsample_bytree=0.2 \n",
      "[CV]  subsample_freq=30, subsample_for_bin=200, subsample=0.1, scale_pos_weight=18.951239977624464, reg_lambda=0.2, reg_alpha=3, objective=binary, num_leaves=1000, min_split_gain=1.1, min_child_weight=3, min_child_samples=50, metric=auc, max_depth=30, max_bin=200, learning_rate=0.005, colsample_bytree=0.2, total=  22.8s\n",
      "[CV] subsample_freq=30, subsample_for_bin=200, subsample=0.1, scale_pos_weight=18.951239977624464, reg_lambda=0.2, reg_alpha=3, objective=binary, num_leaves=1000, min_split_gain=1.1, min_child_weight=3, min_child_samples=50, metric=auc, max_depth=30, max_bin=200, learning_rate=0.005, colsample_bytree=0.2 \n",
      "[CV]  subsample_freq=30, subsample_for_bin=200, subsample=0.1, scale_pos_weight=18.951239977624464, reg_lambda=0.2, reg_alpha=3, objective=binary, num_leaves=1000, min_split_gain=1.1, min_child_weight=3, min_child_samples=50, metric=auc, max_depth=30, max_bin=200, learning_rate=0.005, colsample_bytree=0.2, total=  18.0s\n",
      "[CV] subsample_freq=30, subsample_for_bin=200, subsample=0.1, scale_pos_weight=18.951239977624464, reg_lambda=0.2, reg_alpha=3, objective=binary, num_leaves=1000, min_split_gain=1.1, min_child_weight=3, min_child_samples=50, metric=auc, max_depth=30, max_bin=200, learning_rate=0.005, colsample_bytree=0.2 \n",
      "[CV]  subsample_freq=30, subsample_for_bin=200, subsample=0.1, scale_pos_weight=18.951239977624464, reg_lambda=0.2, reg_alpha=3, objective=binary, num_leaves=1000, min_split_gain=1.1, min_child_weight=3, min_child_samples=50, metric=auc, max_depth=30, max_bin=200, learning_rate=0.005, colsample_bytree=0.2, total=  17.4s\n",
      "[CV] subsample_freq=30, subsample_for_bin=200, subsample=0.1, scale_pos_weight=18.951239977624464, reg_lambda=0.2, reg_alpha=3, objective=binary, num_leaves=1000, min_split_gain=1.1, min_child_weight=3, min_child_samples=50, metric=auc, max_depth=30, max_bin=200, learning_rate=0.005, colsample_bytree=0.2 \n",
      "[CV]  subsample_freq=30, subsample_for_bin=200, subsample=0.1, scale_pos_weight=18.951239977624464, reg_lambda=0.2, reg_alpha=3, objective=binary, num_leaves=1000, min_split_gain=1.1, min_child_weight=3, min_child_samples=50, metric=auc, max_depth=30, max_bin=200, learning_rate=0.005, colsample_bytree=0.2, total=  17.5s\n",
      "[CV] subsample_freq=100, subsample_for_bin=10, subsample=0.4, scale_pos_weight=18.951239977624464, reg_lambda=0, reg_alpha=7, objective=binary, num_leaves=10000, min_split_gain=10.0, min_child_weight=3, min_child_samples=100, metric=auc, max_depth=20, max_bin=200, learning_rate=0.05, colsample_bytree=0.3 \n",
      "[CV]  subsample_freq=100, subsample_for_bin=10, subsample=0.4, scale_pos_weight=18.951239977624464, reg_lambda=0, reg_alpha=7, objective=binary, num_leaves=10000, min_split_gain=10.0, min_child_weight=3, min_child_samples=100, metric=auc, max_depth=20, max_bin=200, learning_rate=0.05, colsample_bytree=0.3, total=  12.3s\n",
      "[CV] subsample_freq=100, subsample_for_bin=10, subsample=0.4, scale_pos_weight=18.951239977624464, reg_lambda=0, reg_alpha=7, objective=binary, num_leaves=10000, min_split_gain=10.0, min_child_weight=3, min_child_samples=100, metric=auc, max_depth=20, max_bin=200, learning_rate=0.05, colsample_bytree=0.3 \n",
      "[CV]  subsample_freq=100, subsample_for_bin=10, subsample=0.4, scale_pos_weight=18.951239977624464, reg_lambda=0, reg_alpha=7, objective=binary, num_leaves=10000, min_split_gain=10.0, min_child_weight=3, min_child_samples=100, metric=auc, max_depth=20, max_bin=200, learning_rate=0.05, colsample_bytree=0.3, total=  13.1s\n",
      "[CV] subsample_freq=100, subsample_for_bin=10, subsample=0.4, scale_pos_weight=18.951239977624464, reg_lambda=0, reg_alpha=7, objective=binary, num_leaves=10000, min_split_gain=10.0, min_child_weight=3, min_child_samples=100, metric=auc, max_depth=20, max_bin=200, learning_rate=0.05, colsample_bytree=0.3 \n",
      "[CV]  subsample_freq=100, subsample_for_bin=10, subsample=0.4, scale_pos_weight=18.951239977624464, reg_lambda=0, reg_alpha=7, objective=binary, num_leaves=10000, min_split_gain=10.0, min_child_weight=3, min_child_samples=100, metric=auc, max_depth=20, max_bin=200, learning_rate=0.05, colsample_bytree=0.3, total=   8.8s\n",
      "[CV] subsample_freq=100, subsample_for_bin=10, subsample=0.4, scale_pos_weight=18.951239977624464, reg_lambda=0, reg_alpha=7, objective=binary, num_leaves=10000, min_split_gain=10.0, min_child_weight=3, min_child_samples=100, metric=auc, max_depth=20, max_bin=200, learning_rate=0.05, colsample_bytree=0.3 \n",
      "[CV]  subsample_freq=100, subsample_for_bin=10, subsample=0.4, scale_pos_weight=18.951239977624464, reg_lambda=0, reg_alpha=7, objective=binary, num_leaves=10000, min_split_gain=10.0, min_child_weight=3, min_child_samples=100, metric=auc, max_depth=20, max_bin=200, learning_rate=0.05, colsample_bytree=0.3, total=  15.3s\n",
      "[CV] subsample_freq=2, subsample_for_bin=10, subsample=0.4, scale_pos_weight=18.951239977624464, reg_lambda=0.2, reg_alpha=8, objective=binary, num_leaves=50, min_split_gain=2.0, min_child_weight=3, min_child_samples=50, metric=auc, max_depth=20, max_bin=50, learning_rate=0.005, colsample_bytree=0.2 \n",
      "[CV]  subsample_freq=2, subsample_for_bin=10, subsample=0.4, scale_pos_weight=18.951239977624464, reg_lambda=0.2, reg_alpha=8, objective=binary, num_leaves=50, min_split_gain=2.0, min_child_weight=3, min_child_samples=50, metric=auc, max_depth=20, max_bin=50, learning_rate=0.005, colsample_bytree=0.2, total=  10.2s\n",
      "[CV] subsample_freq=2, subsample_for_bin=10, subsample=0.4, scale_pos_weight=18.951239977624464, reg_lambda=0.2, reg_alpha=8, objective=binary, num_leaves=50, min_split_gain=2.0, min_child_weight=3, min_child_samples=50, metric=auc, max_depth=20, max_bin=50, learning_rate=0.005, colsample_bytree=0.2 \n",
      "[CV]  subsample_freq=2, subsample_for_bin=10, subsample=0.4, scale_pos_weight=18.951239977624464, reg_lambda=0.2, reg_alpha=8, objective=binary, num_leaves=50, min_split_gain=2.0, min_child_weight=3, min_child_samples=50, metric=auc, max_depth=20, max_bin=50, learning_rate=0.005, colsample_bytree=0.2, total=  10.9s\n",
      "[CV] subsample_freq=2, subsample_for_bin=10, subsample=0.4, scale_pos_weight=18.951239977624464, reg_lambda=0.2, reg_alpha=8, objective=binary, num_leaves=50, min_split_gain=2.0, min_child_weight=3, min_child_samples=50, metric=auc, max_depth=20, max_bin=50, learning_rate=0.005, colsample_bytree=0.2 \n",
      "[CV]  subsample_freq=2, subsample_for_bin=10, subsample=0.4, scale_pos_weight=18.951239977624464, reg_lambda=0.2, reg_alpha=8, objective=binary, num_leaves=50, min_split_gain=2.0, min_child_weight=3, min_child_samples=50, metric=auc, max_depth=20, max_bin=50, learning_rate=0.005, colsample_bytree=0.2, total=   8.0s\n",
      "[CV] subsample_freq=2, subsample_for_bin=10, subsample=0.4, scale_pos_weight=18.951239977624464, reg_lambda=0.2, reg_alpha=8, objective=binary, num_leaves=50, min_split_gain=2.0, min_child_weight=3, min_child_samples=50, metric=auc, max_depth=20, max_bin=50, learning_rate=0.005, colsample_bytree=0.2 \n",
      "[CV]  subsample_freq=2, subsample_for_bin=10, subsample=0.4, scale_pos_weight=18.951239977624464, reg_lambda=0.2, reg_alpha=8, objective=binary, num_leaves=50, min_split_gain=2.0, min_child_weight=3, min_child_samples=50, metric=auc, max_depth=20, max_bin=50, learning_rate=0.005, colsample_bytree=0.2, total=  12.2s\n",
      "[CV] subsample_freq=2, subsample_for_bin=10, subsample=0.1, scale_pos_weight=0.05276699578395344, reg_lambda=0, reg_alpha=8, objective=binary, num_leaves=10000, min_split_gain=2.0, min_child_weight=6, min_child_samples=100, metric=auc, max_depth=20, max_bin=200, learning_rate=0.005, colsample_bytree=0.3 \n",
      "[CV]  subsample_freq=2, subsample_for_bin=10, subsample=0.1, scale_pos_weight=0.05276699578395344, reg_lambda=0, reg_alpha=8, objective=binary, num_leaves=10000, min_split_gain=2.0, min_child_weight=6, min_child_samples=100, metric=auc, max_depth=20, max_bin=200, learning_rate=0.005, colsample_bytree=0.3, total=   6.6s\n",
      "[CV] subsample_freq=2, subsample_for_bin=10, subsample=0.1, scale_pos_weight=0.05276699578395344, reg_lambda=0, reg_alpha=8, objective=binary, num_leaves=10000, min_split_gain=2.0, min_child_weight=6, min_child_samples=100, metric=auc, max_depth=20, max_bin=200, learning_rate=0.005, colsample_bytree=0.3 \n"
     ]
    },
    {
     "name": "stdout",
     "output_type": "stream",
     "text": [
      "[CV]  subsample_freq=2, subsample_for_bin=10, subsample=0.1, scale_pos_weight=0.05276699578395344, reg_lambda=0, reg_alpha=8, objective=binary, num_leaves=10000, min_split_gain=2.0, min_child_weight=6, min_child_samples=100, metric=auc, max_depth=20, max_bin=200, learning_rate=0.005, colsample_bytree=0.3, total=   6.4s\n",
      "[CV] subsample_freq=2, subsample_for_bin=10, subsample=0.1, scale_pos_weight=0.05276699578395344, reg_lambda=0, reg_alpha=8, objective=binary, num_leaves=10000, min_split_gain=2.0, min_child_weight=6, min_child_samples=100, metric=auc, max_depth=20, max_bin=200, learning_rate=0.005, colsample_bytree=0.3 \n",
      "[CV]  subsample_freq=2, subsample_for_bin=10, subsample=0.1, scale_pos_weight=0.05276699578395344, reg_lambda=0, reg_alpha=8, objective=binary, num_leaves=10000, min_split_gain=2.0, min_child_weight=6, min_child_samples=100, metric=auc, max_depth=20, max_bin=200, learning_rate=0.005, colsample_bytree=0.3, total=   5.9s\n",
      "[CV] subsample_freq=2, subsample_for_bin=10, subsample=0.1, scale_pos_weight=0.05276699578395344, reg_lambda=0, reg_alpha=8, objective=binary, num_leaves=10000, min_split_gain=2.0, min_child_weight=6, min_child_samples=100, metric=auc, max_depth=20, max_bin=200, learning_rate=0.005, colsample_bytree=0.3 \n",
      "[CV]  subsample_freq=2, subsample_for_bin=10, subsample=0.1, scale_pos_weight=0.05276699578395344, reg_lambda=0, reg_alpha=8, objective=binary, num_leaves=10000, min_split_gain=2.0, min_child_weight=6, min_child_samples=100, metric=auc, max_depth=20, max_bin=200, learning_rate=0.005, colsample_bytree=0.3, total=   7.0s\n",
      "[CV] subsample_freq=100, subsample_for_bin=200, subsample=0.7, scale_pos_weight=0.05276699578395344, reg_lambda=0, reg_alpha=2, objective=binary, num_leaves=1000, min_split_gain=1.1, min_child_weight=3, min_child_samples=100, metric=auc, max_depth=10, max_bin=50, learning_rate=0.05, colsample_bytree=0.2 \n",
      "[CV]  subsample_freq=100, subsample_for_bin=200, subsample=0.7, scale_pos_weight=0.05276699578395344, reg_lambda=0, reg_alpha=2, objective=binary, num_leaves=1000, min_split_gain=1.1, min_child_weight=3, min_child_samples=100, metric=auc, max_depth=10, max_bin=50, learning_rate=0.05, colsample_bytree=0.2, total=  21.5s\n",
      "[CV] subsample_freq=100, subsample_for_bin=200, subsample=0.7, scale_pos_weight=0.05276699578395344, reg_lambda=0, reg_alpha=2, objective=binary, num_leaves=1000, min_split_gain=1.1, min_child_weight=3, min_child_samples=100, metric=auc, max_depth=10, max_bin=50, learning_rate=0.05, colsample_bytree=0.2 \n",
      "[CV]  subsample_freq=100, subsample_for_bin=200, subsample=0.7, scale_pos_weight=0.05276699578395344, reg_lambda=0, reg_alpha=2, objective=binary, num_leaves=1000, min_split_gain=1.1, min_child_weight=3, min_child_samples=100, metric=auc, max_depth=10, max_bin=50, learning_rate=0.05, colsample_bytree=0.2, total=  18.7s\n",
      "[CV] subsample_freq=100, subsample_for_bin=200, subsample=0.7, scale_pos_weight=0.05276699578395344, reg_lambda=0, reg_alpha=2, objective=binary, num_leaves=1000, min_split_gain=1.1, min_child_weight=3, min_child_samples=100, metric=auc, max_depth=10, max_bin=50, learning_rate=0.05, colsample_bytree=0.2 \n",
      "[CV]  subsample_freq=100, subsample_for_bin=200, subsample=0.7, scale_pos_weight=0.05276699578395344, reg_lambda=0, reg_alpha=2, objective=binary, num_leaves=1000, min_split_gain=1.1, min_child_weight=3, min_child_samples=100, metric=auc, max_depth=10, max_bin=50, learning_rate=0.05, colsample_bytree=0.2, total=  17.5s\n",
      "[CV] subsample_freq=100, subsample_for_bin=200, subsample=0.7, scale_pos_weight=0.05276699578395344, reg_lambda=0, reg_alpha=2, objective=binary, num_leaves=1000, min_split_gain=1.1, min_child_weight=3, min_child_samples=100, metric=auc, max_depth=10, max_bin=50, learning_rate=0.05, colsample_bytree=0.2 \n",
      "[CV]  subsample_freq=100, subsample_for_bin=200, subsample=0.7, scale_pos_weight=0.05276699578395344, reg_lambda=0, reg_alpha=2, objective=binary, num_leaves=1000, min_split_gain=1.1, min_child_weight=3, min_child_samples=100, metric=auc, max_depth=10, max_bin=50, learning_rate=0.05, colsample_bytree=0.2, total=  18.4s\n",
      "[CV] subsample_freq=30, subsample_for_bin=200, subsample=0.4, scale_pos_weight=18.951239977624464, reg_lambda=0.2, reg_alpha=3, objective=binary, num_leaves=10000, min_split_gain=2.0, min_child_weight=6, min_child_samples=50, metric=auc, max_depth=20, max_bin=200, learning_rate=0.05, colsample_bytree=0.2 \n",
      "[CV]  subsample_freq=30, subsample_for_bin=200, subsample=0.4, scale_pos_weight=18.951239977624464, reg_lambda=0.2, reg_alpha=3, objective=binary, num_leaves=10000, min_split_gain=2.0, min_child_weight=6, min_child_samples=50, metric=auc, max_depth=20, max_bin=200, learning_rate=0.05, colsample_bytree=0.2, total=  57.4s\n",
      "[CV] subsample_freq=30, subsample_for_bin=200, subsample=0.4, scale_pos_weight=18.951239977624464, reg_lambda=0.2, reg_alpha=3, objective=binary, num_leaves=10000, min_split_gain=2.0, min_child_weight=6, min_child_samples=50, metric=auc, max_depth=20, max_bin=200, learning_rate=0.05, colsample_bytree=0.2 \n",
      "[CV]  subsample_freq=30, subsample_for_bin=200, subsample=0.4, scale_pos_weight=18.951239977624464, reg_lambda=0.2, reg_alpha=3, objective=binary, num_leaves=10000, min_split_gain=2.0, min_child_weight=6, min_child_samples=50, metric=auc, max_depth=20, max_bin=200, learning_rate=0.05, colsample_bytree=0.2, total=  44.7s\n",
      "[CV] subsample_freq=30, subsample_for_bin=200, subsample=0.4, scale_pos_weight=18.951239977624464, reg_lambda=0.2, reg_alpha=3, objective=binary, num_leaves=10000, min_split_gain=2.0, min_child_weight=6, min_child_samples=50, metric=auc, max_depth=20, max_bin=200, learning_rate=0.05, colsample_bytree=0.2 \n",
      "[CV]  subsample_freq=30, subsample_for_bin=200, subsample=0.4, scale_pos_weight=18.951239977624464, reg_lambda=0.2, reg_alpha=3, objective=binary, num_leaves=10000, min_split_gain=2.0, min_child_weight=6, min_child_samples=50, metric=auc, max_depth=20, max_bin=200, learning_rate=0.05, colsample_bytree=0.2, total=  41.0s\n",
      "[CV] subsample_freq=30, subsample_for_bin=200, subsample=0.4, scale_pos_weight=18.951239977624464, reg_lambda=0.2, reg_alpha=3, objective=binary, num_leaves=10000, min_split_gain=2.0, min_child_weight=6, min_child_samples=50, metric=auc, max_depth=20, max_bin=200, learning_rate=0.05, colsample_bytree=0.2 \n",
      "[CV]  subsample_freq=30, subsample_for_bin=200, subsample=0.4, scale_pos_weight=18.951239977624464, reg_lambda=0.2, reg_alpha=3, objective=binary, num_leaves=10000, min_split_gain=2.0, min_child_weight=6, min_child_samples=50, metric=auc, max_depth=20, max_bin=200, learning_rate=0.05, colsample_bytree=0.2, total=  39.9s\n",
      "[CV] subsample_freq=30, subsample_for_bin=100, subsample=0.7, scale_pos_weight=0.05276699578395344, reg_lambda=0.8, reg_alpha=2, objective=binary, num_leaves=1000, min_split_gain=1.1, min_child_weight=6, min_child_samples=50, metric=auc, max_depth=30, max_bin=50, learning_rate=0.05, colsample_bytree=0.7 \n",
      "[CV]  subsample_freq=30, subsample_for_bin=100, subsample=0.7, scale_pos_weight=0.05276699578395344, reg_lambda=0.8, reg_alpha=2, objective=binary, num_leaves=1000, min_split_gain=1.1, min_child_weight=6, min_child_samples=50, metric=auc, max_depth=30, max_bin=50, learning_rate=0.05, colsample_bytree=0.7, total=  20.7s\n",
      "[CV] subsample_freq=30, subsample_for_bin=100, subsample=0.7, scale_pos_weight=0.05276699578395344, reg_lambda=0.8, reg_alpha=2, objective=binary, num_leaves=1000, min_split_gain=1.1, min_child_weight=6, min_child_samples=50, metric=auc, max_depth=30, max_bin=50, learning_rate=0.05, colsample_bytree=0.7 \n",
      "[CV]  subsample_freq=30, subsample_for_bin=100, subsample=0.7, scale_pos_weight=0.05276699578395344, reg_lambda=0.8, reg_alpha=2, objective=binary, num_leaves=1000, min_split_gain=1.1, min_child_weight=6, min_child_samples=50, metric=auc, max_depth=30, max_bin=50, learning_rate=0.05, colsample_bytree=0.7, total=  17.8s\n",
      "[CV] subsample_freq=30, subsample_for_bin=100, subsample=0.7, scale_pos_weight=0.05276699578395344, reg_lambda=0.8, reg_alpha=2, objective=binary, num_leaves=1000, min_split_gain=1.1, min_child_weight=6, min_child_samples=50, metric=auc, max_depth=30, max_bin=50, learning_rate=0.05, colsample_bytree=0.7 \n",
      "[CV]  subsample_freq=30, subsample_for_bin=100, subsample=0.7, scale_pos_weight=0.05276699578395344, reg_lambda=0.8, reg_alpha=2, objective=binary, num_leaves=1000, min_split_gain=1.1, min_child_weight=6, min_child_samples=50, metric=auc, max_depth=30, max_bin=50, learning_rate=0.05, colsample_bytree=0.7, total=  19.3s\n",
      "[CV] subsample_freq=30, subsample_for_bin=100, subsample=0.7, scale_pos_weight=0.05276699578395344, reg_lambda=0.8, reg_alpha=2, objective=binary, num_leaves=1000, min_split_gain=1.1, min_child_weight=6, min_child_samples=50, metric=auc, max_depth=30, max_bin=50, learning_rate=0.05, colsample_bytree=0.7 \n"
     ]
    },
    {
     "name": "stdout",
     "output_type": "stream",
     "text": [
      "[CV]  subsample_freq=30, subsample_for_bin=100, subsample=0.7, scale_pos_weight=0.05276699578395344, reg_lambda=0.8, reg_alpha=2, objective=binary, num_leaves=1000, min_split_gain=1.1, min_child_weight=6, min_child_samples=50, metric=auc, max_depth=30, max_bin=50, learning_rate=0.05, colsample_bytree=0.7, total=  19.6s\n",
      "[CV] subsample_freq=2, subsample_for_bin=10, subsample=0.1, scale_pos_weight=0.05276699578395344, reg_lambda=0.8, reg_alpha=3, objective=binary, num_leaves=10000, min_split_gain=2.0, min_child_weight=3, min_child_samples=30, metric=auc, max_depth=40, max_bin=100, learning_rate=0.05, colsample_bytree=0.3 \n",
      "[CV]  subsample_freq=2, subsample_for_bin=10, subsample=0.1, scale_pos_weight=0.05276699578395344, reg_lambda=0.8, reg_alpha=3, objective=binary, num_leaves=10000, min_split_gain=2.0, min_child_weight=3, min_child_samples=30, metric=auc, max_depth=40, max_bin=100, learning_rate=0.05, colsample_bytree=0.3, total=   6.5s\n",
      "[CV] subsample_freq=2, subsample_for_bin=10, subsample=0.1, scale_pos_weight=0.05276699578395344, reg_lambda=0.8, reg_alpha=3, objective=binary, num_leaves=10000, min_split_gain=2.0, min_child_weight=3, min_child_samples=30, metric=auc, max_depth=40, max_bin=100, learning_rate=0.05, colsample_bytree=0.3 \n",
      "[CV]  subsample_freq=2, subsample_for_bin=10, subsample=0.1, scale_pos_weight=0.05276699578395344, reg_lambda=0.8, reg_alpha=3, objective=binary, num_leaves=10000, min_split_gain=2.0, min_child_weight=3, min_child_samples=30, metric=auc, max_depth=40, max_bin=100, learning_rate=0.05, colsample_bytree=0.3, total=   6.5s\n",
      "[CV] subsample_freq=2, subsample_for_bin=10, subsample=0.1, scale_pos_weight=0.05276699578395344, reg_lambda=0.8, reg_alpha=3, objective=binary, num_leaves=10000, min_split_gain=2.0, min_child_weight=3, min_child_samples=30, metric=auc, max_depth=40, max_bin=100, learning_rate=0.05, colsample_bytree=0.3 \n",
      "[CV]  subsample_freq=2, subsample_for_bin=10, subsample=0.1, scale_pos_weight=0.05276699578395344, reg_lambda=0.8, reg_alpha=3, objective=binary, num_leaves=10000, min_split_gain=2.0, min_child_weight=3, min_child_samples=30, metric=auc, max_depth=40, max_bin=100, learning_rate=0.05, colsample_bytree=0.3, total=   6.0s\n",
      "[CV] subsample_freq=2, subsample_for_bin=10, subsample=0.1, scale_pos_weight=0.05276699578395344, reg_lambda=0.8, reg_alpha=3, objective=binary, num_leaves=10000, min_split_gain=2.0, min_child_weight=3, min_child_samples=30, metric=auc, max_depth=40, max_bin=100, learning_rate=0.05, colsample_bytree=0.3 \n",
      "[CV]  subsample_freq=2, subsample_for_bin=10, subsample=0.1, scale_pos_weight=0.05276699578395344, reg_lambda=0.8, reg_alpha=3, objective=binary, num_leaves=10000, min_split_gain=2.0, min_child_weight=3, min_child_samples=30, metric=auc, max_depth=40, max_bin=100, learning_rate=0.05, colsample_bytree=0.3, total=   7.0s\n",
      "[CV] subsample_freq=2, subsample_for_bin=200, subsample=0.4, scale_pos_weight=0.05276699578395344, reg_lambda=0, reg_alpha=7, objective=binary, num_leaves=10000, min_split_gain=10.0, min_child_weight=2, min_child_samples=50, metric=auc, max_depth=40, max_bin=100, learning_rate=0.005, colsample_bytree=0.7 \n",
      "[CV]  subsample_freq=2, subsample_for_bin=200, subsample=0.4, scale_pos_weight=0.05276699578395344, reg_lambda=0, reg_alpha=7, objective=binary, num_leaves=10000, min_split_gain=10.0, min_child_weight=2, min_child_samples=50, metric=auc, max_depth=40, max_bin=100, learning_rate=0.005, colsample_bytree=0.7, total=  22.5s\n",
      "[CV] subsample_freq=2, subsample_for_bin=200, subsample=0.4, scale_pos_weight=0.05276699578395344, reg_lambda=0, reg_alpha=7, objective=binary, num_leaves=10000, min_split_gain=10.0, min_child_weight=2, min_child_samples=50, metric=auc, max_depth=40, max_bin=100, learning_rate=0.005, colsample_bytree=0.7 \n",
      "[CV]  subsample_freq=2, subsample_for_bin=200, subsample=0.4, scale_pos_weight=0.05276699578395344, reg_lambda=0, reg_alpha=7, objective=binary, num_leaves=10000, min_split_gain=10.0, min_child_weight=2, min_child_samples=50, metric=auc, max_depth=40, max_bin=100, learning_rate=0.005, colsample_bytree=0.7, total=  20.3s\n",
      "[CV] subsample_freq=2, subsample_for_bin=200, subsample=0.4, scale_pos_weight=0.05276699578395344, reg_lambda=0, reg_alpha=7, objective=binary, num_leaves=10000, min_split_gain=10.0, min_child_weight=2, min_child_samples=50, metric=auc, max_depth=40, max_bin=100, learning_rate=0.005, colsample_bytree=0.7 \n",
      "[CV]  subsample_freq=2, subsample_for_bin=200, subsample=0.4, scale_pos_weight=0.05276699578395344, reg_lambda=0, reg_alpha=7, objective=binary, num_leaves=10000, min_split_gain=10.0, min_child_weight=2, min_child_samples=50, metric=auc, max_depth=40, max_bin=100, learning_rate=0.005, colsample_bytree=0.7, total=  17.8s\n",
      "[CV] subsample_freq=2, subsample_for_bin=200, subsample=0.4, scale_pos_weight=0.05276699578395344, reg_lambda=0, reg_alpha=7, objective=binary, num_leaves=10000, min_split_gain=10.0, min_child_weight=2, min_child_samples=50, metric=auc, max_depth=40, max_bin=100, learning_rate=0.005, colsample_bytree=0.7 \n",
      "[CV]  subsample_freq=2, subsample_for_bin=200, subsample=0.4, scale_pos_weight=0.05276699578395344, reg_lambda=0, reg_alpha=7, objective=binary, num_leaves=10000, min_split_gain=10.0, min_child_weight=2, min_child_samples=50, metric=auc, max_depth=40, max_bin=100, learning_rate=0.005, colsample_bytree=0.7, total=  18.5s\n",
      "[CV] subsample_freq=2, subsample_for_bin=10, subsample=0.4, scale_pos_weight=18.951239977624464, reg_lambda=0, reg_alpha=3, objective=binary, num_leaves=50, min_split_gain=1.1, min_child_weight=6, min_child_samples=100, metric=auc, max_depth=20, max_bin=50, learning_rate=0.05, colsample_bytree=0.7 \n",
      "[CV]  subsample_freq=2, subsample_for_bin=10, subsample=0.4, scale_pos_weight=18.951239977624464, reg_lambda=0, reg_alpha=3, objective=binary, num_leaves=50, min_split_gain=1.1, min_child_weight=6, min_child_samples=100, metric=auc, max_depth=20, max_bin=50, learning_rate=0.05, colsample_bytree=0.7, total=  15.0s\n",
      "[CV] subsample_freq=2, subsample_for_bin=10, subsample=0.4, scale_pos_weight=18.951239977624464, reg_lambda=0, reg_alpha=3, objective=binary, num_leaves=50, min_split_gain=1.1, min_child_weight=6, min_child_samples=100, metric=auc, max_depth=20, max_bin=50, learning_rate=0.05, colsample_bytree=0.7 \n",
      "[CV]  subsample_freq=2, subsample_for_bin=10, subsample=0.4, scale_pos_weight=18.951239977624464, reg_lambda=0, reg_alpha=3, objective=binary, num_leaves=50, min_split_gain=1.1, min_child_weight=6, min_child_samples=100, metric=auc, max_depth=20, max_bin=50, learning_rate=0.05, colsample_bytree=0.7, total=  14.9s\n",
      "[CV] subsample_freq=2, subsample_for_bin=10, subsample=0.4, scale_pos_weight=18.951239977624464, reg_lambda=0, reg_alpha=3, objective=binary, num_leaves=50, min_split_gain=1.1, min_child_weight=6, min_child_samples=100, metric=auc, max_depth=20, max_bin=50, learning_rate=0.05, colsample_bytree=0.7 \n",
      "[CV]  subsample_freq=2, subsample_for_bin=10, subsample=0.4, scale_pos_weight=18.951239977624464, reg_lambda=0, reg_alpha=3, objective=binary, num_leaves=50, min_split_gain=1.1, min_child_weight=6, min_child_samples=100, metric=auc, max_depth=20, max_bin=50, learning_rate=0.05, colsample_bytree=0.7, total=  10.8s\n",
      "[CV] subsample_freq=2, subsample_for_bin=10, subsample=0.4, scale_pos_weight=18.951239977624464, reg_lambda=0, reg_alpha=3, objective=binary, num_leaves=50, min_split_gain=1.1, min_child_weight=6, min_child_samples=100, metric=auc, max_depth=20, max_bin=50, learning_rate=0.05, colsample_bytree=0.7 \n",
      "[CV]  subsample_freq=2, subsample_for_bin=10, subsample=0.4, scale_pos_weight=18.951239977624464, reg_lambda=0, reg_alpha=3, objective=binary, num_leaves=50, min_split_gain=1.1, min_child_weight=6, min_child_samples=100, metric=auc, max_depth=20, max_bin=50, learning_rate=0.05, colsample_bytree=0.7, total=  17.0s\n",
      "[CV] subsample_freq=100, subsample_for_bin=200, subsample=0.4, scale_pos_weight=18.951239977624464, reg_lambda=0.8, reg_alpha=8, objective=binary, num_leaves=10000, min_split_gain=1.1, min_child_weight=6, min_child_samples=100, metric=auc, max_depth=30, max_bin=200, learning_rate=0.005, colsample_bytree=0.3 \n",
      "[CV]  subsample_freq=100, subsample_for_bin=200, subsample=0.4, scale_pos_weight=18.951239977624464, reg_lambda=0.8, reg_alpha=8, objective=binary, num_leaves=10000, min_split_gain=1.1, min_child_weight=6, min_child_samples=100, metric=auc, max_depth=30, max_bin=200, learning_rate=0.005, colsample_bytree=0.3, total=  57.3s\n",
      "[CV] subsample_freq=100, subsample_for_bin=200, subsample=0.4, scale_pos_weight=18.951239977624464, reg_lambda=0.8, reg_alpha=8, objective=binary, num_leaves=10000, min_split_gain=1.1, min_child_weight=6, min_child_samples=100, metric=auc, max_depth=30, max_bin=200, learning_rate=0.005, colsample_bytree=0.3 \n"
     ]
    },
    {
     "name": "stdout",
     "output_type": "stream",
     "text": [
      "[CV]  subsample_freq=100, subsample_for_bin=200, subsample=0.4, scale_pos_weight=18.951239977624464, reg_lambda=0.8, reg_alpha=8, objective=binary, num_leaves=10000, min_split_gain=1.1, min_child_weight=6, min_child_samples=100, metric=auc, max_depth=30, max_bin=200, learning_rate=0.005, colsample_bytree=0.3, total=  42.7s\n",
      "[CV] subsample_freq=100, subsample_for_bin=200, subsample=0.4, scale_pos_weight=18.951239977624464, reg_lambda=0.8, reg_alpha=8, objective=binary, num_leaves=10000, min_split_gain=1.1, min_child_weight=6, min_child_samples=100, metric=auc, max_depth=30, max_bin=200, learning_rate=0.005, colsample_bytree=0.3 \n",
      "[CV]  subsample_freq=100, subsample_for_bin=200, subsample=0.4, scale_pos_weight=18.951239977624464, reg_lambda=0.8, reg_alpha=8, objective=binary, num_leaves=10000, min_split_gain=1.1, min_child_weight=6, min_child_samples=100, metric=auc, max_depth=30, max_bin=200, learning_rate=0.005, colsample_bytree=0.3, total=  41.5s\n",
      "[CV] subsample_freq=100, subsample_for_bin=200, subsample=0.4, scale_pos_weight=18.951239977624464, reg_lambda=0.8, reg_alpha=8, objective=binary, num_leaves=10000, min_split_gain=1.1, min_child_weight=6, min_child_samples=100, metric=auc, max_depth=30, max_bin=200, learning_rate=0.005, colsample_bytree=0.3 \n",
      "[CV]  subsample_freq=100, subsample_for_bin=200, subsample=0.4, scale_pos_weight=18.951239977624464, reg_lambda=0.8, reg_alpha=8, objective=binary, num_leaves=10000, min_split_gain=1.1, min_child_weight=6, min_child_samples=100, metric=auc, max_depth=30, max_bin=200, learning_rate=0.005, colsample_bytree=0.3, total=  40.5s\n",
      "[CV] subsample_freq=30, subsample_for_bin=100, subsample=0.1, scale_pos_weight=1, reg_lambda=0, reg_alpha=8, objective=binary, num_leaves=10000, min_split_gain=10.0, min_child_weight=2, min_child_samples=100, metric=auc, max_depth=40, max_bin=100, learning_rate=0.05, colsample_bytree=0.3 \n",
      "[CV]  subsample_freq=30, subsample_for_bin=100, subsample=0.1, scale_pos_weight=1, reg_lambda=0, reg_alpha=8, objective=binary, num_leaves=10000, min_split_gain=10.0, min_child_weight=2, min_child_samples=100, metric=auc, max_depth=40, max_bin=100, learning_rate=0.05, colsample_bytree=0.3, total=  14.4s\n",
      "[CV] subsample_freq=30, subsample_for_bin=100, subsample=0.1, scale_pos_weight=1, reg_lambda=0, reg_alpha=8, objective=binary, num_leaves=10000, min_split_gain=10.0, min_child_weight=2, min_child_samples=100, metric=auc, max_depth=40, max_bin=100, learning_rate=0.05, colsample_bytree=0.3 \n",
      "[CV]  subsample_freq=30, subsample_for_bin=100, subsample=0.1, scale_pos_weight=1, reg_lambda=0, reg_alpha=8, objective=binary, num_leaves=10000, min_split_gain=10.0, min_child_weight=2, min_child_samples=100, metric=auc, max_depth=40, max_bin=100, learning_rate=0.05, colsample_bytree=0.3, total=  12.5s\n",
      "[CV] subsample_freq=30, subsample_for_bin=100, subsample=0.1, scale_pos_weight=1, reg_lambda=0, reg_alpha=8, objective=binary, num_leaves=10000, min_split_gain=10.0, min_child_weight=2, min_child_samples=100, metric=auc, max_depth=40, max_bin=100, learning_rate=0.05, colsample_bytree=0.3 \n",
      "[CV]  subsample_freq=30, subsample_for_bin=100, subsample=0.1, scale_pos_weight=1, reg_lambda=0, reg_alpha=8, objective=binary, num_leaves=10000, min_split_gain=10.0, min_child_weight=2, min_child_samples=100, metric=auc, max_depth=40, max_bin=100, learning_rate=0.05, colsample_bytree=0.3, total=  13.2s\n",
      "[CV] subsample_freq=30, subsample_for_bin=100, subsample=0.1, scale_pos_weight=1, reg_lambda=0, reg_alpha=8, objective=binary, num_leaves=10000, min_split_gain=10.0, min_child_weight=2, min_child_samples=100, metric=auc, max_depth=40, max_bin=100, learning_rate=0.05, colsample_bytree=0.3 \n",
      "[CV]  subsample_freq=30, subsample_for_bin=100, subsample=0.1, scale_pos_weight=1, reg_lambda=0, reg_alpha=8, objective=binary, num_leaves=10000, min_split_gain=10.0, min_child_weight=2, min_child_samples=100, metric=auc, max_depth=40, max_bin=100, learning_rate=0.05, colsample_bytree=0.3, total=  13.5s\n",
      "[CV] subsample_freq=100, subsample_for_bin=200, subsample=0.1, scale_pos_weight=0.05276699578395344, reg_lambda=0, reg_alpha=3, objective=binary, num_leaves=10000, min_split_gain=10.0, min_child_weight=2, min_child_samples=30, metric=auc, max_depth=20, max_bin=200, learning_rate=0.05, colsample_bytree=0.7 \n",
      "[CV]  subsample_freq=100, subsample_for_bin=200, subsample=0.1, scale_pos_weight=0.05276699578395344, reg_lambda=0, reg_alpha=3, objective=binary, num_leaves=10000, min_split_gain=10.0, min_child_weight=2, min_child_samples=30, metric=auc, max_depth=20, max_bin=200, learning_rate=0.05, colsample_bytree=0.7, total=  16.4s\n",
      "[CV] subsample_freq=100, subsample_for_bin=200, subsample=0.1, scale_pos_weight=0.05276699578395344, reg_lambda=0, reg_alpha=3, objective=binary, num_leaves=10000, min_split_gain=10.0, min_child_weight=2, min_child_samples=30, metric=auc, max_depth=20, max_bin=200, learning_rate=0.05, colsample_bytree=0.7 \n",
      "[CV]  subsample_freq=100, subsample_for_bin=200, subsample=0.1, scale_pos_weight=0.05276699578395344, reg_lambda=0, reg_alpha=3, objective=binary, num_leaves=10000, min_split_gain=10.0, min_child_weight=2, min_child_samples=30, metric=auc, max_depth=20, max_bin=200, learning_rate=0.05, colsample_bytree=0.7, total=  14.9s\n",
      "[CV] subsample_freq=100, subsample_for_bin=200, subsample=0.1, scale_pos_weight=0.05276699578395344, reg_lambda=0, reg_alpha=3, objective=binary, num_leaves=10000, min_split_gain=10.0, min_child_weight=2, min_child_samples=30, metric=auc, max_depth=20, max_bin=200, learning_rate=0.05, colsample_bytree=0.7 \n",
      "[CV]  subsample_freq=100, subsample_for_bin=200, subsample=0.1, scale_pos_weight=0.05276699578395344, reg_lambda=0, reg_alpha=3, objective=binary, num_leaves=10000, min_split_gain=10.0, min_child_weight=2, min_child_samples=30, metric=auc, max_depth=20, max_bin=200, learning_rate=0.05, colsample_bytree=0.7, total=  14.6s\n",
      "[CV] subsample_freq=100, subsample_for_bin=200, subsample=0.1, scale_pos_weight=0.05276699578395344, reg_lambda=0, reg_alpha=3, objective=binary, num_leaves=10000, min_split_gain=10.0, min_child_weight=2, min_child_samples=30, metric=auc, max_depth=20, max_bin=200, learning_rate=0.05, colsample_bytree=0.7 \n",
      "[CV]  subsample_freq=100, subsample_for_bin=200, subsample=0.1, scale_pos_weight=0.05276699578395344, reg_lambda=0, reg_alpha=3, objective=binary, num_leaves=10000, min_split_gain=10.0, min_child_weight=2, min_child_samples=30, metric=auc, max_depth=20, max_bin=200, learning_rate=0.05, colsample_bytree=0.7, total=  14.7s\n",
      "[CV] subsample_freq=2, subsample_for_bin=10, subsample=0.7, scale_pos_weight=0.05276699578395344, reg_lambda=0.2, reg_alpha=8, objective=binary, num_leaves=10000, min_split_gain=1.1, min_child_weight=6, min_child_samples=50, metric=auc, max_depth=30, max_bin=200, learning_rate=0.05, colsample_bytree=0.3 \n",
      "[CV]  subsample_freq=2, subsample_for_bin=10, subsample=0.7, scale_pos_weight=0.05276699578395344, reg_lambda=0.2, reg_alpha=8, objective=binary, num_leaves=10000, min_split_gain=1.1, min_child_weight=6, min_child_samples=50, metric=auc, max_depth=30, max_bin=200, learning_rate=0.05, colsample_bytree=0.3, total=  11.2s\n",
      "[CV] subsample_freq=2, subsample_for_bin=10, subsample=0.7, scale_pos_weight=0.05276699578395344, reg_lambda=0.2, reg_alpha=8, objective=binary, num_leaves=10000, min_split_gain=1.1, min_child_weight=6, min_child_samples=50, metric=auc, max_depth=30, max_bin=200, learning_rate=0.05, colsample_bytree=0.3 \n",
      "[CV]  subsample_freq=2, subsample_for_bin=10, subsample=0.7, scale_pos_weight=0.05276699578395344, reg_lambda=0.2, reg_alpha=8, objective=binary, num_leaves=10000, min_split_gain=1.1, min_child_weight=6, min_child_samples=50, metric=auc, max_depth=30, max_bin=200, learning_rate=0.05, colsample_bytree=0.3, total=  10.7s\n",
      "[CV] subsample_freq=2, subsample_for_bin=10, subsample=0.7, scale_pos_weight=0.05276699578395344, reg_lambda=0.2, reg_alpha=8, objective=binary, num_leaves=10000, min_split_gain=1.1, min_child_weight=6, min_child_samples=50, metric=auc, max_depth=30, max_bin=200, learning_rate=0.05, colsample_bytree=0.3 \n",
      "[CV]  subsample_freq=2, subsample_for_bin=10, subsample=0.7, scale_pos_weight=0.05276699578395344, reg_lambda=0.2, reg_alpha=8, objective=binary, num_leaves=10000, min_split_gain=1.1, min_child_weight=6, min_child_samples=50, metric=auc, max_depth=30, max_bin=200, learning_rate=0.05, colsample_bytree=0.3, total=  10.4s\n",
      "[CV] subsample_freq=2, subsample_for_bin=10, subsample=0.7, scale_pos_weight=0.05276699578395344, reg_lambda=0.2, reg_alpha=8, objective=binary, num_leaves=10000, min_split_gain=1.1, min_child_weight=6, min_child_samples=50, metric=auc, max_depth=30, max_bin=200, learning_rate=0.05, colsample_bytree=0.3 \n"
     ]
    },
    {
     "name": "stdout",
     "output_type": "stream",
     "text": [
      "[CV]  subsample_freq=2, subsample_for_bin=10, subsample=0.7, scale_pos_weight=0.05276699578395344, reg_lambda=0.2, reg_alpha=8, objective=binary, num_leaves=10000, min_split_gain=1.1, min_child_weight=6, min_child_samples=50, metric=auc, max_depth=30, max_bin=200, learning_rate=0.05, colsample_bytree=0.3, total=  12.1s\n",
      "[CV] subsample_freq=100, subsample_for_bin=10, subsample=0.1, scale_pos_weight=18.951239977624464, reg_lambda=0.2, reg_alpha=8, objective=binary, num_leaves=1000, min_split_gain=2.0, min_child_weight=3, min_child_samples=100, metric=auc, max_depth=30, max_bin=100, learning_rate=0.1, colsample_bytree=0.7 \n",
      "[CV]  subsample_freq=100, subsample_for_bin=10, subsample=0.1, scale_pos_weight=18.951239977624464, reg_lambda=0.2, reg_alpha=8, objective=binary, num_leaves=1000, min_split_gain=2.0, min_child_weight=3, min_child_samples=100, metric=auc, max_depth=30, max_bin=100, learning_rate=0.1, colsample_bytree=0.7, total=   8.2s\n",
      "[CV] subsample_freq=100, subsample_for_bin=10, subsample=0.1, scale_pos_weight=18.951239977624464, reg_lambda=0.2, reg_alpha=8, objective=binary, num_leaves=1000, min_split_gain=2.0, min_child_weight=3, min_child_samples=100, metric=auc, max_depth=30, max_bin=100, learning_rate=0.1, colsample_bytree=0.7 \n",
      "[CV]  subsample_freq=100, subsample_for_bin=10, subsample=0.1, scale_pos_weight=18.951239977624464, reg_lambda=0.2, reg_alpha=8, objective=binary, num_leaves=1000, min_split_gain=2.0, min_child_weight=3, min_child_samples=100, metric=auc, max_depth=30, max_bin=100, learning_rate=0.1, colsample_bytree=0.7, total=   8.3s\n",
      "[CV] subsample_freq=100, subsample_for_bin=10, subsample=0.1, scale_pos_weight=18.951239977624464, reg_lambda=0.2, reg_alpha=8, objective=binary, num_leaves=1000, min_split_gain=2.0, min_child_weight=3, min_child_samples=100, metric=auc, max_depth=30, max_bin=100, learning_rate=0.1, colsample_bytree=0.7 \n",
      "[CV]  subsample_freq=100, subsample_for_bin=10, subsample=0.1, scale_pos_weight=18.951239977624464, reg_lambda=0.2, reg_alpha=8, objective=binary, num_leaves=1000, min_split_gain=2.0, min_child_weight=3, min_child_samples=100, metric=auc, max_depth=30, max_bin=100, learning_rate=0.1, colsample_bytree=0.7, total=   6.6s\n",
      "[CV] subsample_freq=100, subsample_for_bin=10, subsample=0.1, scale_pos_weight=18.951239977624464, reg_lambda=0.2, reg_alpha=8, objective=binary, num_leaves=1000, min_split_gain=2.0, min_child_weight=3, min_child_samples=100, metric=auc, max_depth=30, max_bin=100, learning_rate=0.1, colsample_bytree=0.7 \n",
      "[CV]  subsample_freq=100, subsample_for_bin=10, subsample=0.1, scale_pos_weight=18.951239977624464, reg_lambda=0.2, reg_alpha=8, objective=binary, num_leaves=1000, min_split_gain=2.0, min_child_weight=3, min_child_samples=100, metric=auc, max_depth=30, max_bin=100, learning_rate=0.1, colsample_bytree=0.7, total=   9.1s\n",
      "[CV] subsample_freq=30, subsample_for_bin=10, subsample=0.1, scale_pos_weight=0.05276699578395344, reg_lambda=0, reg_alpha=3, objective=binary, num_leaves=10000, min_split_gain=10.0, min_child_weight=3, min_child_samples=100, metric=auc, max_depth=10, max_bin=100, learning_rate=0.005, colsample_bytree=0.7 \n",
      "[CV]  subsample_freq=30, subsample_for_bin=10, subsample=0.1, scale_pos_weight=0.05276699578395344, reg_lambda=0, reg_alpha=3, objective=binary, num_leaves=10000, min_split_gain=10.0, min_child_weight=3, min_child_samples=100, metric=auc, max_depth=10, max_bin=100, learning_rate=0.005, colsample_bytree=0.7, total=   7.1s\n",
      "[CV] subsample_freq=30, subsample_for_bin=10, subsample=0.1, scale_pos_weight=0.05276699578395344, reg_lambda=0, reg_alpha=3, objective=binary, num_leaves=10000, min_split_gain=10.0, min_child_weight=3, min_child_samples=100, metric=auc, max_depth=10, max_bin=100, learning_rate=0.005, colsample_bytree=0.7 \n",
      "[CV]  subsample_freq=30, subsample_for_bin=10, subsample=0.1, scale_pos_weight=0.05276699578395344, reg_lambda=0, reg_alpha=3, objective=binary, num_leaves=10000, min_split_gain=10.0, min_child_weight=3, min_child_samples=100, metric=auc, max_depth=10, max_bin=100, learning_rate=0.005, colsample_bytree=0.7, total=   7.1s\n",
      "[CV] subsample_freq=30, subsample_for_bin=10, subsample=0.1, scale_pos_weight=0.05276699578395344, reg_lambda=0, reg_alpha=3, objective=binary, num_leaves=10000, min_split_gain=10.0, min_child_weight=3, min_child_samples=100, metric=auc, max_depth=10, max_bin=100, learning_rate=0.005, colsample_bytree=0.7 \n",
      "[CV]  subsample_freq=30, subsample_for_bin=10, subsample=0.1, scale_pos_weight=0.05276699578395344, reg_lambda=0, reg_alpha=3, objective=binary, num_leaves=10000, min_split_gain=10.0, min_child_weight=3, min_child_samples=100, metric=auc, max_depth=10, max_bin=100, learning_rate=0.005, colsample_bytree=0.7, total=   6.5s\n",
      "[CV] subsample_freq=30, subsample_for_bin=10, subsample=0.1, scale_pos_weight=0.05276699578395344, reg_lambda=0, reg_alpha=3, objective=binary, num_leaves=10000, min_split_gain=10.0, min_child_weight=3, min_child_samples=100, metric=auc, max_depth=10, max_bin=100, learning_rate=0.005, colsample_bytree=0.7 \n",
      "[CV]  subsample_freq=30, subsample_for_bin=10, subsample=0.1, scale_pos_weight=0.05276699578395344, reg_lambda=0, reg_alpha=3, objective=binary, num_leaves=10000, min_split_gain=10.0, min_child_weight=3, min_child_samples=100, metric=auc, max_depth=10, max_bin=100, learning_rate=0.005, colsample_bytree=0.7, total=   7.7s\n",
      "[CV] subsample_freq=100, subsample_for_bin=10, subsample=0.4, scale_pos_weight=1, reg_lambda=0.2, reg_alpha=8, objective=binary, num_leaves=1000, min_split_gain=10.0, min_child_weight=6, min_child_samples=100, metric=auc, max_depth=40, max_bin=200, learning_rate=0.005, colsample_bytree=0.2 \n",
      "[CV]  subsample_freq=100, subsample_for_bin=10, subsample=0.4, scale_pos_weight=1, reg_lambda=0.2, reg_alpha=8, objective=binary, num_leaves=1000, min_split_gain=10.0, min_child_weight=6, min_child_samples=100, metric=auc, max_depth=40, max_bin=200, learning_rate=0.005, colsample_bytree=0.2, total=   8.9s\n",
      "[CV] subsample_freq=100, subsample_for_bin=10, subsample=0.4, scale_pos_weight=1, reg_lambda=0.2, reg_alpha=8, objective=binary, num_leaves=1000, min_split_gain=10.0, min_child_weight=6, min_child_samples=100, metric=auc, max_depth=40, max_bin=200, learning_rate=0.005, colsample_bytree=0.2 \n",
      "[CV]  subsample_freq=100, subsample_for_bin=10, subsample=0.4, scale_pos_weight=1, reg_lambda=0.2, reg_alpha=8, objective=binary, num_leaves=1000, min_split_gain=10.0, min_child_weight=6, min_child_samples=100, metric=auc, max_depth=40, max_bin=200, learning_rate=0.005, colsample_bytree=0.2, total=   8.9s\n",
      "[CV] subsample_freq=100, subsample_for_bin=10, subsample=0.4, scale_pos_weight=1, reg_lambda=0.2, reg_alpha=8, objective=binary, num_leaves=1000, min_split_gain=10.0, min_child_weight=6, min_child_samples=100, metric=auc, max_depth=40, max_bin=200, learning_rate=0.005, colsample_bytree=0.2 \n",
      "[CV]  subsample_freq=100, subsample_for_bin=10, subsample=0.4, scale_pos_weight=1, reg_lambda=0.2, reg_alpha=8, objective=binary, num_leaves=1000, min_split_gain=10.0, min_child_weight=6, min_child_samples=100, metric=auc, max_depth=40, max_bin=200, learning_rate=0.005, colsample_bytree=0.2, total=   6.6s\n",
      "[CV] subsample_freq=100, subsample_for_bin=10, subsample=0.4, scale_pos_weight=1, reg_lambda=0.2, reg_alpha=8, objective=binary, num_leaves=1000, min_split_gain=10.0, min_child_weight=6, min_child_samples=100, metric=auc, max_depth=40, max_bin=200, learning_rate=0.005, colsample_bytree=0.2 \n",
      "[CV]  subsample_freq=100, subsample_for_bin=10, subsample=0.4, scale_pos_weight=1, reg_lambda=0.2, reg_alpha=8, objective=binary, num_leaves=1000, min_split_gain=10.0, min_child_weight=6, min_child_samples=100, metric=auc, max_depth=40, max_bin=200, learning_rate=0.005, colsample_bytree=0.2, total=  10.4s\n",
      "[CV] subsample_freq=100, subsample_for_bin=10, subsample=0.1, scale_pos_weight=18.951239977624464, reg_lambda=0.8, reg_alpha=7, objective=binary, num_leaves=1000, min_split_gain=2.0, min_child_weight=3, min_child_samples=100, metric=auc, max_depth=10, max_bin=100, learning_rate=0.005, colsample_bytree=0.7 \n",
      "[CV]  subsample_freq=100, subsample_for_bin=10, subsample=0.1, scale_pos_weight=18.951239977624464, reg_lambda=0.8, reg_alpha=7, objective=binary, num_leaves=1000, min_split_gain=2.0, min_child_weight=3, min_child_samples=100, metric=auc, max_depth=10, max_bin=100, learning_rate=0.005, colsample_bytree=0.7, total=   7.8s\n",
      "[CV] subsample_freq=100, subsample_for_bin=10, subsample=0.1, scale_pos_weight=18.951239977624464, reg_lambda=0.8, reg_alpha=7, objective=binary, num_leaves=1000, min_split_gain=2.0, min_child_weight=3, min_child_samples=100, metric=auc, max_depth=10, max_bin=100, learning_rate=0.005, colsample_bytree=0.7 \n"
     ]
    },
    {
     "name": "stdout",
     "output_type": "stream",
     "text": [
      "[CV]  subsample_freq=100, subsample_for_bin=10, subsample=0.1, scale_pos_weight=18.951239977624464, reg_lambda=0.8, reg_alpha=7, objective=binary, num_leaves=1000, min_split_gain=2.0, min_child_weight=3, min_child_samples=100, metric=auc, max_depth=10, max_bin=100, learning_rate=0.005, colsample_bytree=0.7, total=   7.9s\n",
      "[CV] subsample_freq=100, subsample_for_bin=10, subsample=0.1, scale_pos_weight=18.951239977624464, reg_lambda=0.8, reg_alpha=7, objective=binary, num_leaves=1000, min_split_gain=2.0, min_child_weight=3, min_child_samples=100, metric=auc, max_depth=10, max_bin=100, learning_rate=0.005, colsample_bytree=0.7 \n",
      "[CV]  subsample_freq=100, subsample_for_bin=10, subsample=0.1, scale_pos_weight=18.951239977624464, reg_lambda=0.8, reg_alpha=7, objective=binary, num_leaves=1000, min_split_gain=2.0, min_child_weight=3, min_child_samples=100, metric=auc, max_depth=10, max_bin=100, learning_rate=0.005, colsample_bytree=0.7, total=   6.2s\n",
      "[CV] subsample_freq=100, subsample_for_bin=10, subsample=0.1, scale_pos_weight=18.951239977624464, reg_lambda=0.8, reg_alpha=7, objective=binary, num_leaves=1000, min_split_gain=2.0, min_child_weight=3, min_child_samples=100, metric=auc, max_depth=10, max_bin=100, learning_rate=0.005, colsample_bytree=0.7 \n",
      "[CV]  subsample_freq=100, subsample_for_bin=10, subsample=0.1, scale_pos_weight=18.951239977624464, reg_lambda=0.8, reg_alpha=7, objective=binary, num_leaves=1000, min_split_gain=2.0, min_child_weight=3, min_child_samples=100, metric=auc, max_depth=10, max_bin=100, learning_rate=0.005, colsample_bytree=0.7, total=   8.6s\n",
      "[CV] subsample_freq=100, subsample_for_bin=200, subsample=0.4, scale_pos_weight=1, reg_lambda=0.8, reg_alpha=5, objective=binary, num_leaves=10000, min_split_gain=1.1, min_child_weight=2, min_child_samples=50, metric=auc, max_depth=40, max_bin=50, learning_rate=0.05, colsample_bytree=0.7 \n",
      "[CV]  subsample_freq=100, subsample_for_bin=200, subsample=0.4, scale_pos_weight=1, reg_lambda=0.8, reg_alpha=5, objective=binary, num_leaves=10000, min_split_gain=1.1, min_child_weight=2, min_child_samples=50, metric=auc, max_depth=40, max_bin=50, learning_rate=0.05, colsample_bytree=0.7, total=  49.9s\n",
      "[CV] subsample_freq=100, subsample_for_bin=200, subsample=0.4, scale_pos_weight=1, reg_lambda=0.8, reg_alpha=5, objective=binary, num_leaves=10000, min_split_gain=1.1, min_child_weight=2, min_child_samples=50, metric=auc, max_depth=40, max_bin=50, learning_rate=0.05, colsample_bytree=0.7 \n",
      "[CV]  subsample_freq=100, subsample_for_bin=200, subsample=0.4, scale_pos_weight=1, reg_lambda=0.8, reg_alpha=5, objective=binary, num_leaves=10000, min_split_gain=1.1, min_child_weight=2, min_child_samples=50, metric=auc, max_depth=40, max_bin=50, learning_rate=0.05, colsample_bytree=0.7, total=  39.9s\n",
      "[CV] subsample_freq=100, subsample_for_bin=200, subsample=0.4, scale_pos_weight=1, reg_lambda=0.8, reg_alpha=5, objective=binary, num_leaves=10000, min_split_gain=1.1, min_child_weight=2, min_child_samples=50, metric=auc, max_depth=40, max_bin=50, learning_rate=0.05, colsample_bytree=0.7 \n",
      "[CV]  subsample_freq=100, subsample_for_bin=200, subsample=0.4, scale_pos_weight=1, reg_lambda=0.8, reg_alpha=5, objective=binary, num_leaves=10000, min_split_gain=1.1, min_child_weight=2, min_child_samples=50, metric=auc, max_depth=40, max_bin=50, learning_rate=0.05, colsample_bytree=0.7, total=  38.7s\n",
      "[CV] subsample_freq=100, subsample_for_bin=200, subsample=0.4, scale_pos_weight=1, reg_lambda=0.8, reg_alpha=5, objective=binary, num_leaves=10000, min_split_gain=1.1, min_child_weight=2, min_child_samples=50, metric=auc, max_depth=40, max_bin=50, learning_rate=0.05, colsample_bytree=0.7 \n",
      "[CV]  subsample_freq=100, subsample_for_bin=200, subsample=0.4, scale_pos_weight=1, reg_lambda=0.8, reg_alpha=5, objective=binary, num_leaves=10000, min_split_gain=1.1, min_child_weight=2, min_child_samples=50, metric=auc, max_depth=40, max_bin=50, learning_rate=0.05, colsample_bytree=0.7, total=  37.4s\n",
      "[CV] subsample_freq=30, subsample_for_bin=10, subsample=0.1, scale_pos_weight=1, reg_lambda=0, reg_alpha=5, objective=binary, num_leaves=10000, min_split_gain=2.0, min_child_weight=2, min_child_samples=50, metric=auc, max_depth=10, max_bin=50, learning_rate=0.005, colsample_bytree=0.7 \n",
      "[CV]  subsample_freq=30, subsample_for_bin=10, subsample=0.1, scale_pos_weight=1, reg_lambda=0, reg_alpha=5, objective=binary, num_leaves=10000, min_split_gain=2.0, min_child_weight=2, min_child_samples=50, metric=auc, max_depth=10, max_bin=50, learning_rate=0.005, colsample_bytree=0.7, total=   8.3s\n",
      "[CV] subsample_freq=30, subsample_for_bin=10, subsample=0.1, scale_pos_weight=1, reg_lambda=0, reg_alpha=5, objective=binary, num_leaves=10000, min_split_gain=2.0, min_child_weight=2, min_child_samples=50, metric=auc, max_depth=10, max_bin=50, learning_rate=0.005, colsample_bytree=0.7 \n",
      "[CV]  subsample_freq=30, subsample_for_bin=10, subsample=0.1, scale_pos_weight=1, reg_lambda=0, reg_alpha=5, objective=binary, num_leaves=10000, min_split_gain=2.0, min_child_weight=2, min_child_samples=50, metric=auc, max_depth=10, max_bin=50, learning_rate=0.005, colsample_bytree=0.7, total=   8.3s\n",
      "[CV] subsample_freq=30, subsample_for_bin=10, subsample=0.1, scale_pos_weight=1, reg_lambda=0, reg_alpha=5, objective=binary, num_leaves=10000, min_split_gain=2.0, min_child_weight=2, min_child_samples=50, metric=auc, max_depth=10, max_bin=50, learning_rate=0.005, colsample_bytree=0.7 \n",
      "[CV]  subsample_freq=30, subsample_for_bin=10, subsample=0.1, scale_pos_weight=1, reg_lambda=0, reg_alpha=5, objective=binary, num_leaves=10000, min_split_gain=2.0, min_child_weight=2, min_child_samples=50, metric=auc, max_depth=10, max_bin=50, learning_rate=0.005, colsample_bytree=0.7, total=   6.7s\n",
      "[CV] subsample_freq=30, subsample_for_bin=10, subsample=0.1, scale_pos_weight=1, reg_lambda=0, reg_alpha=5, objective=binary, num_leaves=10000, min_split_gain=2.0, min_child_weight=2, min_child_samples=50, metric=auc, max_depth=10, max_bin=50, learning_rate=0.005, colsample_bytree=0.7 \n",
      "[CV]  subsample_freq=30, subsample_for_bin=10, subsample=0.1, scale_pos_weight=1, reg_lambda=0, reg_alpha=5, objective=binary, num_leaves=10000, min_split_gain=2.0, min_child_weight=2, min_child_samples=50, metric=auc, max_depth=10, max_bin=50, learning_rate=0.005, colsample_bytree=0.7, total=   9.4s\n",
      "[CV] subsample_freq=2, subsample_for_bin=200, subsample=0.4, scale_pos_weight=0.05276699578395344, reg_lambda=0, reg_alpha=2, objective=binary, num_leaves=50, min_split_gain=10.0, min_child_weight=6, min_child_samples=100, metric=auc, max_depth=10, max_bin=50, learning_rate=0.005, colsample_bytree=0.2 \n",
      "[CV]  subsample_freq=2, subsample_for_bin=200, subsample=0.4, scale_pos_weight=0.05276699578395344, reg_lambda=0, reg_alpha=2, objective=binary, num_leaves=50, min_split_gain=10.0, min_child_weight=6, min_child_samples=100, metric=auc, max_depth=10, max_bin=50, learning_rate=0.005, colsample_bytree=0.2, total=  14.5s\n",
      "[CV] subsample_freq=2, subsample_for_bin=200, subsample=0.4, scale_pos_weight=0.05276699578395344, reg_lambda=0, reg_alpha=2, objective=binary, num_leaves=50, min_split_gain=10.0, min_child_weight=6, min_child_samples=100, metric=auc, max_depth=10, max_bin=50, learning_rate=0.005, colsample_bytree=0.2 \n",
      "[CV]  subsample_freq=2, subsample_for_bin=200, subsample=0.4, scale_pos_weight=0.05276699578395344, reg_lambda=0, reg_alpha=2, objective=binary, num_leaves=50, min_split_gain=10.0, min_child_weight=6, min_child_samples=100, metric=auc, max_depth=10, max_bin=50, learning_rate=0.005, colsample_bytree=0.2, total=  12.8s\n",
      "[CV] subsample_freq=2, subsample_for_bin=200, subsample=0.4, scale_pos_weight=0.05276699578395344, reg_lambda=0, reg_alpha=2, objective=binary, num_leaves=50, min_split_gain=10.0, min_child_weight=6, min_child_samples=100, metric=auc, max_depth=10, max_bin=50, learning_rate=0.005, colsample_bytree=0.2 \n",
      "[CV]  subsample_freq=2, subsample_for_bin=200, subsample=0.4, scale_pos_weight=0.05276699578395344, reg_lambda=0, reg_alpha=2, objective=binary, num_leaves=50, min_split_gain=10.0, min_child_weight=6, min_child_samples=100, metric=auc, max_depth=10, max_bin=50, learning_rate=0.005, colsample_bytree=0.2, total=  12.3s\n",
      "[CV] subsample_freq=2, subsample_for_bin=200, subsample=0.4, scale_pos_weight=0.05276699578395344, reg_lambda=0, reg_alpha=2, objective=binary, num_leaves=50, min_split_gain=10.0, min_child_weight=6, min_child_samples=100, metric=auc, max_depth=10, max_bin=50, learning_rate=0.005, colsample_bytree=0.2 \n"
     ]
    },
    {
     "name": "stdout",
     "output_type": "stream",
     "text": [
      "[CV]  subsample_freq=2, subsample_for_bin=200, subsample=0.4, scale_pos_weight=0.05276699578395344, reg_lambda=0, reg_alpha=2, objective=binary, num_leaves=50, min_split_gain=10.0, min_child_weight=6, min_child_samples=100, metric=auc, max_depth=10, max_bin=50, learning_rate=0.005, colsample_bytree=0.2, total=  12.5s\n",
      "[CV] subsample_freq=2, subsample_for_bin=10, subsample=0.4, scale_pos_weight=1, reg_lambda=0.2, reg_alpha=7, objective=binary, num_leaves=1000, min_split_gain=10.0, min_child_weight=6, min_child_samples=50, metric=auc, max_depth=10, max_bin=50, learning_rate=0.05, colsample_bytree=0.2 \n",
      "[CV]  subsample_freq=2, subsample_for_bin=10, subsample=0.4, scale_pos_weight=1, reg_lambda=0.2, reg_alpha=7, objective=binary, num_leaves=1000, min_split_gain=10.0, min_child_weight=6, min_child_samples=50, metric=auc, max_depth=10, max_bin=50, learning_rate=0.05, colsample_bytree=0.2, total=   8.5s\n",
      "[CV] subsample_freq=2, subsample_for_bin=10, subsample=0.4, scale_pos_weight=1, reg_lambda=0.2, reg_alpha=7, objective=binary, num_leaves=1000, min_split_gain=10.0, min_child_weight=6, min_child_samples=50, metric=auc, max_depth=10, max_bin=50, learning_rate=0.05, colsample_bytree=0.2 \n",
      "[CV]  subsample_freq=2, subsample_for_bin=10, subsample=0.4, scale_pos_weight=1, reg_lambda=0.2, reg_alpha=7, objective=binary, num_leaves=1000, min_split_gain=10.0, min_child_weight=6, min_child_samples=50, metric=auc, max_depth=10, max_bin=50, learning_rate=0.05, colsample_bytree=0.2, total=   8.7s\n",
      "[CV] subsample_freq=2, subsample_for_bin=10, subsample=0.4, scale_pos_weight=1, reg_lambda=0.2, reg_alpha=7, objective=binary, num_leaves=1000, min_split_gain=10.0, min_child_weight=6, min_child_samples=50, metric=auc, max_depth=10, max_bin=50, learning_rate=0.05, colsample_bytree=0.2 \n",
      "[CV]  subsample_freq=2, subsample_for_bin=10, subsample=0.4, scale_pos_weight=1, reg_lambda=0.2, reg_alpha=7, objective=binary, num_leaves=1000, min_split_gain=10.0, min_child_weight=6, min_child_samples=50, metric=auc, max_depth=10, max_bin=50, learning_rate=0.05, colsample_bytree=0.2, total=   7.4s\n",
      "[CV] subsample_freq=2, subsample_for_bin=10, subsample=0.4, scale_pos_weight=1, reg_lambda=0.2, reg_alpha=7, objective=binary, num_leaves=1000, min_split_gain=10.0, min_child_weight=6, min_child_samples=50, metric=auc, max_depth=10, max_bin=50, learning_rate=0.05, colsample_bytree=0.2 \n",
      "[CV]  subsample_freq=2, subsample_for_bin=10, subsample=0.4, scale_pos_weight=1, reg_lambda=0.2, reg_alpha=7, objective=binary, num_leaves=1000, min_split_gain=10.0, min_child_weight=6, min_child_samples=50, metric=auc, max_depth=10, max_bin=50, learning_rate=0.05, colsample_bytree=0.2, total=   9.7s\n",
      "[CV] subsample_freq=30, subsample_for_bin=100, subsample=0.1, scale_pos_weight=18.951239977624464, reg_lambda=0.2, reg_alpha=7, objective=binary, num_leaves=50, min_split_gain=1.1, min_child_weight=6, min_child_samples=30, metric=auc, max_depth=40, max_bin=50, learning_rate=0.05, colsample_bytree=0.3 \n",
      "[CV]  subsample_freq=30, subsample_for_bin=100, subsample=0.1, scale_pos_weight=18.951239977624464, reg_lambda=0.2, reg_alpha=7, objective=binary, num_leaves=50, min_split_gain=1.1, min_child_weight=6, min_child_samples=30, metric=auc, max_depth=40, max_bin=50, learning_rate=0.05, colsample_bytree=0.3, total=  16.0s\n",
      "[CV] subsample_freq=30, subsample_for_bin=100, subsample=0.1, scale_pos_weight=18.951239977624464, reg_lambda=0.2, reg_alpha=7, objective=binary, num_leaves=50, min_split_gain=1.1, min_child_weight=6, min_child_samples=30, metric=auc, max_depth=40, max_bin=50, learning_rate=0.05, colsample_bytree=0.3 \n",
      "[CV]  subsample_freq=30, subsample_for_bin=100, subsample=0.1, scale_pos_weight=18.951239977624464, reg_lambda=0.2, reg_alpha=7, objective=binary, num_leaves=50, min_split_gain=1.1, min_child_weight=6, min_child_samples=30, metric=auc, max_depth=40, max_bin=50, learning_rate=0.05, colsample_bytree=0.3, total=  14.1s\n",
      "[CV] subsample_freq=30, subsample_for_bin=100, subsample=0.1, scale_pos_weight=18.951239977624464, reg_lambda=0.2, reg_alpha=7, objective=binary, num_leaves=50, min_split_gain=1.1, min_child_weight=6, min_child_samples=30, metric=auc, max_depth=40, max_bin=50, learning_rate=0.05, colsample_bytree=0.3 \n",
      "[CV]  subsample_freq=30, subsample_for_bin=100, subsample=0.1, scale_pos_weight=18.951239977624464, reg_lambda=0.2, reg_alpha=7, objective=binary, num_leaves=50, min_split_gain=1.1, min_child_weight=6, min_child_samples=30, metric=auc, max_depth=40, max_bin=50, learning_rate=0.05, colsample_bytree=0.3, total=  15.1s\n",
      "[CV] subsample_freq=30, subsample_for_bin=100, subsample=0.1, scale_pos_weight=18.951239977624464, reg_lambda=0.2, reg_alpha=7, objective=binary, num_leaves=50, min_split_gain=1.1, min_child_weight=6, min_child_samples=30, metric=auc, max_depth=40, max_bin=50, learning_rate=0.05, colsample_bytree=0.3 \n",
      "[CV]  subsample_freq=30, subsample_for_bin=100, subsample=0.1, scale_pos_weight=18.951239977624464, reg_lambda=0.2, reg_alpha=7, objective=binary, num_leaves=50, min_split_gain=1.1, min_child_weight=6, min_child_samples=30, metric=auc, max_depth=40, max_bin=50, learning_rate=0.05, colsample_bytree=0.3, total=  15.4s\n",
      "[CV] subsample_freq=30, subsample_for_bin=100, subsample=0.4, scale_pos_weight=0.05276699578395344, reg_lambda=0.2, reg_alpha=5, objective=binary, num_leaves=50, min_split_gain=1.1, min_child_weight=6, min_child_samples=100, metric=auc, max_depth=30, max_bin=50, learning_rate=0.1, colsample_bytree=0.2 \n",
      "[CV]  subsample_freq=30, subsample_for_bin=100, subsample=0.4, scale_pos_weight=0.05276699578395344, reg_lambda=0.2, reg_alpha=5, objective=binary, num_leaves=50, min_split_gain=1.1, min_child_weight=6, min_child_samples=100, metric=auc, max_depth=30, max_bin=50, learning_rate=0.1, colsample_bytree=0.2, total=  12.9s\n",
      "[CV] subsample_freq=30, subsample_for_bin=100, subsample=0.4, scale_pos_weight=0.05276699578395344, reg_lambda=0.2, reg_alpha=5, objective=binary, num_leaves=50, min_split_gain=1.1, min_child_weight=6, min_child_samples=100, metric=auc, max_depth=30, max_bin=50, learning_rate=0.1, colsample_bytree=0.2 \n",
      "[CV]  subsample_freq=30, subsample_for_bin=100, subsample=0.4, scale_pos_weight=0.05276699578395344, reg_lambda=0.2, reg_alpha=5, objective=binary, num_leaves=50, min_split_gain=1.1, min_child_weight=6, min_child_samples=100, metric=auc, max_depth=30, max_bin=50, learning_rate=0.1, colsample_bytree=0.2, total=  11.8s\n",
      "[CV] subsample_freq=30, subsample_for_bin=100, subsample=0.4, scale_pos_weight=0.05276699578395344, reg_lambda=0.2, reg_alpha=5, objective=binary, num_leaves=50, min_split_gain=1.1, min_child_weight=6, min_child_samples=100, metric=auc, max_depth=30, max_bin=50, learning_rate=0.1, colsample_bytree=0.2 \n",
      "[CV]  subsample_freq=30, subsample_for_bin=100, subsample=0.4, scale_pos_weight=0.05276699578395344, reg_lambda=0.2, reg_alpha=5, objective=binary, num_leaves=50, min_split_gain=1.1, min_child_weight=6, min_child_samples=100, metric=auc, max_depth=30, max_bin=50, learning_rate=0.1, colsample_bytree=0.2, total=  12.0s\n",
      "[CV] subsample_freq=30, subsample_for_bin=100, subsample=0.4, scale_pos_weight=0.05276699578395344, reg_lambda=0.2, reg_alpha=5, objective=binary, num_leaves=50, min_split_gain=1.1, min_child_weight=6, min_child_samples=100, metric=auc, max_depth=30, max_bin=50, learning_rate=0.1, colsample_bytree=0.2 \n",
      "[CV]  subsample_freq=30, subsample_for_bin=100, subsample=0.4, scale_pos_weight=0.05276699578395344, reg_lambda=0.2, reg_alpha=5, objective=binary, num_leaves=50, min_split_gain=1.1, min_child_weight=6, min_child_samples=100, metric=auc, max_depth=30, max_bin=50, learning_rate=0.1, colsample_bytree=0.2, total=  12.5s\n",
      "[CV] subsample_freq=100, subsample_for_bin=10, subsample=0.4, scale_pos_weight=18.951239977624464, reg_lambda=0, reg_alpha=8, objective=binary, num_leaves=50, min_split_gain=1.1, min_child_weight=2, min_child_samples=50, metric=auc, max_depth=30, max_bin=200, learning_rate=0.05, colsample_bytree=0.7 \n",
      "[CV]  subsample_freq=100, subsample_for_bin=10, subsample=0.4, scale_pos_weight=18.951239977624464, reg_lambda=0, reg_alpha=8, objective=binary, num_leaves=50, min_split_gain=1.1, min_child_weight=2, min_child_samples=50, metric=auc, max_depth=30, max_bin=200, learning_rate=0.05, colsample_bytree=0.7, total=  14.3s\n",
      "[CV] subsample_freq=100, subsample_for_bin=10, subsample=0.4, scale_pos_weight=18.951239977624464, reg_lambda=0, reg_alpha=8, objective=binary, num_leaves=50, min_split_gain=1.1, min_child_weight=2, min_child_samples=50, metric=auc, max_depth=30, max_bin=200, learning_rate=0.05, colsample_bytree=0.7 \n"
     ]
    },
    {
     "name": "stdout",
     "output_type": "stream",
     "text": [
      "[CV]  subsample_freq=100, subsample_for_bin=10, subsample=0.4, scale_pos_weight=18.951239977624464, reg_lambda=0, reg_alpha=8, objective=binary, num_leaves=50, min_split_gain=1.1, min_child_weight=2, min_child_samples=50, metric=auc, max_depth=30, max_bin=200, learning_rate=0.05, colsample_bytree=0.7, total=  14.6s\n",
      "[CV] subsample_freq=100, subsample_for_bin=10, subsample=0.4, scale_pos_weight=18.951239977624464, reg_lambda=0, reg_alpha=8, objective=binary, num_leaves=50, min_split_gain=1.1, min_child_weight=2, min_child_samples=50, metric=auc, max_depth=30, max_bin=200, learning_rate=0.05, colsample_bytree=0.7 \n",
      "[CV]  subsample_freq=100, subsample_for_bin=10, subsample=0.4, scale_pos_weight=18.951239977624464, reg_lambda=0, reg_alpha=8, objective=binary, num_leaves=50, min_split_gain=1.1, min_child_weight=2, min_child_samples=50, metric=auc, max_depth=30, max_bin=200, learning_rate=0.05, colsample_bytree=0.7, total=   9.8s\n",
      "[CV] subsample_freq=100, subsample_for_bin=10, subsample=0.4, scale_pos_weight=18.951239977624464, reg_lambda=0, reg_alpha=8, objective=binary, num_leaves=50, min_split_gain=1.1, min_child_weight=2, min_child_samples=50, metric=auc, max_depth=30, max_bin=200, learning_rate=0.05, colsample_bytree=0.7 \n",
      "[CV]  subsample_freq=100, subsample_for_bin=10, subsample=0.4, scale_pos_weight=18.951239977624464, reg_lambda=0, reg_alpha=8, objective=binary, num_leaves=50, min_split_gain=1.1, min_child_weight=2, min_child_samples=50, metric=auc, max_depth=30, max_bin=200, learning_rate=0.05, colsample_bytree=0.7, total=  16.8s\n",
      "[CV] subsample_freq=100, subsample_for_bin=100, subsample=0.7, scale_pos_weight=1, reg_lambda=0, reg_alpha=2, objective=binary, num_leaves=50, min_split_gain=10.0, min_child_weight=2, min_child_samples=50, metric=auc, max_depth=30, max_bin=100, learning_rate=0.1, colsample_bytree=0.7 \n",
      "[CV]  subsample_freq=100, subsample_for_bin=100, subsample=0.7, scale_pos_weight=1, reg_lambda=0, reg_alpha=2, objective=binary, num_leaves=50, min_split_gain=10.0, min_child_weight=2, min_child_samples=50, metric=auc, max_depth=30, max_bin=100, learning_rate=0.1, colsample_bytree=0.7, total=  21.2s\n",
      "[CV] subsample_freq=100, subsample_for_bin=100, subsample=0.7, scale_pos_weight=1, reg_lambda=0, reg_alpha=2, objective=binary, num_leaves=50, min_split_gain=10.0, min_child_weight=2, min_child_samples=50, metric=auc, max_depth=30, max_bin=100, learning_rate=0.1, colsample_bytree=0.7 \n",
      "[CV]  subsample_freq=100, subsample_for_bin=100, subsample=0.7, scale_pos_weight=1, reg_lambda=0, reg_alpha=2, objective=binary, num_leaves=50, min_split_gain=10.0, min_child_weight=2, min_child_samples=50, metric=auc, max_depth=30, max_bin=100, learning_rate=0.1, colsample_bytree=0.7, total=  18.2s\n",
      "[CV] subsample_freq=100, subsample_for_bin=100, subsample=0.7, scale_pos_weight=1, reg_lambda=0, reg_alpha=2, objective=binary, num_leaves=50, min_split_gain=10.0, min_child_weight=2, min_child_samples=50, metric=auc, max_depth=30, max_bin=100, learning_rate=0.1, colsample_bytree=0.7 \n",
      "[CV]  subsample_freq=100, subsample_for_bin=100, subsample=0.7, scale_pos_weight=1, reg_lambda=0, reg_alpha=2, objective=binary, num_leaves=50, min_split_gain=10.0, min_child_weight=2, min_child_samples=50, metric=auc, max_depth=30, max_bin=100, learning_rate=0.1, colsample_bytree=0.7, total=  19.3s\n",
      "[CV] subsample_freq=100, subsample_for_bin=100, subsample=0.7, scale_pos_weight=1, reg_lambda=0, reg_alpha=2, objective=binary, num_leaves=50, min_split_gain=10.0, min_child_weight=2, min_child_samples=50, metric=auc, max_depth=30, max_bin=100, learning_rate=0.1, colsample_bytree=0.7 \n",
      "[CV]  subsample_freq=100, subsample_for_bin=100, subsample=0.7, scale_pos_weight=1, reg_lambda=0, reg_alpha=2, objective=binary, num_leaves=50, min_split_gain=10.0, min_child_weight=2, min_child_samples=50, metric=auc, max_depth=30, max_bin=100, learning_rate=0.1, colsample_bytree=0.7, total=  19.9s\n",
      "[CV] subsample_freq=2, subsample_for_bin=100, subsample=0.1, scale_pos_weight=1, reg_lambda=0.8, reg_alpha=7, objective=binary, num_leaves=10000, min_split_gain=1.1, min_child_weight=3, min_child_samples=30, metric=auc, max_depth=10, max_bin=50, learning_rate=0.1, colsample_bytree=0.7 \n",
      "[CV]  subsample_freq=2, subsample_for_bin=100, subsample=0.1, scale_pos_weight=1, reg_lambda=0.8, reg_alpha=7, objective=binary, num_leaves=10000, min_split_gain=1.1, min_child_weight=3, min_child_samples=30, metric=auc, max_depth=10, max_bin=50, learning_rate=0.1, colsample_bytree=0.7, total=  17.3s\n",
      "[CV] subsample_freq=2, subsample_for_bin=100, subsample=0.1, scale_pos_weight=1, reg_lambda=0.8, reg_alpha=7, objective=binary, num_leaves=10000, min_split_gain=1.1, min_child_weight=3, min_child_samples=30, metric=auc, max_depth=10, max_bin=50, learning_rate=0.1, colsample_bytree=0.7 \n",
      "[CV]  subsample_freq=2, subsample_for_bin=100, subsample=0.1, scale_pos_weight=1, reg_lambda=0.8, reg_alpha=7, objective=binary, num_leaves=10000, min_split_gain=1.1, min_child_weight=3, min_child_samples=30, metric=auc, max_depth=10, max_bin=50, learning_rate=0.1, colsample_bytree=0.7, total=  15.1s\n",
      "[CV] subsample_freq=2, subsample_for_bin=100, subsample=0.1, scale_pos_weight=1, reg_lambda=0.8, reg_alpha=7, objective=binary, num_leaves=10000, min_split_gain=1.1, min_child_weight=3, min_child_samples=30, metric=auc, max_depth=10, max_bin=50, learning_rate=0.1, colsample_bytree=0.7 \n",
      "[CV]  subsample_freq=2, subsample_for_bin=100, subsample=0.1, scale_pos_weight=1, reg_lambda=0.8, reg_alpha=7, objective=binary, num_leaves=10000, min_split_gain=1.1, min_child_weight=3, min_child_samples=30, metric=auc, max_depth=10, max_bin=50, learning_rate=0.1, colsample_bytree=0.7, total=  15.9s\n",
      "[CV] subsample_freq=2, subsample_for_bin=100, subsample=0.1, scale_pos_weight=1, reg_lambda=0.8, reg_alpha=7, objective=binary, num_leaves=10000, min_split_gain=1.1, min_child_weight=3, min_child_samples=30, metric=auc, max_depth=10, max_bin=50, learning_rate=0.1, colsample_bytree=0.7 \n",
      "[CV]  subsample_freq=2, subsample_for_bin=100, subsample=0.1, scale_pos_weight=1, reg_lambda=0.8, reg_alpha=7, objective=binary, num_leaves=10000, min_split_gain=1.1, min_child_weight=3, min_child_samples=30, metric=auc, max_depth=10, max_bin=50, learning_rate=0.1, colsample_bytree=0.7, total=  16.5s\n",
      "[CV] subsample_freq=2, subsample_for_bin=100, subsample=0.4, scale_pos_weight=18.951239977624464, reg_lambda=0.2, reg_alpha=2, objective=binary, num_leaves=50, min_split_gain=2.0, min_child_weight=3, min_child_samples=100, metric=auc, max_depth=30, max_bin=50, learning_rate=0.005, colsample_bytree=0.3 \n",
      "[CV]  subsample_freq=2, subsample_for_bin=100, subsample=0.4, scale_pos_weight=18.951239977624464, reg_lambda=0.2, reg_alpha=2, objective=binary, num_leaves=50, min_split_gain=2.0, min_child_weight=3, min_child_samples=100, metric=auc, max_depth=30, max_bin=50, learning_rate=0.005, colsample_bytree=0.3, total=  28.6s\n",
      "[CV] subsample_freq=2, subsample_for_bin=100, subsample=0.4, scale_pos_weight=18.951239977624464, reg_lambda=0.2, reg_alpha=2, objective=binary, num_leaves=50, min_split_gain=2.0, min_child_weight=3, min_child_samples=100, metric=auc, max_depth=30, max_bin=50, learning_rate=0.005, colsample_bytree=0.3 \n",
      "[CV]  subsample_freq=2, subsample_for_bin=100, subsample=0.4, scale_pos_weight=18.951239977624464, reg_lambda=0.2, reg_alpha=2, objective=binary, num_leaves=50, min_split_gain=2.0, min_child_weight=3, min_child_samples=100, metric=auc, max_depth=30, max_bin=50, learning_rate=0.005, colsample_bytree=0.3, total=  24.1s\n",
      "[CV] subsample_freq=2, subsample_for_bin=100, subsample=0.4, scale_pos_weight=18.951239977624464, reg_lambda=0.2, reg_alpha=2, objective=binary, num_leaves=50, min_split_gain=2.0, min_child_weight=3, min_child_samples=100, metric=auc, max_depth=30, max_bin=50, learning_rate=0.005, colsample_bytree=0.3 \n",
      "[CV]  subsample_freq=2, subsample_for_bin=100, subsample=0.4, scale_pos_weight=18.951239977624464, reg_lambda=0.2, reg_alpha=2, objective=binary, num_leaves=50, min_split_gain=2.0, min_child_weight=3, min_child_samples=100, metric=auc, max_depth=30, max_bin=50, learning_rate=0.005, colsample_bytree=0.3, total=  26.0s\n",
      "[CV] subsample_freq=2, subsample_for_bin=100, subsample=0.4, scale_pos_weight=18.951239977624464, reg_lambda=0.2, reg_alpha=2, objective=binary, num_leaves=50, min_split_gain=2.0, min_child_weight=3, min_child_samples=100, metric=auc, max_depth=30, max_bin=50, learning_rate=0.005, colsample_bytree=0.3 \n"
     ]
    },
    {
     "name": "stdout",
     "output_type": "stream",
     "text": [
      "[CV]  subsample_freq=2, subsample_for_bin=100, subsample=0.4, scale_pos_weight=18.951239977624464, reg_lambda=0.2, reg_alpha=2, objective=binary, num_leaves=50, min_split_gain=2.0, min_child_weight=3, min_child_samples=100, metric=auc, max_depth=30, max_bin=50, learning_rate=0.005, colsample_bytree=0.3, total=  26.8s\n",
      "[CV] subsample_freq=100, subsample_for_bin=200, subsample=0.1, scale_pos_weight=1, reg_lambda=0.2, reg_alpha=7, objective=binary, num_leaves=10000, min_split_gain=2.0, min_child_weight=3, min_child_samples=50, metric=auc, max_depth=30, max_bin=100, learning_rate=0.1, colsample_bytree=0.2 \n",
      "[CV]  subsample_freq=100, subsample_for_bin=200, subsample=0.1, scale_pos_weight=1, reg_lambda=0.2, reg_alpha=7, objective=binary, num_leaves=10000, min_split_gain=2.0, min_child_weight=3, min_child_samples=50, metric=auc, max_depth=30, max_bin=100, learning_rate=0.1, colsample_bytree=0.2, total=  17.4s\n",
      "[CV] subsample_freq=100, subsample_for_bin=200, subsample=0.1, scale_pos_weight=1, reg_lambda=0.2, reg_alpha=7, objective=binary, num_leaves=10000, min_split_gain=2.0, min_child_weight=3, min_child_samples=50, metric=auc, max_depth=30, max_bin=100, learning_rate=0.1, colsample_bytree=0.2 \n",
      "[CV]  subsample_freq=100, subsample_for_bin=200, subsample=0.1, scale_pos_weight=1, reg_lambda=0.2, reg_alpha=7, objective=binary, num_leaves=10000, min_split_gain=2.0, min_child_weight=3, min_child_samples=50, metric=auc, max_depth=30, max_bin=100, learning_rate=0.1, colsample_bytree=0.2, total=  15.5s\n",
      "[CV] subsample_freq=100, subsample_for_bin=200, subsample=0.1, scale_pos_weight=1, reg_lambda=0.2, reg_alpha=7, objective=binary, num_leaves=10000, min_split_gain=2.0, min_child_weight=3, min_child_samples=50, metric=auc, max_depth=30, max_bin=100, learning_rate=0.1, colsample_bytree=0.2 \n",
      "[CV]  subsample_freq=100, subsample_for_bin=200, subsample=0.1, scale_pos_weight=1, reg_lambda=0.2, reg_alpha=7, objective=binary, num_leaves=10000, min_split_gain=2.0, min_child_weight=3, min_child_samples=50, metric=auc, max_depth=30, max_bin=100, learning_rate=0.1, colsample_bytree=0.2, total=  15.1s\n",
      "[CV] subsample_freq=100, subsample_for_bin=200, subsample=0.1, scale_pos_weight=1, reg_lambda=0.2, reg_alpha=7, objective=binary, num_leaves=10000, min_split_gain=2.0, min_child_weight=3, min_child_samples=50, metric=auc, max_depth=30, max_bin=100, learning_rate=0.1, colsample_bytree=0.2 \n",
      "[CV]  subsample_freq=100, subsample_for_bin=200, subsample=0.1, scale_pos_weight=1, reg_lambda=0.2, reg_alpha=7, objective=binary, num_leaves=10000, min_split_gain=2.0, min_child_weight=3, min_child_samples=50, metric=auc, max_depth=30, max_bin=100, learning_rate=0.1, colsample_bytree=0.2, total=  15.0s\n",
      "[CV] subsample_freq=2, subsample_for_bin=10, subsample=0.4, scale_pos_weight=0.05276699578395344, reg_lambda=0.2, reg_alpha=8, objective=binary, num_leaves=10000, min_split_gain=2.0, min_child_weight=6, min_child_samples=100, metric=auc, max_depth=40, max_bin=100, learning_rate=0.005, colsample_bytree=0.3 \n",
      "[CV]  subsample_freq=2, subsample_for_bin=10, subsample=0.4, scale_pos_weight=0.05276699578395344, reg_lambda=0.2, reg_alpha=8, objective=binary, num_leaves=10000, min_split_gain=2.0, min_child_weight=6, min_child_samples=100, metric=auc, max_depth=40, max_bin=100, learning_rate=0.005, colsample_bytree=0.3, total=   9.4s\n",
      "[CV] subsample_freq=2, subsample_for_bin=10, subsample=0.4, scale_pos_weight=0.05276699578395344, reg_lambda=0.2, reg_alpha=8, objective=binary, num_leaves=10000, min_split_gain=2.0, min_child_weight=6, min_child_samples=100, metric=auc, max_depth=40, max_bin=100, learning_rate=0.005, colsample_bytree=0.3 \n",
      "[CV]  subsample_freq=2, subsample_for_bin=10, subsample=0.4, scale_pos_weight=0.05276699578395344, reg_lambda=0.2, reg_alpha=8, objective=binary, num_leaves=10000, min_split_gain=2.0, min_child_weight=6, min_child_samples=100, metric=auc, max_depth=40, max_bin=100, learning_rate=0.005, colsample_bytree=0.3, total=   9.3s\n",
      "[CV] subsample_freq=2, subsample_for_bin=10, subsample=0.4, scale_pos_weight=0.05276699578395344, reg_lambda=0.2, reg_alpha=8, objective=binary, num_leaves=10000, min_split_gain=2.0, min_child_weight=6, min_child_samples=100, metric=auc, max_depth=40, max_bin=100, learning_rate=0.005, colsample_bytree=0.3 \n",
      "[CV]  subsample_freq=2, subsample_for_bin=10, subsample=0.4, scale_pos_weight=0.05276699578395344, reg_lambda=0.2, reg_alpha=8, objective=binary, num_leaves=10000, min_split_gain=2.0, min_child_weight=6, min_child_samples=100, metric=auc, max_depth=40, max_bin=100, learning_rate=0.005, colsample_bytree=0.3, total=   8.2s\n",
      "[CV] subsample_freq=2, subsample_for_bin=10, subsample=0.4, scale_pos_weight=0.05276699578395344, reg_lambda=0.2, reg_alpha=8, objective=binary, num_leaves=10000, min_split_gain=2.0, min_child_weight=6, min_child_samples=100, metric=auc, max_depth=40, max_bin=100, learning_rate=0.005, colsample_bytree=0.3 \n",
      "[CV]  subsample_freq=2, subsample_for_bin=10, subsample=0.4, scale_pos_weight=0.05276699578395344, reg_lambda=0.2, reg_alpha=8, objective=binary, num_leaves=10000, min_split_gain=2.0, min_child_weight=6, min_child_samples=100, metric=auc, max_depth=40, max_bin=100, learning_rate=0.005, colsample_bytree=0.3, total=  10.4s\n",
      "[CV] subsample_freq=2, subsample_for_bin=10, subsample=0.4, scale_pos_weight=1, reg_lambda=0, reg_alpha=8, objective=binary, num_leaves=10000, min_split_gain=2.0, min_child_weight=6, min_child_samples=30, metric=auc, max_depth=10, max_bin=200, learning_rate=0.1, colsample_bytree=0.2 \n",
      "[CV]  subsample_freq=2, subsample_for_bin=10, subsample=0.4, scale_pos_weight=1, reg_lambda=0, reg_alpha=8, objective=binary, num_leaves=10000, min_split_gain=2.0, min_child_weight=6, min_child_samples=30, metric=auc, max_depth=10, max_bin=200, learning_rate=0.1, colsample_bytree=0.2, total=  10.2s\n",
      "[CV] subsample_freq=2, subsample_for_bin=10, subsample=0.4, scale_pos_weight=1, reg_lambda=0, reg_alpha=8, objective=binary, num_leaves=10000, min_split_gain=2.0, min_child_weight=6, min_child_samples=30, metric=auc, max_depth=10, max_bin=200, learning_rate=0.1, colsample_bytree=0.2 \n",
      "[CV]  subsample_freq=2, subsample_for_bin=10, subsample=0.4, scale_pos_weight=1, reg_lambda=0, reg_alpha=8, objective=binary, num_leaves=10000, min_split_gain=2.0, min_child_weight=6, min_child_samples=30, metric=auc, max_depth=10, max_bin=200, learning_rate=0.1, colsample_bytree=0.2, total=  10.7s\n",
      "[CV] subsample_freq=2, subsample_for_bin=10, subsample=0.4, scale_pos_weight=1, reg_lambda=0, reg_alpha=8, objective=binary, num_leaves=10000, min_split_gain=2.0, min_child_weight=6, min_child_samples=30, metric=auc, max_depth=10, max_bin=200, learning_rate=0.1, colsample_bytree=0.2 \n",
      "[CV]  subsample_freq=2, subsample_for_bin=10, subsample=0.4, scale_pos_weight=1, reg_lambda=0, reg_alpha=8, objective=binary, num_leaves=10000, min_split_gain=2.0, min_child_weight=6, min_child_samples=30, metric=auc, max_depth=10, max_bin=200, learning_rate=0.1, colsample_bytree=0.2, total=   8.4s\n",
      "[CV] subsample_freq=2, subsample_for_bin=10, subsample=0.4, scale_pos_weight=1, reg_lambda=0, reg_alpha=8, objective=binary, num_leaves=10000, min_split_gain=2.0, min_child_weight=6, min_child_samples=30, metric=auc, max_depth=10, max_bin=200, learning_rate=0.1, colsample_bytree=0.2 \n",
      "[CV]  subsample_freq=2, subsample_for_bin=10, subsample=0.4, scale_pos_weight=1, reg_lambda=0, reg_alpha=8, objective=binary, num_leaves=10000, min_split_gain=2.0, min_child_weight=6, min_child_samples=30, metric=auc, max_depth=10, max_bin=200, learning_rate=0.1, colsample_bytree=0.2, total=  11.9s\n",
      "[CV] subsample_freq=30, subsample_for_bin=100, subsample=0.7, scale_pos_weight=0.05276699578395344, reg_lambda=0.2, reg_alpha=2, objective=binary, num_leaves=1000, min_split_gain=10.0, min_child_weight=6, min_child_samples=50, metric=auc, max_depth=40, max_bin=200, learning_rate=0.05, colsample_bytree=0.7 \n",
      "[CV]  subsample_freq=30, subsample_for_bin=100, subsample=0.7, scale_pos_weight=0.05276699578395344, reg_lambda=0.2, reg_alpha=2, objective=binary, num_leaves=1000, min_split_gain=10.0, min_child_weight=6, min_child_samples=50, metric=auc, max_depth=40, max_bin=200, learning_rate=0.05, colsample_bytree=0.7, total=  16.2s\n",
      "[CV] subsample_freq=30, subsample_for_bin=100, subsample=0.7, scale_pos_weight=0.05276699578395344, reg_lambda=0.2, reg_alpha=2, objective=binary, num_leaves=1000, min_split_gain=10.0, min_child_weight=6, min_child_samples=50, metric=auc, max_depth=40, max_bin=200, learning_rate=0.05, colsample_bytree=0.7 \n"
     ]
    },
    {
     "name": "stdout",
     "output_type": "stream",
     "text": [
      "[CV]  subsample_freq=30, subsample_for_bin=100, subsample=0.7, scale_pos_weight=0.05276699578395344, reg_lambda=0.2, reg_alpha=2, objective=binary, num_leaves=1000, min_split_gain=10.0, min_child_weight=6, min_child_samples=50, metric=auc, max_depth=40, max_bin=200, learning_rate=0.05, colsample_bytree=0.7, total=  15.3s\n",
      "[CV] subsample_freq=30, subsample_for_bin=100, subsample=0.7, scale_pos_weight=0.05276699578395344, reg_lambda=0.2, reg_alpha=2, objective=binary, num_leaves=1000, min_split_gain=10.0, min_child_weight=6, min_child_samples=50, metric=auc, max_depth=40, max_bin=200, learning_rate=0.05, colsample_bytree=0.7 \n",
      "[CV]  subsample_freq=30, subsample_for_bin=100, subsample=0.7, scale_pos_weight=0.05276699578395344, reg_lambda=0.2, reg_alpha=2, objective=binary, num_leaves=1000, min_split_gain=10.0, min_child_weight=6, min_child_samples=50, metric=auc, max_depth=40, max_bin=200, learning_rate=0.05, colsample_bytree=0.7, total=  15.2s\n",
      "[CV] subsample_freq=30, subsample_for_bin=100, subsample=0.7, scale_pos_weight=0.05276699578395344, reg_lambda=0.2, reg_alpha=2, objective=binary, num_leaves=1000, min_split_gain=10.0, min_child_weight=6, min_child_samples=50, metric=auc, max_depth=40, max_bin=200, learning_rate=0.05, colsample_bytree=0.7 \n",
      "[CV]  subsample_freq=30, subsample_for_bin=100, subsample=0.7, scale_pos_weight=0.05276699578395344, reg_lambda=0.2, reg_alpha=2, objective=binary, num_leaves=1000, min_split_gain=10.0, min_child_weight=6, min_child_samples=50, metric=auc, max_depth=40, max_bin=200, learning_rate=0.05, colsample_bytree=0.7, total=  16.0s\n",
      "[CV] subsample_freq=2, subsample_for_bin=10, subsample=0.4, scale_pos_weight=0.05276699578395344, reg_lambda=0.2, reg_alpha=5, objective=binary, num_leaves=10000, min_split_gain=1.1, min_child_weight=6, min_child_samples=100, metric=auc, max_depth=20, max_bin=100, learning_rate=0.05, colsample_bytree=0.3 \n",
      "[CV]  subsample_freq=2, subsample_for_bin=10, subsample=0.4, scale_pos_weight=0.05276699578395344, reg_lambda=0.2, reg_alpha=5, objective=binary, num_leaves=10000, min_split_gain=1.1, min_child_weight=6, min_child_samples=100, metric=auc, max_depth=20, max_bin=100, learning_rate=0.05, colsample_bytree=0.3, total=   9.2s\n",
      "[CV] subsample_freq=2, subsample_for_bin=10, subsample=0.4, scale_pos_weight=0.05276699578395344, reg_lambda=0.2, reg_alpha=5, objective=binary, num_leaves=10000, min_split_gain=1.1, min_child_weight=6, min_child_samples=100, metric=auc, max_depth=20, max_bin=100, learning_rate=0.05, colsample_bytree=0.3 \n",
      "[CV]  subsample_freq=2, subsample_for_bin=10, subsample=0.4, scale_pos_weight=0.05276699578395344, reg_lambda=0.2, reg_alpha=5, objective=binary, num_leaves=10000, min_split_gain=1.1, min_child_weight=6, min_child_samples=100, metric=auc, max_depth=20, max_bin=100, learning_rate=0.05, colsample_bytree=0.3, total=   9.3s\n",
      "[CV] subsample_freq=2, subsample_for_bin=10, subsample=0.4, scale_pos_weight=0.05276699578395344, reg_lambda=0.2, reg_alpha=5, objective=binary, num_leaves=10000, min_split_gain=1.1, min_child_weight=6, min_child_samples=100, metric=auc, max_depth=20, max_bin=100, learning_rate=0.05, colsample_bytree=0.3 \n",
      "[CV]  subsample_freq=2, subsample_for_bin=10, subsample=0.4, scale_pos_weight=0.05276699578395344, reg_lambda=0.2, reg_alpha=5, objective=binary, num_leaves=10000, min_split_gain=1.1, min_child_weight=6, min_child_samples=100, metric=auc, max_depth=20, max_bin=100, learning_rate=0.05, colsample_bytree=0.3, total=   8.4s\n",
      "[CV] subsample_freq=2, subsample_for_bin=10, subsample=0.4, scale_pos_weight=0.05276699578395344, reg_lambda=0.2, reg_alpha=5, objective=binary, num_leaves=10000, min_split_gain=1.1, min_child_weight=6, min_child_samples=100, metric=auc, max_depth=20, max_bin=100, learning_rate=0.05, colsample_bytree=0.3 \n",
      "[CV]  subsample_freq=2, subsample_for_bin=10, subsample=0.4, scale_pos_weight=0.05276699578395344, reg_lambda=0.2, reg_alpha=5, objective=binary, num_leaves=10000, min_split_gain=1.1, min_child_weight=6, min_child_samples=100, metric=auc, max_depth=20, max_bin=100, learning_rate=0.05, colsample_bytree=0.3, total=  10.1s\n",
      "[CV] subsample_freq=100, subsample_for_bin=10, subsample=0.4, scale_pos_weight=18.951239977624464, reg_lambda=0.8, reg_alpha=7, objective=binary, num_leaves=10000, min_split_gain=2.0, min_child_weight=3, min_child_samples=50, metric=auc, max_depth=40, max_bin=200, learning_rate=0.05, colsample_bytree=0.7 \n",
      "[CV]  subsample_freq=100, subsample_for_bin=10, subsample=0.4, scale_pos_weight=18.951239977624464, reg_lambda=0.8, reg_alpha=7, objective=binary, num_leaves=10000, min_split_gain=2.0, min_child_weight=3, min_child_samples=50, metric=auc, max_depth=40, max_bin=200, learning_rate=0.05, colsample_bytree=0.7, total=  18.1s\n",
      "[CV] subsample_freq=100, subsample_for_bin=10, subsample=0.4, scale_pos_weight=18.951239977624464, reg_lambda=0.8, reg_alpha=7, objective=binary, num_leaves=10000, min_split_gain=2.0, min_child_weight=3, min_child_samples=50, metric=auc, max_depth=40, max_bin=200, learning_rate=0.05, colsample_bytree=0.7 \n",
      "[CV]  subsample_freq=100, subsample_for_bin=10, subsample=0.4, scale_pos_weight=18.951239977624464, reg_lambda=0.8, reg_alpha=7, objective=binary, num_leaves=10000, min_split_gain=2.0, min_child_weight=3, min_child_samples=50, metric=auc, max_depth=40, max_bin=200, learning_rate=0.05, colsample_bytree=0.7, total=  19.9s\n",
      "[CV] subsample_freq=100, subsample_for_bin=10, subsample=0.4, scale_pos_weight=18.951239977624464, reg_lambda=0.8, reg_alpha=7, objective=binary, num_leaves=10000, min_split_gain=2.0, min_child_weight=3, min_child_samples=50, metric=auc, max_depth=40, max_bin=200, learning_rate=0.05, colsample_bytree=0.7 \n",
      "[CV]  subsample_freq=100, subsample_for_bin=10, subsample=0.4, scale_pos_weight=18.951239977624464, reg_lambda=0.8, reg_alpha=7, objective=binary, num_leaves=10000, min_split_gain=2.0, min_child_weight=3, min_child_samples=50, metric=auc, max_depth=40, max_bin=200, learning_rate=0.05, colsample_bytree=0.7, total=  12.1s\n",
      "[CV] subsample_freq=100, subsample_for_bin=10, subsample=0.4, scale_pos_weight=18.951239977624464, reg_lambda=0.8, reg_alpha=7, objective=binary, num_leaves=10000, min_split_gain=2.0, min_child_weight=3, min_child_samples=50, metric=auc, max_depth=40, max_bin=200, learning_rate=0.05, colsample_bytree=0.7 \n",
      "[CV]  subsample_freq=100, subsample_for_bin=10, subsample=0.4, scale_pos_weight=18.951239977624464, reg_lambda=0.8, reg_alpha=7, objective=binary, num_leaves=10000, min_split_gain=2.0, min_child_weight=3, min_child_samples=50, metric=auc, max_depth=40, max_bin=200, learning_rate=0.05, colsample_bytree=0.7, total=  22.5s\n",
      "[CV] subsample_freq=100, subsample_for_bin=10, subsample=0.7, scale_pos_weight=18.951239977624464, reg_lambda=0.8, reg_alpha=7, objective=binary, num_leaves=1000, min_split_gain=2.0, min_child_weight=6, min_child_samples=50, metric=auc, max_depth=30, max_bin=50, learning_rate=0.1, colsample_bytree=0.3 \n",
      "[CV]  subsample_freq=100, subsample_for_bin=10, subsample=0.7, scale_pos_weight=18.951239977624464, reg_lambda=0.8, reg_alpha=7, objective=binary, num_leaves=1000, min_split_gain=2.0, min_child_weight=6, min_child_samples=50, metric=auc, max_depth=30, max_bin=50, learning_rate=0.1, colsample_bytree=0.3, total=  16.9s\n",
      "[CV] subsample_freq=100, subsample_for_bin=10, subsample=0.7, scale_pos_weight=18.951239977624464, reg_lambda=0.8, reg_alpha=7, objective=binary, num_leaves=1000, min_split_gain=2.0, min_child_weight=6, min_child_samples=50, metric=auc, max_depth=30, max_bin=50, learning_rate=0.1, colsample_bytree=0.3 \n",
      "[CV]  subsample_freq=100, subsample_for_bin=10, subsample=0.7, scale_pos_weight=18.951239977624464, reg_lambda=0.8, reg_alpha=7, objective=binary, num_leaves=1000, min_split_gain=2.0, min_child_weight=6, min_child_samples=50, metric=auc, max_depth=30, max_bin=50, learning_rate=0.1, colsample_bytree=0.3, total=  18.1s\n",
      "[CV] subsample_freq=100, subsample_for_bin=10, subsample=0.7, scale_pos_weight=18.951239977624464, reg_lambda=0.8, reg_alpha=7, objective=binary, num_leaves=1000, min_split_gain=2.0, min_child_weight=6, min_child_samples=50, metric=auc, max_depth=30, max_bin=50, learning_rate=0.1, colsample_bytree=0.3 \n",
      "[CV]  subsample_freq=100, subsample_for_bin=10, subsample=0.7, scale_pos_weight=18.951239977624464, reg_lambda=0.8, reg_alpha=7, objective=binary, num_leaves=1000, min_split_gain=2.0, min_child_weight=6, min_child_samples=50, metric=auc, max_depth=30, max_bin=50, learning_rate=0.1, colsample_bytree=0.3, total=  11.1s\n",
      "[CV] subsample_freq=100, subsample_for_bin=10, subsample=0.7, scale_pos_weight=18.951239977624464, reg_lambda=0.8, reg_alpha=7, objective=binary, num_leaves=1000, min_split_gain=2.0, min_child_weight=6, min_child_samples=50, metric=auc, max_depth=30, max_bin=50, learning_rate=0.1, colsample_bytree=0.3 \n"
     ]
    },
    {
     "name": "stdout",
     "output_type": "stream",
     "text": [
      "[CV]  subsample_freq=100, subsample_for_bin=10, subsample=0.7, scale_pos_weight=18.951239977624464, reg_lambda=0.8, reg_alpha=7, objective=binary, num_leaves=1000, min_split_gain=2.0, min_child_weight=6, min_child_samples=50, metric=auc, max_depth=30, max_bin=50, learning_rate=0.1, colsample_bytree=0.3, total=  21.4s\n",
      "[CV] subsample_freq=2, subsample_for_bin=100, subsample=0.1, scale_pos_weight=1, reg_lambda=0.2, reg_alpha=2, objective=binary, num_leaves=50, min_split_gain=2.0, min_child_weight=2, min_child_samples=30, metric=auc, max_depth=30, max_bin=50, learning_rate=0.005, colsample_bytree=0.2 \n",
      "[CV]  subsample_freq=2, subsample_for_bin=100, subsample=0.1, scale_pos_weight=1, reg_lambda=0.2, reg_alpha=2, objective=binary, num_leaves=50, min_split_gain=2.0, min_child_weight=2, min_child_samples=30, metric=auc, max_depth=30, max_bin=50, learning_rate=0.005, colsample_bytree=0.2, total=  12.9s\n",
      "[CV] subsample_freq=2, subsample_for_bin=100, subsample=0.1, scale_pos_weight=1, reg_lambda=0.2, reg_alpha=2, objective=binary, num_leaves=50, min_split_gain=2.0, min_child_weight=2, min_child_samples=30, metric=auc, max_depth=30, max_bin=50, learning_rate=0.005, colsample_bytree=0.2 \n",
      "[CV]  subsample_freq=2, subsample_for_bin=100, subsample=0.1, scale_pos_weight=1, reg_lambda=0.2, reg_alpha=2, objective=binary, num_leaves=50, min_split_gain=2.0, min_child_weight=2, min_child_samples=30, metric=auc, max_depth=30, max_bin=50, learning_rate=0.005, colsample_bytree=0.2, total=  11.0s\n",
      "[CV] subsample_freq=2, subsample_for_bin=100, subsample=0.1, scale_pos_weight=1, reg_lambda=0.2, reg_alpha=2, objective=binary, num_leaves=50, min_split_gain=2.0, min_child_weight=2, min_child_samples=30, metric=auc, max_depth=30, max_bin=50, learning_rate=0.005, colsample_bytree=0.2 \n",
      "[CV]  subsample_freq=2, subsample_for_bin=100, subsample=0.1, scale_pos_weight=1, reg_lambda=0.2, reg_alpha=2, objective=binary, num_leaves=50, min_split_gain=2.0, min_child_weight=2, min_child_samples=30, metric=auc, max_depth=30, max_bin=50, learning_rate=0.005, colsample_bytree=0.2, total=  12.2s\n",
      "[CV] subsample_freq=2, subsample_for_bin=100, subsample=0.1, scale_pos_weight=1, reg_lambda=0.2, reg_alpha=2, objective=binary, num_leaves=50, min_split_gain=2.0, min_child_weight=2, min_child_samples=30, metric=auc, max_depth=30, max_bin=50, learning_rate=0.005, colsample_bytree=0.2 \n",
      "[CV]  subsample_freq=2, subsample_for_bin=100, subsample=0.1, scale_pos_weight=1, reg_lambda=0.2, reg_alpha=2, objective=binary, num_leaves=50, min_split_gain=2.0, min_child_weight=2, min_child_samples=30, metric=auc, max_depth=30, max_bin=50, learning_rate=0.005, colsample_bytree=0.2, total=  12.1s\n",
      "[CV] subsample_freq=2, subsample_for_bin=100, subsample=0.7, scale_pos_weight=1, reg_lambda=0.8, reg_alpha=5, objective=binary, num_leaves=10000, min_split_gain=1.1, min_child_weight=3, min_child_samples=100, metric=auc, max_depth=20, max_bin=50, learning_rate=0.005, colsample_bytree=0.2 \n",
      "[CV]  subsample_freq=2, subsample_for_bin=100, subsample=0.7, scale_pos_weight=1, reg_lambda=0.8, reg_alpha=5, objective=binary, num_leaves=10000, min_split_gain=1.1, min_child_weight=3, min_child_samples=100, metric=auc, max_depth=20, max_bin=50, learning_rate=0.005, colsample_bytree=0.2, total=  47.8s\n",
      "[CV] subsample_freq=2, subsample_for_bin=100, subsample=0.7, scale_pos_weight=1, reg_lambda=0.8, reg_alpha=5, objective=binary, num_leaves=10000, min_split_gain=1.1, min_child_weight=3, min_child_samples=100, metric=auc, max_depth=20, max_bin=50, learning_rate=0.005, colsample_bytree=0.2 \n",
      "[CV]  subsample_freq=2, subsample_for_bin=100, subsample=0.7, scale_pos_weight=1, reg_lambda=0.8, reg_alpha=5, objective=binary, num_leaves=10000, min_split_gain=1.1, min_child_weight=3, min_child_samples=100, metric=auc, max_depth=20, max_bin=50, learning_rate=0.005, colsample_bytree=0.2, total=  37.6s\n",
      "[CV] subsample_freq=2, subsample_for_bin=100, subsample=0.7, scale_pos_weight=1, reg_lambda=0.8, reg_alpha=5, objective=binary, num_leaves=10000, min_split_gain=1.1, min_child_weight=3, min_child_samples=100, metric=auc, max_depth=20, max_bin=50, learning_rate=0.005, colsample_bytree=0.2 \n",
      "[CV]  subsample_freq=2, subsample_for_bin=100, subsample=0.7, scale_pos_weight=1, reg_lambda=0.8, reg_alpha=5, objective=binary, num_leaves=10000, min_split_gain=1.1, min_child_weight=3, min_child_samples=100, metric=auc, max_depth=20, max_bin=50, learning_rate=0.005, colsample_bytree=0.2, total=  43.9s\n",
      "[CV] subsample_freq=2, subsample_for_bin=100, subsample=0.7, scale_pos_weight=1, reg_lambda=0.8, reg_alpha=5, objective=binary, num_leaves=10000, min_split_gain=1.1, min_child_weight=3, min_child_samples=100, metric=auc, max_depth=20, max_bin=50, learning_rate=0.005, colsample_bytree=0.2 \n",
      "[CV]  subsample_freq=2, subsample_for_bin=100, subsample=0.7, scale_pos_weight=1, reg_lambda=0.8, reg_alpha=5, objective=binary, num_leaves=10000, min_split_gain=1.1, min_child_weight=3, min_child_samples=100, metric=auc, max_depth=20, max_bin=50, learning_rate=0.005, colsample_bytree=0.2, total=  44.4s\n",
      "[CV] subsample_freq=30, subsample_for_bin=200, subsample=0.4, scale_pos_weight=18.951239977624464, reg_lambda=0.2, reg_alpha=3, objective=binary, num_leaves=10000, min_split_gain=1.1, min_child_weight=3, min_child_samples=100, metric=auc, max_depth=20, max_bin=50, learning_rate=0.005, colsample_bytree=0.2 \n",
      "[CV]  subsample_freq=30, subsample_for_bin=200, subsample=0.4, scale_pos_weight=18.951239977624464, reg_lambda=0.2, reg_alpha=3, objective=binary, num_leaves=10000, min_split_gain=1.1, min_child_weight=3, min_child_samples=100, metric=auc, max_depth=20, max_bin=50, learning_rate=0.005, colsample_bytree=0.2, total=  52.8s\n",
      "[CV] subsample_freq=30, subsample_for_bin=200, subsample=0.4, scale_pos_weight=18.951239977624464, reg_lambda=0.2, reg_alpha=3, objective=binary, num_leaves=10000, min_split_gain=1.1, min_child_weight=3, min_child_samples=100, metric=auc, max_depth=20, max_bin=50, learning_rate=0.005, colsample_bytree=0.2 \n",
      "[CV]  subsample_freq=30, subsample_for_bin=200, subsample=0.4, scale_pos_weight=18.951239977624464, reg_lambda=0.2, reg_alpha=3, objective=binary, num_leaves=10000, min_split_gain=1.1, min_child_weight=3, min_child_samples=100, metric=auc, max_depth=20, max_bin=50, learning_rate=0.005, colsample_bytree=0.2, total=  41.6s\n",
      "[CV] subsample_freq=30, subsample_for_bin=200, subsample=0.4, scale_pos_weight=18.951239977624464, reg_lambda=0.2, reg_alpha=3, objective=binary, num_leaves=10000, min_split_gain=1.1, min_child_weight=3, min_child_samples=100, metric=auc, max_depth=20, max_bin=50, learning_rate=0.005, colsample_bytree=0.2 \n",
      "[CV]  subsample_freq=30, subsample_for_bin=200, subsample=0.4, scale_pos_weight=18.951239977624464, reg_lambda=0.2, reg_alpha=3, objective=binary, num_leaves=10000, min_split_gain=1.1, min_child_weight=3, min_child_samples=100, metric=auc, max_depth=20, max_bin=50, learning_rate=0.005, colsample_bytree=0.2, total=  40.1s\n",
      "[CV] subsample_freq=30, subsample_for_bin=200, subsample=0.4, scale_pos_weight=18.951239977624464, reg_lambda=0.2, reg_alpha=3, objective=binary, num_leaves=10000, min_split_gain=1.1, min_child_weight=3, min_child_samples=100, metric=auc, max_depth=20, max_bin=50, learning_rate=0.005, colsample_bytree=0.2 \n",
      "[CV]  subsample_freq=30, subsample_for_bin=200, subsample=0.4, scale_pos_weight=18.951239977624464, reg_lambda=0.2, reg_alpha=3, objective=binary, num_leaves=10000, min_split_gain=1.1, min_child_weight=3, min_child_samples=100, metric=auc, max_depth=20, max_bin=50, learning_rate=0.005, colsample_bytree=0.2, total=  39.1s\n",
      "[CV] subsample_freq=30, subsample_for_bin=10, subsample=0.7, scale_pos_weight=18.951239977624464, reg_lambda=0, reg_alpha=2, objective=binary, num_leaves=1000, min_split_gain=1.1, min_child_weight=6, min_child_samples=30, metric=auc, max_depth=20, max_bin=50, learning_rate=0.1, colsample_bytree=0.7 \n",
      "[CV]  subsample_freq=30, subsample_for_bin=10, subsample=0.7, scale_pos_weight=18.951239977624464, reg_lambda=0, reg_alpha=2, objective=binary, num_leaves=1000, min_split_gain=1.1, min_child_weight=6, min_child_samples=30, metric=auc, max_depth=20, max_bin=50, learning_rate=0.1, colsample_bytree=0.7, total=  27.6s\n",
      "[CV] subsample_freq=30, subsample_for_bin=10, subsample=0.7, scale_pos_weight=18.951239977624464, reg_lambda=0, reg_alpha=2, objective=binary, num_leaves=1000, min_split_gain=1.1, min_child_weight=6, min_child_samples=30, metric=auc, max_depth=20, max_bin=50, learning_rate=0.1, colsample_bytree=0.7 \n"
     ]
    },
    {
     "name": "stdout",
     "output_type": "stream",
     "text": [
      "[CV]  subsample_freq=30, subsample_for_bin=10, subsample=0.7, scale_pos_weight=18.951239977624464, reg_lambda=0, reg_alpha=2, objective=binary, num_leaves=1000, min_split_gain=1.1, min_child_weight=6, min_child_samples=30, metric=auc, max_depth=20, max_bin=50, learning_rate=0.1, colsample_bytree=0.7, total=  28.5s\n",
      "[CV] subsample_freq=30, subsample_for_bin=10, subsample=0.7, scale_pos_weight=18.951239977624464, reg_lambda=0, reg_alpha=2, objective=binary, num_leaves=1000, min_split_gain=1.1, min_child_weight=6, min_child_samples=30, metric=auc, max_depth=20, max_bin=50, learning_rate=0.1, colsample_bytree=0.7 \n",
      "[CV]  subsample_freq=30, subsample_for_bin=10, subsample=0.7, scale_pos_weight=18.951239977624464, reg_lambda=0, reg_alpha=2, objective=binary, num_leaves=1000, min_split_gain=1.1, min_child_weight=6, min_child_samples=30, metric=auc, max_depth=20, max_bin=50, learning_rate=0.1, colsample_bytree=0.7, total=  18.0s\n",
      "[CV] subsample_freq=30, subsample_for_bin=10, subsample=0.7, scale_pos_weight=18.951239977624464, reg_lambda=0, reg_alpha=2, objective=binary, num_leaves=1000, min_split_gain=1.1, min_child_weight=6, min_child_samples=30, metric=auc, max_depth=20, max_bin=50, learning_rate=0.1, colsample_bytree=0.7 \n",
      "[CV]  subsample_freq=30, subsample_for_bin=10, subsample=0.7, scale_pos_weight=18.951239977624464, reg_lambda=0, reg_alpha=2, objective=binary, num_leaves=1000, min_split_gain=1.1, min_child_weight=6, min_child_samples=30, metric=auc, max_depth=20, max_bin=50, learning_rate=0.1, colsample_bytree=0.7, total=  32.6s\n",
      "[CV] subsample_freq=2, subsample_for_bin=100, subsample=0.7, scale_pos_weight=0.05276699578395344, reg_lambda=0.2, reg_alpha=3, objective=binary, num_leaves=10000, min_split_gain=2.0, min_child_weight=3, min_child_samples=30, metric=auc, max_depth=40, max_bin=200, learning_rate=0.05, colsample_bytree=0.2 \n",
      "[CV]  subsample_freq=2, subsample_for_bin=100, subsample=0.7, scale_pos_weight=0.05276699578395344, reg_lambda=0.2, reg_alpha=3, objective=binary, num_leaves=10000, min_split_gain=2.0, min_child_weight=3, min_child_samples=30, metric=auc, max_depth=40, max_bin=200, learning_rate=0.05, colsample_bytree=0.2, total=  21.6s\n",
      "[CV] subsample_freq=2, subsample_for_bin=100, subsample=0.7, scale_pos_weight=0.05276699578395344, reg_lambda=0.2, reg_alpha=3, objective=binary, num_leaves=10000, min_split_gain=2.0, min_child_weight=3, min_child_samples=30, metric=auc, max_depth=40, max_bin=200, learning_rate=0.05, colsample_bytree=0.2 \n",
      "[CV]  subsample_freq=2, subsample_for_bin=100, subsample=0.7, scale_pos_weight=0.05276699578395344, reg_lambda=0.2, reg_alpha=3, objective=binary, num_leaves=10000, min_split_gain=2.0, min_child_weight=3, min_child_samples=30, metric=auc, max_depth=40, max_bin=200, learning_rate=0.05, colsample_bytree=0.2, total=  18.8s\n",
      "[CV] subsample_freq=2, subsample_for_bin=100, subsample=0.7, scale_pos_weight=0.05276699578395344, reg_lambda=0.2, reg_alpha=3, objective=binary, num_leaves=10000, min_split_gain=2.0, min_child_weight=3, min_child_samples=30, metric=auc, max_depth=40, max_bin=200, learning_rate=0.05, colsample_bytree=0.2 \n",
      "[CV]  subsample_freq=2, subsample_for_bin=100, subsample=0.7, scale_pos_weight=0.05276699578395344, reg_lambda=0.2, reg_alpha=3, objective=binary, num_leaves=10000, min_split_gain=2.0, min_child_weight=3, min_child_samples=30, metric=auc, max_depth=40, max_bin=200, learning_rate=0.05, colsample_bytree=0.2, total=  20.1s\n",
      "[CV] subsample_freq=2, subsample_for_bin=100, subsample=0.7, scale_pos_weight=0.05276699578395344, reg_lambda=0.2, reg_alpha=3, objective=binary, num_leaves=10000, min_split_gain=2.0, min_child_weight=3, min_child_samples=30, metric=auc, max_depth=40, max_bin=200, learning_rate=0.05, colsample_bytree=0.2 \n",
      "[CV]  subsample_freq=2, subsample_for_bin=100, subsample=0.7, scale_pos_weight=0.05276699578395344, reg_lambda=0.2, reg_alpha=3, objective=binary, num_leaves=10000, min_split_gain=2.0, min_child_weight=3, min_child_samples=30, metric=auc, max_depth=40, max_bin=200, learning_rate=0.05, colsample_bytree=0.2, total=  21.2s\n",
      "[CV] subsample_freq=2, subsample_for_bin=10, subsample=0.1, scale_pos_weight=18.951239977624464, reg_lambda=0.2, reg_alpha=2, objective=binary, num_leaves=50, min_split_gain=10.0, min_child_weight=3, min_child_samples=50, metric=auc, max_depth=10, max_bin=50, learning_rate=0.05, colsample_bytree=0.2 \n",
      "[CV]  subsample_freq=2, subsample_for_bin=10, subsample=0.1, scale_pos_weight=18.951239977624464, reg_lambda=0.2, reg_alpha=2, objective=binary, num_leaves=50, min_split_gain=10.0, min_child_weight=3, min_child_samples=50, metric=auc, max_depth=10, max_bin=50, learning_rate=0.05, colsample_bytree=0.2, total=   7.2s\n",
      "[CV] subsample_freq=2, subsample_for_bin=10, subsample=0.1, scale_pos_weight=18.951239977624464, reg_lambda=0.2, reg_alpha=2, objective=binary, num_leaves=50, min_split_gain=10.0, min_child_weight=3, min_child_samples=50, metric=auc, max_depth=10, max_bin=50, learning_rate=0.05, colsample_bytree=0.2 \n",
      "[CV]  subsample_freq=2, subsample_for_bin=10, subsample=0.1, scale_pos_weight=18.951239977624464, reg_lambda=0.2, reg_alpha=2, objective=binary, num_leaves=50, min_split_gain=10.0, min_child_weight=3, min_child_samples=50, metric=auc, max_depth=10, max_bin=50, learning_rate=0.05, colsample_bytree=0.2, total=   7.4s\n",
      "[CV] subsample_freq=2, subsample_for_bin=10, subsample=0.1, scale_pos_weight=18.951239977624464, reg_lambda=0.2, reg_alpha=2, objective=binary, num_leaves=50, min_split_gain=10.0, min_child_weight=3, min_child_samples=50, metric=auc, max_depth=10, max_bin=50, learning_rate=0.05, colsample_bytree=0.2 \n",
      "[CV]  subsample_freq=2, subsample_for_bin=10, subsample=0.1, scale_pos_weight=18.951239977624464, reg_lambda=0.2, reg_alpha=2, objective=binary, num_leaves=50, min_split_gain=10.0, min_child_weight=3, min_child_samples=50, metric=auc, max_depth=10, max_bin=50, learning_rate=0.05, colsample_bytree=0.2, total=   5.9s\n",
      "[CV] subsample_freq=2, subsample_for_bin=10, subsample=0.1, scale_pos_weight=18.951239977624464, reg_lambda=0.2, reg_alpha=2, objective=binary, num_leaves=50, min_split_gain=10.0, min_child_weight=3, min_child_samples=50, metric=auc, max_depth=10, max_bin=50, learning_rate=0.05, colsample_bytree=0.2 \n",
      "[CV]  subsample_freq=2, subsample_for_bin=10, subsample=0.1, scale_pos_weight=18.951239977624464, reg_lambda=0.2, reg_alpha=2, objective=binary, num_leaves=50, min_split_gain=10.0, min_child_weight=3, min_child_samples=50, metric=auc, max_depth=10, max_bin=50, learning_rate=0.05, colsample_bytree=0.2, total=   7.6s\n",
      "[CV] subsample_freq=2, subsample_for_bin=200, subsample=0.1, scale_pos_weight=1, reg_lambda=0, reg_alpha=7, objective=binary, num_leaves=10000, min_split_gain=1.1, min_child_weight=6, min_child_samples=100, metric=auc, max_depth=20, max_bin=50, learning_rate=0.1, colsample_bytree=0.2 \n",
      "[CV]  subsample_freq=2, subsample_for_bin=200, subsample=0.1, scale_pos_weight=1, reg_lambda=0, reg_alpha=7, objective=binary, num_leaves=10000, min_split_gain=1.1, min_child_weight=6, min_child_samples=100, metric=auc, max_depth=20, max_bin=50, learning_rate=0.1, colsample_bytree=0.2, total=  19.4s\n",
      "[CV] subsample_freq=2, subsample_for_bin=200, subsample=0.1, scale_pos_weight=1, reg_lambda=0, reg_alpha=7, objective=binary, num_leaves=10000, min_split_gain=1.1, min_child_weight=6, min_child_samples=100, metric=auc, max_depth=20, max_bin=50, learning_rate=0.1, colsample_bytree=0.2 \n",
      "[CV]  subsample_freq=2, subsample_for_bin=200, subsample=0.1, scale_pos_weight=1, reg_lambda=0, reg_alpha=7, objective=binary, num_leaves=10000, min_split_gain=1.1, min_child_weight=6, min_child_samples=100, metric=auc, max_depth=20, max_bin=50, learning_rate=0.1, colsample_bytree=0.2, total=  17.2s\n",
      "[CV] subsample_freq=2, subsample_for_bin=200, subsample=0.1, scale_pos_weight=1, reg_lambda=0, reg_alpha=7, objective=binary, num_leaves=10000, min_split_gain=1.1, min_child_weight=6, min_child_samples=100, metric=auc, max_depth=20, max_bin=50, learning_rate=0.1, colsample_bytree=0.2 \n",
      "[CV]  subsample_freq=2, subsample_for_bin=200, subsample=0.1, scale_pos_weight=1, reg_lambda=0, reg_alpha=7, objective=binary, num_leaves=10000, min_split_gain=1.1, min_child_weight=6, min_child_samples=100, metric=auc, max_depth=20, max_bin=50, learning_rate=0.1, colsample_bytree=0.2, total=  16.4s\n",
      "[CV] subsample_freq=2, subsample_for_bin=200, subsample=0.1, scale_pos_weight=1, reg_lambda=0, reg_alpha=7, objective=binary, num_leaves=10000, min_split_gain=1.1, min_child_weight=6, min_child_samples=100, metric=auc, max_depth=20, max_bin=50, learning_rate=0.1, colsample_bytree=0.2 \n"
     ]
    },
    {
     "name": "stdout",
     "output_type": "stream",
     "text": [
      "[CV]  subsample_freq=2, subsample_for_bin=200, subsample=0.1, scale_pos_weight=1, reg_lambda=0, reg_alpha=7, objective=binary, num_leaves=10000, min_split_gain=1.1, min_child_weight=6, min_child_samples=100, metric=auc, max_depth=20, max_bin=50, learning_rate=0.1, colsample_bytree=0.2, total=  16.8s\n",
      "[CV] subsample_freq=100, subsample_for_bin=200, subsample=0.7, scale_pos_weight=1, reg_lambda=0, reg_alpha=8, objective=binary, num_leaves=10000, min_split_gain=1.1, min_child_weight=6, min_child_samples=100, metric=auc, max_depth=10, max_bin=200, learning_rate=0.1, colsample_bytree=0.2 \n",
      "[CV]  subsample_freq=100, subsample_for_bin=200, subsample=0.7, scale_pos_weight=1, reg_lambda=0, reg_alpha=8, objective=binary, num_leaves=10000, min_split_gain=1.1, min_child_weight=6, min_child_samples=100, metric=auc, max_depth=10, max_bin=200, learning_rate=0.1, colsample_bytree=0.2, total=  43.1s\n",
      "[CV] subsample_freq=100, subsample_for_bin=200, subsample=0.7, scale_pos_weight=1, reg_lambda=0, reg_alpha=8, objective=binary, num_leaves=10000, min_split_gain=1.1, min_child_weight=6, min_child_samples=100, metric=auc, max_depth=10, max_bin=200, learning_rate=0.1, colsample_bytree=0.2 \n",
      "[CV]  subsample_freq=100, subsample_for_bin=200, subsample=0.7, scale_pos_weight=1, reg_lambda=0, reg_alpha=8, objective=binary, num_leaves=10000, min_split_gain=1.1, min_child_weight=6, min_child_samples=100, metric=auc, max_depth=10, max_bin=200, learning_rate=0.1, colsample_bytree=0.2, total=  34.9s\n",
      "[CV] subsample_freq=100, subsample_for_bin=200, subsample=0.7, scale_pos_weight=1, reg_lambda=0, reg_alpha=8, objective=binary, num_leaves=10000, min_split_gain=1.1, min_child_weight=6, min_child_samples=100, metric=auc, max_depth=10, max_bin=200, learning_rate=0.1, colsample_bytree=0.2 \n",
      "[CV]  subsample_freq=100, subsample_for_bin=200, subsample=0.7, scale_pos_weight=1, reg_lambda=0, reg_alpha=8, objective=binary, num_leaves=10000, min_split_gain=1.1, min_child_weight=6, min_child_samples=100, metric=auc, max_depth=10, max_bin=200, learning_rate=0.1, colsample_bytree=0.2, total=  33.3s\n",
      "[CV] subsample_freq=100, subsample_for_bin=200, subsample=0.7, scale_pos_weight=1, reg_lambda=0, reg_alpha=8, objective=binary, num_leaves=10000, min_split_gain=1.1, min_child_weight=6, min_child_samples=100, metric=auc, max_depth=10, max_bin=200, learning_rate=0.1, colsample_bytree=0.2 \n",
      "[CV]  subsample_freq=100, subsample_for_bin=200, subsample=0.7, scale_pos_weight=1, reg_lambda=0, reg_alpha=8, objective=binary, num_leaves=10000, min_split_gain=1.1, min_child_weight=6, min_child_samples=100, metric=auc, max_depth=10, max_bin=200, learning_rate=0.1, colsample_bytree=0.2, total=  33.5s\n",
      "[CV] subsample_freq=2, subsample_for_bin=100, subsample=0.7, scale_pos_weight=1, reg_lambda=0.2, reg_alpha=7, objective=binary, num_leaves=50, min_split_gain=2.0, min_child_weight=3, min_child_samples=100, metric=auc, max_depth=20, max_bin=100, learning_rate=0.1, colsample_bytree=0.7 \n",
      "[CV]  subsample_freq=2, subsample_for_bin=100, subsample=0.7, scale_pos_weight=1, reg_lambda=0.2, reg_alpha=7, objective=binary, num_leaves=50, min_split_gain=2.0, min_child_weight=3, min_child_samples=100, metric=auc, max_depth=20, max_bin=100, learning_rate=0.1, colsample_bytree=0.7, total=  36.4s\n",
      "[CV] subsample_freq=2, subsample_for_bin=100, subsample=0.7, scale_pos_weight=1, reg_lambda=0.2, reg_alpha=7, objective=binary, num_leaves=50, min_split_gain=2.0, min_child_weight=3, min_child_samples=100, metric=auc, max_depth=20, max_bin=100, learning_rate=0.1, colsample_bytree=0.7 \n",
      "[CV]  subsample_freq=2, subsample_for_bin=100, subsample=0.7, scale_pos_weight=1, reg_lambda=0.2, reg_alpha=7, objective=binary, num_leaves=50, min_split_gain=2.0, min_child_weight=3, min_child_samples=100, metric=auc, max_depth=20, max_bin=100, learning_rate=0.1, colsample_bytree=0.7, total=  29.3s\n",
      "[CV] subsample_freq=2, subsample_for_bin=100, subsample=0.7, scale_pos_weight=1, reg_lambda=0.2, reg_alpha=7, objective=binary, num_leaves=50, min_split_gain=2.0, min_child_weight=3, min_child_samples=100, metric=auc, max_depth=20, max_bin=100, learning_rate=0.1, colsample_bytree=0.7 \n",
      "[CV]  subsample_freq=2, subsample_for_bin=100, subsample=0.7, scale_pos_weight=1, reg_lambda=0.2, reg_alpha=7, objective=binary, num_leaves=50, min_split_gain=2.0, min_child_weight=3, min_child_samples=100, metric=auc, max_depth=20, max_bin=100, learning_rate=0.1, colsample_bytree=0.7, total=  33.1s\n",
      "[CV] subsample_freq=2, subsample_for_bin=100, subsample=0.7, scale_pos_weight=1, reg_lambda=0.2, reg_alpha=7, objective=binary, num_leaves=50, min_split_gain=2.0, min_child_weight=3, min_child_samples=100, metric=auc, max_depth=20, max_bin=100, learning_rate=0.1, colsample_bytree=0.7 \n",
      "[CV]  subsample_freq=2, subsample_for_bin=100, subsample=0.7, scale_pos_weight=1, reg_lambda=0.2, reg_alpha=7, objective=binary, num_leaves=50, min_split_gain=2.0, min_child_weight=3, min_child_samples=100, metric=auc, max_depth=20, max_bin=100, learning_rate=0.1, colsample_bytree=0.7, total=  32.9s\n",
      "[CV] subsample_freq=30, subsample_for_bin=100, subsample=0.4, scale_pos_weight=18.951239977624464, reg_lambda=0, reg_alpha=5, objective=binary, num_leaves=50, min_split_gain=2.0, min_child_weight=3, min_child_samples=100, metric=auc, max_depth=30, max_bin=50, learning_rate=0.1, colsample_bytree=0.7 \n",
      "[CV]  subsample_freq=30, subsample_for_bin=100, subsample=0.4, scale_pos_weight=18.951239977624464, reg_lambda=0, reg_alpha=5, objective=binary, num_leaves=50, min_split_gain=2.0, min_child_weight=3, min_child_samples=100, metric=auc, max_depth=30, max_bin=50, learning_rate=0.1, colsample_bytree=0.7, total=  33.7s\n",
      "[CV] subsample_freq=30, subsample_for_bin=100, subsample=0.4, scale_pos_weight=18.951239977624464, reg_lambda=0, reg_alpha=5, objective=binary, num_leaves=50, min_split_gain=2.0, min_child_weight=3, min_child_samples=100, metric=auc, max_depth=30, max_bin=50, learning_rate=0.1, colsample_bytree=0.7 \n",
      "[CV]  subsample_freq=30, subsample_for_bin=100, subsample=0.4, scale_pos_weight=18.951239977624464, reg_lambda=0, reg_alpha=5, objective=binary, num_leaves=50, min_split_gain=2.0, min_child_weight=3, min_child_samples=100, metric=auc, max_depth=30, max_bin=50, learning_rate=0.1, colsample_bytree=0.7, total=  28.0s\n",
      "[CV] subsample_freq=30, subsample_for_bin=100, subsample=0.4, scale_pos_weight=18.951239977624464, reg_lambda=0, reg_alpha=5, objective=binary, num_leaves=50, min_split_gain=2.0, min_child_weight=3, min_child_samples=100, metric=auc, max_depth=30, max_bin=50, learning_rate=0.1, colsample_bytree=0.7 \n",
      "[CV]  subsample_freq=30, subsample_for_bin=100, subsample=0.4, scale_pos_weight=18.951239977624464, reg_lambda=0, reg_alpha=5, objective=binary, num_leaves=50, min_split_gain=2.0, min_child_weight=3, min_child_samples=100, metric=auc, max_depth=30, max_bin=50, learning_rate=0.1, colsample_bytree=0.7, total=  30.7s\n",
      "[CV] subsample_freq=30, subsample_for_bin=100, subsample=0.4, scale_pos_weight=18.951239977624464, reg_lambda=0, reg_alpha=5, objective=binary, num_leaves=50, min_split_gain=2.0, min_child_weight=3, min_child_samples=100, metric=auc, max_depth=30, max_bin=50, learning_rate=0.1, colsample_bytree=0.7 \n",
      "[CV]  subsample_freq=30, subsample_for_bin=100, subsample=0.4, scale_pos_weight=18.951239977624464, reg_lambda=0, reg_alpha=5, objective=binary, num_leaves=50, min_split_gain=2.0, min_child_weight=3, min_child_samples=100, metric=auc, max_depth=30, max_bin=50, learning_rate=0.1, colsample_bytree=0.7, total=  31.9s\n",
      "[CV] subsample_freq=100, subsample_for_bin=10, subsample=0.4, scale_pos_weight=18.951239977624464, reg_lambda=0.2, reg_alpha=7, objective=binary, num_leaves=10000, min_split_gain=1.1, min_child_weight=6, min_child_samples=100, metric=auc, max_depth=30, max_bin=100, learning_rate=0.005, colsample_bytree=0.2 \n",
      "[CV]  subsample_freq=100, subsample_for_bin=10, subsample=0.4, scale_pos_weight=18.951239977624464, reg_lambda=0.2, reg_alpha=7, objective=binary, num_leaves=10000, min_split_gain=1.1, min_child_weight=6, min_child_samples=100, metric=auc, max_depth=30, max_bin=100, learning_rate=0.005, colsample_bytree=0.2, total=  12.7s\n",
      "[CV] subsample_freq=100, subsample_for_bin=10, subsample=0.4, scale_pos_weight=18.951239977624464, reg_lambda=0.2, reg_alpha=7, objective=binary, num_leaves=10000, min_split_gain=1.1, min_child_weight=6, min_child_samples=100, metric=auc, max_depth=30, max_bin=100, learning_rate=0.005, colsample_bytree=0.2 \n"
     ]
    },
    {
     "name": "stdout",
     "output_type": "stream",
     "text": [
      "[CV]  subsample_freq=100, subsample_for_bin=10, subsample=0.4, scale_pos_weight=18.951239977624464, reg_lambda=0.2, reg_alpha=7, objective=binary, num_leaves=10000, min_split_gain=1.1, min_child_weight=6, min_child_samples=100, metric=auc, max_depth=30, max_bin=100, learning_rate=0.005, colsample_bytree=0.2, total=  13.2s\n",
      "[CV] subsample_freq=100, subsample_for_bin=10, subsample=0.4, scale_pos_weight=18.951239977624464, reg_lambda=0.2, reg_alpha=7, objective=binary, num_leaves=10000, min_split_gain=1.1, min_child_weight=6, min_child_samples=100, metric=auc, max_depth=30, max_bin=100, learning_rate=0.005, colsample_bytree=0.2 \n",
      "[CV]  subsample_freq=100, subsample_for_bin=10, subsample=0.4, scale_pos_weight=18.951239977624464, reg_lambda=0.2, reg_alpha=7, objective=binary, num_leaves=10000, min_split_gain=1.1, min_child_weight=6, min_child_samples=100, metric=auc, max_depth=30, max_bin=100, learning_rate=0.005, colsample_bytree=0.2, total=   8.7s\n",
      "[CV] subsample_freq=100, subsample_for_bin=10, subsample=0.4, scale_pos_weight=18.951239977624464, reg_lambda=0.2, reg_alpha=7, objective=binary, num_leaves=10000, min_split_gain=1.1, min_child_weight=6, min_child_samples=100, metric=auc, max_depth=30, max_bin=100, learning_rate=0.005, colsample_bytree=0.2 \n",
      "[CV]  subsample_freq=100, subsample_for_bin=10, subsample=0.4, scale_pos_weight=18.951239977624464, reg_lambda=0.2, reg_alpha=7, objective=binary, num_leaves=10000, min_split_gain=1.1, min_child_weight=6, min_child_samples=100, metric=auc, max_depth=30, max_bin=100, learning_rate=0.005, colsample_bytree=0.2, total=  15.5s\n",
      "[CV] subsample_freq=30, subsample_for_bin=10, subsample=0.7, scale_pos_weight=0.05276699578395344, reg_lambda=0.2, reg_alpha=5, objective=binary, num_leaves=1000, min_split_gain=1.1, min_child_weight=2, min_child_samples=50, metric=auc, max_depth=10, max_bin=200, learning_rate=0.1, colsample_bytree=0.2 \n",
      "[CV]  subsample_freq=30, subsample_for_bin=10, subsample=0.7, scale_pos_weight=0.05276699578395344, reg_lambda=0.2, reg_alpha=5, objective=binary, num_leaves=1000, min_split_gain=1.1, min_child_weight=2, min_child_samples=50, metric=auc, max_depth=10, max_bin=200, learning_rate=0.1, colsample_bytree=0.2, total=   8.7s\n",
      "[CV] subsample_freq=30, subsample_for_bin=10, subsample=0.7, scale_pos_weight=0.05276699578395344, reg_lambda=0.2, reg_alpha=5, objective=binary, num_leaves=1000, min_split_gain=1.1, min_child_weight=2, min_child_samples=50, metric=auc, max_depth=10, max_bin=200, learning_rate=0.1, colsample_bytree=0.2 \n",
      "[CV]  subsample_freq=30, subsample_for_bin=10, subsample=0.7, scale_pos_weight=0.05276699578395344, reg_lambda=0.2, reg_alpha=5, objective=binary, num_leaves=1000, min_split_gain=1.1, min_child_weight=2, min_child_samples=50, metric=auc, max_depth=10, max_bin=200, learning_rate=0.1, colsample_bytree=0.2, total=   8.4s\n",
      "[CV] subsample_freq=30, subsample_for_bin=10, subsample=0.7, scale_pos_weight=0.05276699578395344, reg_lambda=0.2, reg_alpha=5, objective=binary, num_leaves=1000, min_split_gain=1.1, min_child_weight=2, min_child_samples=50, metric=auc, max_depth=10, max_bin=200, learning_rate=0.1, colsample_bytree=0.2 \n",
      "[CV]  subsample_freq=30, subsample_for_bin=10, subsample=0.7, scale_pos_weight=0.05276699578395344, reg_lambda=0.2, reg_alpha=5, objective=binary, num_leaves=1000, min_split_gain=1.1, min_child_weight=2, min_child_samples=50, metric=auc, max_depth=10, max_bin=200, learning_rate=0.1, colsample_bytree=0.2, total=   7.0s\n",
      "[CV] subsample_freq=30, subsample_for_bin=10, subsample=0.7, scale_pos_weight=0.05276699578395344, reg_lambda=0.2, reg_alpha=5, objective=binary, num_leaves=1000, min_split_gain=1.1, min_child_weight=2, min_child_samples=50, metric=auc, max_depth=10, max_bin=200, learning_rate=0.1, colsample_bytree=0.2 \n",
      "[CV]  subsample_freq=30, subsample_for_bin=10, subsample=0.7, scale_pos_weight=0.05276699578395344, reg_lambda=0.2, reg_alpha=5, objective=binary, num_leaves=1000, min_split_gain=1.1, min_child_weight=2, min_child_samples=50, metric=auc, max_depth=10, max_bin=200, learning_rate=0.1, colsample_bytree=0.2, total=   9.6s\n",
      "[CV] subsample_freq=100, subsample_for_bin=10, subsample=0.1, scale_pos_weight=18.951239977624464, reg_lambda=0, reg_alpha=5, objective=binary, num_leaves=10000, min_split_gain=2.0, min_child_weight=3, min_child_samples=100, metric=auc, max_depth=20, max_bin=50, learning_rate=0.005, colsample_bytree=0.7 \n",
      "[CV]  subsample_freq=100, subsample_for_bin=10, subsample=0.1, scale_pos_weight=18.951239977624464, reg_lambda=0, reg_alpha=5, objective=binary, num_leaves=10000, min_split_gain=2.0, min_child_weight=3, min_child_samples=100, metric=auc, max_depth=20, max_bin=50, learning_rate=0.005, colsample_bytree=0.7, total=   9.6s\n",
      "[CV] subsample_freq=100, subsample_for_bin=10, subsample=0.1, scale_pos_weight=18.951239977624464, reg_lambda=0, reg_alpha=5, objective=binary, num_leaves=10000, min_split_gain=2.0, min_child_weight=3, min_child_samples=100, metric=auc, max_depth=20, max_bin=50, learning_rate=0.005, colsample_bytree=0.7 \n",
      "[CV]  subsample_freq=100, subsample_for_bin=10, subsample=0.1, scale_pos_weight=18.951239977624464, reg_lambda=0, reg_alpha=5, objective=binary, num_leaves=10000, min_split_gain=2.0, min_child_weight=3, min_child_samples=100, metric=auc, max_depth=20, max_bin=50, learning_rate=0.005, colsample_bytree=0.7, total=   9.8s\n",
      "[CV] subsample_freq=100, subsample_for_bin=10, subsample=0.1, scale_pos_weight=18.951239977624464, reg_lambda=0, reg_alpha=5, objective=binary, num_leaves=10000, min_split_gain=2.0, min_child_weight=3, min_child_samples=100, metric=auc, max_depth=20, max_bin=50, learning_rate=0.005, colsample_bytree=0.7 \n",
      "[CV]  subsample_freq=100, subsample_for_bin=10, subsample=0.1, scale_pos_weight=18.951239977624464, reg_lambda=0, reg_alpha=5, objective=binary, num_leaves=10000, min_split_gain=2.0, min_child_weight=3, min_child_samples=100, metric=auc, max_depth=20, max_bin=50, learning_rate=0.005, colsample_bytree=0.7, total=   7.4s\n",
      "[CV] subsample_freq=100, subsample_for_bin=10, subsample=0.1, scale_pos_weight=18.951239977624464, reg_lambda=0, reg_alpha=5, objective=binary, num_leaves=10000, min_split_gain=2.0, min_child_weight=3, min_child_samples=100, metric=auc, max_depth=20, max_bin=50, learning_rate=0.005, colsample_bytree=0.7 \n",
      "[CV]  subsample_freq=100, subsample_for_bin=10, subsample=0.1, scale_pos_weight=18.951239977624464, reg_lambda=0, reg_alpha=5, objective=binary, num_leaves=10000, min_split_gain=2.0, min_child_weight=3, min_child_samples=100, metric=auc, max_depth=20, max_bin=50, learning_rate=0.005, colsample_bytree=0.7, total=  10.7s\n",
      "[CV] subsample_freq=2, subsample_for_bin=200, subsample=0.1, scale_pos_weight=18.951239977624464, reg_lambda=0.2, reg_alpha=5, objective=binary, num_leaves=1000, min_split_gain=10.0, min_child_weight=2, min_child_samples=30, metric=auc, max_depth=30, max_bin=50, learning_rate=0.05, colsample_bytree=0.3 \n",
      "[CV]  subsample_freq=2, subsample_for_bin=200, subsample=0.1, scale_pos_weight=18.951239977624464, reg_lambda=0.2, reg_alpha=5, objective=binary, num_leaves=1000, min_split_gain=10.0, min_child_weight=2, min_child_samples=30, metric=auc, max_depth=30, max_bin=50, learning_rate=0.05, colsample_bytree=0.3, total=  23.4s\n",
      "[CV] subsample_freq=2, subsample_for_bin=200, subsample=0.1, scale_pos_weight=18.951239977624464, reg_lambda=0.2, reg_alpha=5, objective=binary, num_leaves=1000, min_split_gain=10.0, min_child_weight=2, min_child_samples=30, metric=auc, max_depth=30, max_bin=50, learning_rate=0.05, colsample_bytree=0.3 \n",
      "[CV]  subsample_freq=2, subsample_for_bin=200, subsample=0.1, scale_pos_weight=18.951239977624464, reg_lambda=0.2, reg_alpha=5, objective=binary, num_leaves=1000, min_split_gain=10.0, min_child_weight=2, min_child_samples=30, metric=auc, max_depth=30, max_bin=50, learning_rate=0.05, colsample_bytree=0.3, total=  18.8s\n",
      "[CV] subsample_freq=2, subsample_for_bin=200, subsample=0.1, scale_pos_weight=18.951239977624464, reg_lambda=0.2, reg_alpha=5, objective=binary, num_leaves=1000, min_split_gain=10.0, min_child_weight=2, min_child_samples=30, metric=auc, max_depth=30, max_bin=50, learning_rate=0.05, colsample_bytree=0.3 \n",
      "[CV]  subsample_freq=2, subsample_for_bin=200, subsample=0.1, scale_pos_weight=18.951239977624464, reg_lambda=0.2, reg_alpha=5, objective=binary, num_leaves=1000, min_split_gain=10.0, min_child_weight=2, min_child_samples=30, metric=auc, max_depth=30, max_bin=50, learning_rate=0.05, colsample_bytree=0.3, total=  18.1s\n",
      "[CV] subsample_freq=2, subsample_for_bin=200, subsample=0.1, scale_pos_weight=18.951239977624464, reg_lambda=0.2, reg_alpha=5, objective=binary, num_leaves=1000, min_split_gain=10.0, min_child_weight=2, min_child_samples=30, metric=auc, max_depth=30, max_bin=50, learning_rate=0.05, colsample_bytree=0.3 \n"
     ]
    },
    {
     "name": "stdout",
     "output_type": "stream",
     "text": [
      "[CV]  subsample_freq=2, subsample_for_bin=200, subsample=0.1, scale_pos_weight=18.951239977624464, reg_lambda=0.2, reg_alpha=5, objective=binary, num_leaves=1000, min_split_gain=10.0, min_child_weight=2, min_child_samples=30, metric=auc, max_depth=30, max_bin=50, learning_rate=0.05, colsample_bytree=0.3, total=  18.2s\n",
      "[CV] subsample_freq=100, subsample_for_bin=100, subsample=0.7, scale_pos_weight=0.05276699578395344, reg_lambda=0.2, reg_alpha=5, objective=binary, num_leaves=10000, min_split_gain=2.0, min_child_weight=2, min_child_samples=100, metric=auc, max_depth=30, max_bin=100, learning_rate=0.005, colsample_bytree=0.7 \n",
      "[CV]  subsample_freq=100, subsample_for_bin=100, subsample=0.7, scale_pos_weight=0.05276699578395344, reg_lambda=0.2, reg_alpha=5, objective=binary, num_leaves=10000, min_split_gain=2.0, min_child_weight=2, min_child_samples=100, metric=auc, max_depth=30, max_bin=100, learning_rate=0.005, colsample_bytree=0.7, total=  26.9s\n",
      "[CV] subsample_freq=100, subsample_for_bin=100, subsample=0.7, scale_pos_weight=0.05276699578395344, reg_lambda=0.2, reg_alpha=5, objective=binary, num_leaves=10000, min_split_gain=2.0, min_child_weight=2, min_child_samples=100, metric=auc, max_depth=30, max_bin=100, learning_rate=0.005, colsample_bytree=0.7 \n",
      "[CV]  subsample_freq=100, subsample_for_bin=100, subsample=0.7, scale_pos_weight=0.05276699578395344, reg_lambda=0.2, reg_alpha=5, objective=binary, num_leaves=10000, min_split_gain=2.0, min_child_weight=2, min_child_samples=100, metric=auc, max_depth=30, max_bin=100, learning_rate=0.005, colsample_bytree=0.7, total=  22.5s\n",
      "[CV] subsample_freq=100, subsample_for_bin=100, subsample=0.7, scale_pos_weight=0.05276699578395344, reg_lambda=0.2, reg_alpha=5, objective=binary, num_leaves=10000, min_split_gain=2.0, min_child_weight=2, min_child_samples=100, metric=auc, max_depth=30, max_bin=100, learning_rate=0.005, colsample_bytree=0.7 \n",
      "[CV]  subsample_freq=100, subsample_for_bin=100, subsample=0.7, scale_pos_weight=0.05276699578395344, reg_lambda=0.2, reg_alpha=5, objective=binary, num_leaves=10000, min_split_gain=2.0, min_child_weight=2, min_child_samples=100, metric=auc, max_depth=30, max_bin=100, learning_rate=0.005, colsample_bytree=0.7, total=  24.0s\n",
      "[CV] subsample_freq=100, subsample_for_bin=100, subsample=0.7, scale_pos_weight=0.05276699578395344, reg_lambda=0.2, reg_alpha=5, objective=binary, num_leaves=10000, min_split_gain=2.0, min_child_weight=2, min_child_samples=100, metric=auc, max_depth=30, max_bin=100, learning_rate=0.005, colsample_bytree=0.7 \n",
      "[CV]  subsample_freq=100, subsample_for_bin=100, subsample=0.7, scale_pos_weight=0.05276699578395344, reg_lambda=0.2, reg_alpha=5, objective=binary, num_leaves=10000, min_split_gain=2.0, min_child_weight=2, min_child_samples=100, metric=auc, max_depth=30, max_bin=100, learning_rate=0.005, colsample_bytree=0.7, total=  25.5s\n",
      "[CV] subsample_freq=2, subsample_for_bin=100, subsample=0.4, scale_pos_weight=18.951239977624464, reg_lambda=0, reg_alpha=8, objective=binary, num_leaves=1000, min_split_gain=10.0, min_child_weight=2, min_child_samples=100, metric=auc, max_depth=10, max_bin=50, learning_rate=0.1, colsample_bytree=0.3 \n",
      "[CV]  subsample_freq=2, subsample_for_bin=100, subsample=0.4, scale_pos_weight=18.951239977624464, reg_lambda=0, reg_alpha=8, objective=binary, num_leaves=1000, min_split_gain=10.0, min_child_weight=2, min_child_samples=100, metric=auc, max_depth=10, max_bin=50, learning_rate=0.1, colsample_bytree=0.3, total=  24.4s\n",
      "[CV] subsample_freq=2, subsample_for_bin=100, subsample=0.4, scale_pos_weight=18.951239977624464, reg_lambda=0, reg_alpha=8, objective=binary, num_leaves=1000, min_split_gain=10.0, min_child_weight=2, min_child_samples=100, metric=auc, max_depth=10, max_bin=50, learning_rate=0.1, colsample_bytree=0.3 \n",
      "[CV]  subsample_freq=2, subsample_for_bin=100, subsample=0.4, scale_pos_weight=18.951239977624464, reg_lambda=0, reg_alpha=8, objective=binary, num_leaves=1000, min_split_gain=10.0, min_child_weight=2, min_child_samples=100, metric=auc, max_depth=10, max_bin=50, learning_rate=0.1, colsample_bytree=0.3, total=  19.7s\n",
      "[CV] subsample_freq=2, subsample_for_bin=100, subsample=0.4, scale_pos_weight=18.951239977624464, reg_lambda=0, reg_alpha=8, objective=binary, num_leaves=1000, min_split_gain=10.0, min_child_weight=2, min_child_samples=100, metric=auc, max_depth=10, max_bin=50, learning_rate=0.1, colsample_bytree=0.3 \n",
      "[CV]  subsample_freq=2, subsample_for_bin=100, subsample=0.4, scale_pos_weight=18.951239977624464, reg_lambda=0, reg_alpha=8, objective=binary, num_leaves=1000, min_split_gain=10.0, min_child_weight=2, min_child_samples=100, metric=auc, max_depth=10, max_bin=50, learning_rate=0.1, colsample_bytree=0.3, total=  22.0s\n",
      "[CV] subsample_freq=2, subsample_for_bin=100, subsample=0.4, scale_pos_weight=18.951239977624464, reg_lambda=0, reg_alpha=8, objective=binary, num_leaves=1000, min_split_gain=10.0, min_child_weight=2, min_child_samples=100, metric=auc, max_depth=10, max_bin=50, learning_rate=0.1, colsample_bytree=0.3 \n",
      "[CV]  subsample_freq=2, subsample_for_bin=100, subsample=0.4, scale_pos_weight=18.951239977624464, reg_lambda=0, reg_alpha=8, objective=binary, num_leaves=1000, min_split_gain=10.0, min_child_weight=2, min_child_samples=100, metric=auc, max_depth=10, max_bin=50, learning_rate=0.1, colsample_bytree=0.3, total=  22.2s\n",
      "[CV] subsample_freq=2, subsample_for_bin=10, subsample=0.7, scale_pos_weight=0.05276699578395344, reg_lambda=0.2, reg_alpha=7, objective=binary, num_leaves=1000, min_split_gain=2.0, min_child_weight=3, min_child_samples=50, metric=auc, max_depth=10, max_bin=100, learning_rate=0.005, colsample_bytree=0.7 \n",
      "[CV]  subsample_freq=2, subsample_for_bin=10, subsample=0.7, scale_pos_weight=0.05276699578395344, reg_lambda=0.2, reg_alpha=7, objective=binary, num_leaves=1000, min_split_gain=2.0, min_child_weight=3, min_child_samples=50, metric=auc, max_depth=10, max_bin=100, learning_rate=0.005, colsample_bytree=0.7, total=  12.9s\n",
      "[CV] subsample_freq=2, subsample_for_bin=10, subsample=0.7, scale_pos_weight=0.05276699578395344, reg_lambda=0.2, reg_alpha=7, objective=binary, num_leaves=1000, min_split_gain=2.0, min_child_weight=3, min_child_samples=50, metric=auc, max_depth=10, max_bin=100, learning_rate=0.005, colsample_bytree=0.7 \n",
      "[CV]  subsample_freq=2, subsample_for_bin=10, subsample=0.7, scale_pos_weight=0.05276699578395344, reg_lambda=0.2, reg_alpha=7, objective=binary, num_leaves=1000, min_split_gain=2.0, min_child_weight=3, min_child_samples=50, metric=auc, max_depth=10, max_bin=100, learning_rate=0.005, colsample_bytree=0.7, total=  12.3s\n",
      "[CV] subsample_freq=2, subsample_for_bin=10, subsample=0.7, scale_pos_weight=0.05276699578395344, reg_lambda=0.2, reg_alpha=7, objective=binary, num_leaves=1000, min_split_gain=2.0, min_child_weight=3, min_child_samples=50, metric=auc, max_depth=10, max_bin=100, learning_rate=0.005, colsample_bytree=0.7 \n",
      "[CV]  subsample_freq=2, subsample_for_bin=10, subsample=0.7, scale_pos_weight=0.05276699578395344, reg_lambda=0.2, reg_alpha=7, objective=binary, num_leaves=1000, min_split_gain=2.0, min_child_weight=3, min_child_samples=50, metric=auc, max_depth=10, max_bin=100, learning_rate=0.005, colsample_bytree=0.7, total=  10.2s\n",
      "[CV] subsample_freq=2, subsample_for_bin=10, subsample=0.7, scale_pos_weight=0.05276699578395344, reg_lambda=0.2, reg_alpha=7, objective=binary, num_leaves=1000, min_split_gain=2.0, min_child_weight=3, min_child_samples=50, metric=auc, max_depth=10, max_bin=100, learning_rate=0.005, colsample_bytree=0.7 \n",
      "[CV]  subsample_freq=2, subsample_for_bin=10, subsample=0.7, scale_pos_weight=0.05276699578395344, reg_lambda=0.2, reg_alpha=7, objective=binary, num_leaves=1000, min_split_gain=2.0, min_child_weight=3, min_child_samples=50, metric=auc, max_depth=10, max_bin=100, learning_rate=0.005, colsample_bytree=0.7, total=  13.9s\n",
      "[CV] subsample_freq=100, subsample_for_bin=200, subsample=0.4, scale_pos_weight=0.05276699578395344, reg_lambda=0, reg_alpha=8, objective=binary, num_leaves=10000, min_split_gain=1.1, min_child_weight=6, min_child_samples=30, metric=auc, max_depth=30, max_bin=50, learning_rate=0.1, colsample_bytree=0.2 \n",
      "[CV]  subsample_freq=100, subsample_for_bin=200, subsample=0.4, scale_pos_weight=0.05276699578395344, reg_lambda=0, reg_alpha=8, objective=binary, num_leaves=10000, min_split_gain=1.1, min_child_weight=6, min_child_samples=30, metric=auc, max_depth=30, max_bin=50, learning_rate=0.1, colsample_bytree=0.2, total=  21.1s\n",
      "[CV] subsample_freq=100, subsample_for_bin=200, subsample=0.4, scale_pos_weight=0.05276699578395344, reg_lambda=0, reg_alpha=8, objective=binary, num_leaves=10000, min_split_gain=1.1, min_child_weight=6, min_child_samples=30, metric=auc, max_depth=30, max_bin=50, learning_rate=0.1, colsample_bytree=0.2 \n"
     ]
    },
    {
     "name": "stdout",
     "output_type": "stream",
     "text": [
      "[CV]  subsample_freq=100, subsample_for_bin=200, subsample=0.4, scale_pos_weight=0.05276699578395344, reg_lambda=0, reg_alpha=8, objective=binary, num_leaves=10000, min_split_gain=1.1, min_child_weight=6, min_child_samples=30, metric=auc, max_depth=30, max_bin=50, learning_rate=0.1, colsample_bytree=0.2, total=  18.1s\n",
      "[CV] subsample_freq=100, subsample_for_bin=200, subsample=0.4, scale_pos_weight=0.05276699578395344, reg_lambda=0, reg_alpha=8, objective=binary, num_leaves=10000, min_split_gain=1.1, min_child_weight=6, min_child_samples=30, metric=auc, max_depth=30, max_bin=50, learning_rate=0.1, colsample_bytree=0.2 \n",
      "[CV]  subsample_freq=100, subsample_for_bin=200, subsample=0.4, scale_pos_weight=0.05276699578395344, reg_lambda=0, reg_alpha=8, objective=binary, num_leaves=10000, min_split_gain=1.1, min_child_weight=6, min_child_samples=30, metric=auc, max_depth=30, max_bin=50, learning_rate=0.1, colsample_bytree=0.2, total=  17.1s\n",
      "[CV] subsample_freq=100, subsample_for_bin=200, subsample=0.4, scale_pos_weight=0.05276699578395344, reg_lambda=0, reg_alpha=8, objective=binary, num_leaves=10000, min_split_gain=1.1, min_child_weight=6, min_child_samples=30, metric=auc, max_depth=30, max_bin=50, learning_rate=0.1, colsample_bytree=0.2 \n",
      "[CV]  subsample_freq=100, subsample_for_bin=200, subsample=0.4, scale_pos_weight=0.05276699578395344, reg_lambda=0, reg_alpha=8, objective=binary, num_leaves=10000, min_split_gain=1.1, min_child_weight=6, min_child_samples=30, metric=auc, max_depth=30, max_bin=50, learning_rate=0.1, colsample_bytree=0.2, total=  17.7s\n",
      "[CV] subsample_freq=100, subsample_for_bin=200, subsample=0.7, scale_pos_weight=0.05276699578395344, reg_lambda=0.8, reg_alpha=8, objective=binary, num_leaves=10000, min_split_gain=10.0, min_child_weight=6, min_child_samples=50, metric=auc, max_depth=40, max_bin=100, learning_rate=0.005, colsample_bytree=0.2 \n",
      "[CV]  subsample_freq=100, subsample_for_bin=200, subsample=0.7, scale_pos_weight=0.05276699578395344, reg_lambda=0.8, reg_alpha=8, objective=binary, num_leaves=10000, min_split_gain=10.0, min_child_weight=6, min_child_samples=50, metric=auc, max_depth=40, max_bin=100, learning_rate=0.005, colsample_bytree=0.2, total=  22.9s\n",
      "[CV] subsample_freq=100, subsample_for_bin=200, subsample=0.7, scale_pos_weight=0.05276699578395344, reg_lambda=0.8, reg_alpha=8, objective=binary, num_leaves=10000, min_split_gain=10.0, min_child_weight=6, min_child_samples=50, metric=auc, max_depth=40, max_bin=100, learning_rate=0.005, colsample_bytree=0.2 \n",
      "[CV]  subsample_freq=100, subsample_for_bin=200, subsample=0.7, scale_pos_weight=0.05276699578395344, reg_lambda=0.8, reg_alpha=8, objective=binary, num_leaves=10000, min_split_gain=10.0, min_child_weight=6, min_child_samples=50, metric=auc, max_depth=40, max_bin=100, learning_rate=0.005, colsample_bytree=0.2, total=  21.1s\n",
      "[CV] subsample_freq=100, subsample_for_bin=200, subsample=0.7, scale_pos_weight=0.05276699578395344, reg_lambda=0.8, reg_alpha=8, objective=binary, num_leaves=10000, min_split_gain=10.0, min_child_weight=6, min_child_samples=50, metric=auc, max_depth=40, max_bin=100, learning_rate=0.005, colsample_bytree=0.2 \n",
      "[CV]  subsample_freq=100, subsample_for_bin=200, subsample=0.7, scale_pos_weight=0.05276699578395344, reg_lambda=0.8, reg_alpha=8, objective=binary, num_leaves=10000, min_split_gain=10.0, min_child_weight=6, min_child_samples=50, metric=auc, max_depth=40, max_bin=100, learning_rate=0.005, colsample_bytree=0.2, total=  19.0s\n",
      "[CV] subsample_freq=100, subsample_for_bin=200, subsample=0.7, scale_pos_weight=0.05276699578395344, reg_lambda=0.8, reg_alpha=8, objective=binary, num_leaves=10000, min_split_gain=10.0, min_child_weight=6, min_child_samples=50, metric=auc, max_depth=40, max_bin=100, learning_rate=0.005, colsample_bytree=0.2 \n",
      "[CV]  subsample_freq=100, subsample_for_bin=200, subsample=0.7, scale_pos_weight=0.05276699578395344, reg_lambda=0.8, reg_alpha=8, objective=binary, num_leaves=10000, min_split_gain=10.0, min_child_weight=6, min_child_samples=50, metric=auc, max_depth=40, max_bin=100, learning_rate=0.005, colsample_bytree=0.2, total=  20.8s\n",
      "[CV] subsample_freq=2, subsample_for_bin=10, subsample=0.1, scale_pos_weight=1, reg_lambda=0.8, reg_alpha=2, objective=binary, num_leaves=1000, min_split_gain=10.0, min_child_weight=2, min_child_samples=50, metric=auc, max_depth=40, max_bin=200, learning_rate=0.05, colsample_bytree=0.7 \n",
      "[CV]  subsample_freq=2, subsample_for_bin=10, subsample=0.1, scale_pos_weight=1, reg_lambda=0.8, reg_alpha=2, objective=binary, num_leaves=1000, min_split_gain=10.0, min_child_weight=2, min_child_samples=50, metric=auc, max_depth=40, max_bin=200, learning_rate=0.05, colsample_bytree=0.7, total=   6.4s\n",
      "[CV] subsample_freq=2, subsample_for_bin=10, subsample=0.1, scale_pos_weight=1, reg_lambda=0.8, reg_alpha=2, objective=binary, num_leaves=1000, min_split_gain=10.0, min_child_weight=2, min_child_samples=50, metric=auc, max_depth=40, max_bin=200, learning_rate=0.05, colsample_bytree=0.7 \n",
      "[CV]  subsample_freq=2, subsample_for_bin=10, subsample=0.1, scale_pos_weight=1, reg_lambda=0.8, reg_alpha=2, objective=binary, num_leaves=1000, min_split_gain=10.0, min_child_weight=2, min_child_samples=50, metric=auc, max_depth=40, max_bin=200, learning_rate=0.05, colsample_bytree=0.7, total=   6.0s\n",
      "[CV] subsample_freq=2, subsample_for_bin=10, subsample=0.1, scale_pos_weight=1, reg_lambda=0.8, reg_alpha=2, objective=binary, num_leaves=1000, min_split_gain=10.0, min_child_weight=2, min_child_samples=50, metric=auc, max_depth=40, max_bin=200, learning_rate=0.05, colsample_bytree=0.7 \n",
      "[CV]  subsample_freq=2, subsample_for_bin=10, subsample=0.1, scale_pos_weight=1, reg_lambda=0.8, reg_alpha=2, objective=binary, num_leaves=1000, min_split_gain=10.0, min_child_weight=2, min_child_samples=50, metric=auc, max_depth=40, max_bin=200, learning_rate=0.05, colsample_bytree=0.7, total=   5.3s\n",
      "[CV] subsample_freq=2, subsample_for_bin=10, subsample=0.1, scale_pos_weight=1, reg_lambda=0.8, reg_alpha=2, objective=binary, num_leaves=1000, min_split_gain=10.0, min_child_weight=2, min_child_samples=50, metric=auc, max_depth=40, max_bin=200, learning_rate=0.05, colsample_bytree=0.7 \n",
      "[CV]  subsample_freq=2, subsample_for_bin=10, subsample=0.1, scale_pos_weight=1, reg_lambda=0.8, reg_alpha=2, objective=binary, num_leaves=1000, min_split_gain=10.0, min_child_weight=2, min_child_samples=50, metric=auc, max_depth=40, max_bin=200, learning_rate=0.05, colsample_bytree=0.7, total=   6.6s\n",
      "[CV] subsample_freq=2, subsample_for_bin=200, subsample=0.1, scale_pos_weight=1, reg_lambda=0, reg_alpha=8, objective=binary, num_leaves=10000, min_split_gain=10.0, min_child_weight=2, min_child_samples=50, metric=auc, max_depth=20, max_bin=100, learning_rate=0.05, colsample_bytree=0.7 \n",
      "[CV]  subsample_freq=2, subsample_for_bin=200, subsample=0.1, scale_pos_weight=1, reg_lambda=0, reg_alpha=8, objective=binary, num_leaves=10000, min_split_gain=10.0, min_child_weight=2, min_child_samples=50, metric=auc, max_depth=20, max_bin=100, learning_rate=0.05, colsample_bytree=0.7, total=  17.2s\n",
      "[CV] subsample_freq=2, subsample_for_bin=200, subsample=0.1, scale_pos_weight=1, reg_lambda=0, reg_alpha=8, objective=binary, num_leaves=10000, min_split_gain=10.0, min_child_weight=2, min_child_samples=50, metric=auc, max_depth=20, max_bin=100, learning_rate=0.05, colsample_bytree=0.7 \n",
      "[CV]  subsample_freq=2, subsample_for_bin=200, subsample=0.1, scale_pos_weight=1, reg_lambda=0, reg_alpha=8, objective=binary, num_leaves=10000, min_split_gain=10.0, min_child_weight=2, min_child_samples=50, metric=auc, max_depth=20, max_bin=100, learning_rate=0.05, colsample_bytree=0.7, total=  15.6s\n",
      "[CV] subsample_freq=2, subsample_for_bin=200, subsample=0.1, scale_pos_weight=1, reg_lambda=0, reg_alpha=8, objective=binary, num_leaves=10000, min_split_gain=10.0, min_child_weight=2, min_child_samples=50, metric=auc, max_depth=20, max_bin=100, learning_rate=0.05, colsample_bytree=0.7 \n",
      "[CV]  subsample_freq=2, subsample_for_bin=200, subsample=0.1, scale_pos_weight=1, reg_lambda=0, reg_alpha=8, objective=binary, num_leaves=10000, min_split_gain=10.0, min_child_weight=2, min_child_samples=50, metric=auc, max_depth=20, max_bin=100, learning_rate=0.05, colsample_bytree=0.7, total=  14.6s\n",
      "[CV] subsample_freq=2, subsample_for_bin=200, subsample=0.1, scale_pos_weight=1, reg_lambda=0, reg_alpha=8, objective=binary, num_leaves=10000, min_split_gain=10.0, min_child_weight=2, min_child_samples=50, metric=auc, max_depth=20, max_bin=100, learning_rate=0.05, colsample_bytree=0.7 \n"
     ]
    },
    {
     "name": "stdout",
     "output_type": "stream",
     "text": [
      "[CV]  subsample_freq=2, subsample_for_bin=200, subsample=0.1, scale_pos_weight=1, reg_lambda=0, reg_alpha=8, objective=binary, num_leaves=10000, min_split_gain=10.0, min_child_weight=2, min_child_samples=50, metric=auc, max_depth=20, max_bin=100, learning_rate=0.05, colsample_bytree=0.7, total=  14.7s\n",
      "[CV] subsample_freq=30, subsample_for_bin=200, subsample=0.1, scale_pos_weight=0.05276699578395344, reg_lambda=0.2, reg_alpha=8, objective=binary, num_leaves=10000, min_split_gain=2.0, min_child_weight=6, min_child_samples=50, metric=auc, max_depth=40, max_bin=200, learning_rate=0.05, colsample_bytree=0.3 \n",
      "[CV]  subsample_freq=30, subsample_for_bin=200, subsample=0.1, scale_pos_weight=0.05276699578395344, reg_lambda=0.2, reg_alpha=8, objective=binary, num_leaves=10000, min_split_gain=2.0, min_child_weight=6, min_child_samples=50, metric=auc, max_depth=40, max_bin=200, learning_rate=0.05, colsample_bytree=0.3, total=  16.2s\n",
      "[CV] subsample_freq=30, subsample_for_bin=200, subsample=0.1, scale_pos_weight=0.05276699578395344, reg_lambda=0.2, reg_alpha=8, objective=binary, num_leaves=10000, min_split_gain=2.0, min_child_weight=6, min_child_samples=50, metric=auc, max_depth=40, max_bin=200, learning_rate=0.05, colsample_bytree=0.3 \n",
      "[CV]  subsample_freq=30, subsample_for_bin=200, subsample=0.1, scale_pos_weight=0.05276699578395344, reg_lambda=0.2, reg_alpha=8, objective=binary, num_leaves=10000, min_split_gain=2.0, min_child_weight=6, min_child_samples=50, metric=auc, max_depth=40, max_bin=200, learning_rate=0.05, colsample_bytree=0.3, total=  14.5s\n",
      "[CV] subsample_freq=30, subsample_for_bin=200, subsample=0.1, scale_pos_weight=0.05276699578395344, reg_lambda=0.2, reg_alpha=8, objective=binary, num_leaves=10000, min_split_gain=2.0, min_child_weight=6, min_child_samples=50, metric=auc, max_depth=40, max_bin=200, learning_rate=0.05, colsample_bytree=0.3 \n",
      "[CV]  subsample_freq=30, subsample_for_bin=200, subsample=0.1, scale_pos_weight=0.05276699578395344, reg_lambda=0.2, reg_alpha=8, objective=binary, num_leaves=10000, min_split_gain=2.0, min_child_weight=6, min_child_samples=50, metric=auc, max_depth=40, max_bin=200, learning_rate=0.05, colsample_bytree=0.3, total=  13.7s\n",
      "[CV] subsample_freq=30, subsample_for_bin=200, subsample=0.1, scale_pos_weight=0.05276699578395344, reg_lambda=0.2, reg_alpha=8, objective=binary, num_leaves=10000, min_split_gain=2.0, min_child_weight=6, min_child_samples=50, metric=auc, max_depth=40, max_bin=200, learning_rate=0.05, colsample_bytree=0.3 \n",
      "[CV]  subsample_freq=30, subsample_for_bin=200, subsample=0.1, scale_pos_weight=0.05276699578395344, reg_lambda=0.2, reg_alpha=8, objective=binary, num_leaves=10000, min_split_gain=2.0, min_child_weight=6, min_child_samples=50, metric=auc, max_depth=40, max_bin=200, learning_rate=0.05, colsample_bytree=0.3, total=  14.1s\n",
      "[CV] subsample_freq=100, subsample_for_bin=100, subsample=0.4, scale_pos_weight=0.05276699578395344, reg_lambda=0.8, reg_alpha=5, objective=binary, num_leaves=10000, min_split_gain=1.1, min_child_weight=2, min_child_samples=30, metric=auc, max_depth=30, max_bin=100, learning_rate=0.005, colsample_bytree=0.7 \n",
      "[CV]  subsample_freq=100, subsample_for_bin=100, subsample=0.4, scale_pos_weight=0.05276699578395344, reg_lambda=0.8, reg_alpha=5, objective=binary, num_leaves=10000, min_split_gain=1.1, min_child_weight=2, min_child_samples=30, metric=auc, max_depth=30, max_bin=100, learning_rate=0.005, colsample_bytree=0.7, total=  22.1s\n",
      "[CV] subsample_freq=100, subsample_for_bin=100, subsample=0.4, scale_pos_weight=0.05276699578395344, reg_lambda=0.8, reg_alpha=5, objective=binary, num_leaves=10000, min_split_gain=1.1, min_child_weight=2, min_child_samples=30, metric=auc, max_depth=30, max_bin=100, learning_rate=0.005, colsample_bytree=0.7 \n",
      "[CV]  subsample_freq=100, subsample_for_bin=100, subsample=0.4, scale_pos_weight=0.05276699578395344, reg_lambda=0.8, reg_alpha=5, objective=binary, num_leaves=10000, min_split_gain=1.1, min_child_weight=2, min_child_samples=30, metric=auc, max_depth=30, max_bin=100, learning_rate=0.005, colsample_bytree=0.7, total=  18.4s\n",
      "[CV] subsample_freq=100, subsample_for_bin=100, subsample=0.4, scale_pos_weight=0.05276699578395344, reg_lambda=0.8, reg_alpha=5, objective=binary, num_leaves=10000, min_split_gain=1.1, min_child_weight=2, min_child_samples=30, metric=auc, max_depth=30, max_bin=100, learning_rate=0.005, colsample_bytree=0.7 \n",
      "[CV]  subsample_freq=100, subsample_for_bin=100, subsample=0.4, scale_pos_weight=0.05276699578395344, reg_lambda=0.8, reg_alpha=5, objective=binary, num_leaves=10000, min_split_gain=1.1, min_child_weight=2, min_child_samples=30, metric=auc, max_depth=30, max_bin=100, learning_rate=0.005, colsample_bytree=0.7, total=  19.6s\n",
      "[CV] subsample_freq=100, subsample_for_bin=100, subsample=0.4, scale_pos_weight=0.05276699578395344, reg_lambda=0.8, reg_alpha=5, objective=binary, num_leaves=10000, min_split_gain=1.1, min_child_weight=2, min_child_samples=30, metric=auc, max_depth=30, max_bin=100, learning_rate=0.005, colsample_bytree=0.7 \n",
      "[CV]  subsample_freq=100, subsample_for_bin=100, subsample=0.4, scale_pos_weight=0.05276699578395344, reg_lambda=0.8, reg_alpha=5, objective=binary, num_leaves=10000, min_split_gain=1.1, min_child_weight=2, min_child_samples=30, metric=auc, max_depth=30, max_bin=100, learning_rate=0.005, colsample_bytree=0.7, total=  21.2s\n",
      "[CV] subsample_freq=2, subsample_for_bin=200, subsample=0.4, scale_pos_weight=1, reg_lambda=0.8, reg_alpha=7, objective=binary, num_leaves=1000, min_split_gain=2.0, min_child_weight=2, min_child_samples=50, metric=auc, max_depth=40, max_bin=200, learning_rate=0.005, colsample_bytree=0.7 \n",
      "[CV]  subsample_freq=2, subsample_for_bin=200, subsample=0.4, scale_pos_weight=1, reg_lambda=0.8, reg_alpha=7, objective=binary, num_leaves=1000, min_split_gain=2.0, min_child_weight=2, min_child_samples=50, metric=auc, max_depth=40, max_bin=200, learning_rate=0.005, colsample_bytree=0.7, total=  37.5s\n",
      "[CV] subsample_freq=2, subsample_for_bin=200, subsample=0.4, scale_pos_weight=1, reg_lambda=0.8, reg_alpha=7, objective=binary, num_leaves=1000, min_split_gain=2.0, min_child_weight=2, min_child_samples=50, metric=auc, max_depth=40, max_bin=200, learning_rate=0.005, colsample_bytree=0.7 \n",
      "[CV]  subsample_freq=2, subsample_for_bin=200, subsample=0.4, scale_pos_weight=1, reg_lambda=0.8, reg_alpha=7, objective=binary, num_leaves=1000, min_split_gain=2.0, min_child_weight=2, min_child_samples=50, metric=auc, max_depth=40, max_bin=200, learning_rate=0.005, colsample_bytree=0.7, total=  30.5s\n",
      "[CV] subsample_freq=2, subsample_for_bin=200, subsample=0.4, scale_pos_weight=1, reg_lambda=0.8, reg_alpha=7, objective=binary, num_leaves=1000, min_split_gain=2.0, min_child_weight=2, min_child_samples=50, metric=auc, max_depth=40, max_bin=200, learning_rate=0.005, colsample_bytree=0.7 \n",
      "[CV]  subsample_freq=2, subsample_for_bin=200, subsample=0.4, scale_pos_weight=1, reg_lambda=0.8, reg_alpha=7, objective=binary, num_leaves=1000, min_split_gain=2.0, min_child_weight=2, min_child_samples=50, metric=auc, max_depth=40, max_bin=200, learning_rate=0.005, colsample_bytree=0.7, total=  28.7s\n",
      "[CV] subsample_freq=2, subsample_for_bin=200, subsample=0.4, scale_pos_weight=1, reg_lambda=0.8, reg_alpha=7, objective=binary, num_leaves=1000, min_split_gain=2.0, min_child_weight=2, min_child_samples=50, metric=auc, max_depth=40, max_bin=200, learning_rate=0.005, colsample_bytree=0.7 \n",
      "[CV]  subsample_freq=2, subsample_for_bin=200, subsample=0.4, scale_pos_weight=1, reg_lambda=0.8, reg_alpha=7, objective=binary, num_leaves=1000, min_split_gain=2.0, min_child_weight=2, min_child_samples=50, metric=auc, max_depth=40, max_bin=200, learning_rate=0.005, colsample_bytree=0.7, total=  28.9s\n",
      "[CV] subsample_freq=2, subsample_for_bin=10, subsample=0.7, scale_pos_weight=0.05276699578395344, reg_lambda=0, reg_alpha=5, objective=binary, num_leaves=1000, min_split_gain=1.1, min_child_weight=6, min_child_samples=50, metric=auc, max_depth=20, max_bin=100, learning_rate=0.1, colsample_bytree=0.2 \n",
      "[CV]  subsample_freq=2, subsample_for_bin=10, subsample=0.7, scale_pos_weight=0.05276699578395344, reg_lambda=0, reg_alpha=5, objective=binary, num_leaves=1000, min_split_gain=1.1, min_child_weight=6, min_child_samples=50, metric=auc, max_depth=20, max_bin=100, learning_rate=0.1, colsample_bytree=0.2, total=   8.7s\n",
      "[CV] subsample_freq=2, subsample_for_bin=10, subsample=0.7, scale_pos_weight=0.05276699578395344, reg_lambda=0, reg_alpha=5, objective=binary, num_leaves=1000, min_split_gain=1.1, min_child_weight=6, min_child_samples=50, metric=auc, max_depth=20, max_bin=100, learning_rate=0.1, colsample_bytree=0.2 \n"
     ]
    },
    {
     "name": "stdout",
     "output_type": "stream",
     "text": [
      "[CV]  subsample_freq=2, subsample_for_bin=10, subsample=0.7, scale_pos_weight=0.05276699578395344, reg_lambda=0, reg_alpha=5, objective=binary, num_leaves=1000, min_split_gain=1.1, min_child_weight=6, min_child_samples=50, metric=auc, max_depth=20, max_bin=100, learning_rate=0.1, colsample_bytree=0.2, total=   8.2s\n",
      "[CV] subsample_freq=2, subsample_for_bin=10, subsample=0.7, scale_pos_weight=0.05276699578395344, reg_lambda=0, reg_alpha=5, objective=binary, num_leaves=1000, min_split_gain=1.1, min_child_weight=6, min_child_samples=50, metric=auc, max_depth=20, max_bin=100, learning_rate=0.1, colsample_bytree=0.2 \n",
      "[CV]  subsample_freq=2, subsample_for_bin=10, subsample=0.7, scale_pos_weight=0.05276699578395344, reg_lambda=0, reg_alpha=5, objective=binary, num_leaves=1000, min_split_gain=1.1, min_child_weight=6, min_child_samples=50, metric=auc, max_depth=20, max_bin=100, learning_rate=0.1, colsample_bytree=0.2, total=   9.1s\n",
      "[CV] subsample_freq=2, subsample_for_bin=10, subsample=0.7, scale_pos_weight=0.05276699578395344, reg_lambda=0, reg_alpha=5, objective=binary, num_leaves=1000, min_split_gain=1.1, min_child_weight=6, min_child_samples=50, metric=auc, max_depth=20, max_bin=100, learning_rate=0.1, colsample_bytree=0.2 \n",
      "[CV]  subsample_freq=2, subsample_for_bin=10, subsample=0.7, scale_pos_weight=0.05276699578395344, reg_lambda=0, reg_alpha=5, objective=binary, num_leaves=1000, min_split_gain=1.1, min_child_weight=6, min_child_samples=50, metric=auc, max_depth=20, max_bin=100, learning_rate=0.1, colsample_bytree=0.2, total=   9.4s\n",
      "[CV] subsample_freq=2, subsample_for_bin=100, subsample=0.1, scale_pos_weight=1, reg_lambda=0.2, reg_alpha=3, objective=binary, num_leaves=10000, min_split_gain=1.1, min_child_weight=3, min_child_samples=100, metric=auc, max_depth=20, max_bin=100, learning_rate=0.005, colsample_bytree=0.2 \n",
      "[CV]  subsample_freq=2, subsample_for_bin=100, subsample=0.1, scale_pos_weight=1, reg_lambda=0.2, reg_alpha=3, objective=binary, num_leaves=10000, min_split_gain=1.1, min_child_weight=3, min_child_samples=100, metric=auc, max_depth=20, max_bin=100, learning_rate=0.005, colsample_bytree=0.2, total=  17.5s\n",
      "[CV] subsample_freq=2, subsample_for_bin=100, subsample=0.1, scale_pos_weight=1, reg_lambda=0.2, reg_alpha=3, objective=binary, num_leaves=10000, min_split_gain=1.1, min_child_weight=3, min_child_samples=100, metric=auc, max_depth=20, max_bin=100, learning_rate=0.005, colsample_bytree=0.2 \n",
      "[CV]  subsample_freq=2, subsample_for_bin=100, subsample=0.1, scale_pos_weight=1, reg_lambda=0.2, reg_alpha=3, objective=binary, num_leaves=10000, min_split_gain=1.1, min_child_weight=3, min_child_samples=100, metric=auc, max_depth=20, max_bin=100, learning_rate=0.005, colsample_bytree=0.2, total=  15.2s\n",
      "[CV] subsample_freq=2, subsample_for_bin=100, subsample=0.1, scale_pos_weight=1, reg_lambda=0.2, reg_alpha=3, objective=binary, num_leaves=10000, min_split_gain=1.1, min_child_weight=3, min_child_samples=100, metric=auc, max_depth=20, max_bin=100, learning_rate=0.005, colsample_bytree=0.2 \n",
      "[CV]  subsample_freq=2, subsample_for_bin=100, subsample=0.1, scale_pos_weight=1, reg_lambda=0.2, reg_alpha=3, objective=binary, num_leaves=10000, min_split_gain=1.1, min_child_weight=3, min_child_samples=100, metric=auc, max_depth=20, max_bin=100, learning_rate=0.005, colsample_bytree=0.2, total=  16.3s\n",
      "[CV] subsample_freq=2, subsample_for_bin=100, subsample=0.1, scale_pos_weight=1, reg_lambda=0.2, reg_alpha=3, objective=binary, num_leaves=10000, min_split_gain=1.1, min_child_weight=3, min_child_samples=100, metric=auc, max_depth=20, max_bin=100, learning_rate=0.005, colsample_bytree=0.2 \n",
      "[CV]  subsample_freq=2, subsample_for_bin=100, subsample=0.1, scale_pos_weight=1, reg_lambda=0.2, reg_alpha=3, objective=binary, num_leaves=10000, min_split_gain=1.1, min_child_weight=3, min_child_samples=100, metric=auc, max_depth=20, max_bin=100, learning_rate=0.005, colsample_bytree=0.2, total=  16.6s\n",
      "[CV] subsample_freq=2, subsample_for_bin=200, subsample=0.4, scale_pos_weight=18.951239977624464, reg_lambda=0.2, reg_alpha=5, objective=binary, num_leaves=10000, min_split_gain=1.1, min_child_weight=2, min_child_samples=50, metric=auc, max_depth=30, max_bin=100, learning_rate=0.05, colsample_bytree=0.3 \n",
      "[CV]  subsample_freq=2, subsample_for_bin=200, subsample=0.4, scale_pos_weight=18.951239977624464, reg_lambda=0.2, reg_alpha=5, objective=binary, num_leaves=10000, min_split_gain=1.1, min_child_weight=2, min_child_samples=50, metric=auc, max_depth=30, max_bin=100, learning_rate=0.05, colsample_bytree=0.3, total= 1.2min\n",
      "[CV] subsample_freq=2, subsample_for_bin=200, subsample=0.4, scale_pos_weight=18.951239977624464, reg_lambda=0.2, reg_alpha=5, objective=binary, num_leaves=10000, min_split_gain=1.1, min_child_weight=2, min_child_samples=50, metric=auc, max_depth=30, max_bin=100, learning_rate=0.05, colsample_bytree=0.3 \n",
      "[CV]  subsample_freq=2, subsample_for_bin=200, subsample=0.4, scale_pos_weight=18.951239977624464, reg_lambda=0.2, reg_alpha=5, objective=binary, num_leaves=10000, min_split_gain=1.1, min_child_weight=2, min_child_samples=50, metric=auc, max_depth=30, max_bin=100, learning_rate=0.05, colsample_bytree=0.3, total=  56.9s\n",
      "[CV] subsample_freq=2, subsample_for_bin=200, subsample=0.4, scale_pos_weight=18.951239977624464, reg_lambda=0.2, reg_alpha=5, objective=binary, num_leaves=10000, min_split_gain=1.1, min_child_weight=2, min_child_samples=50, metric=auc, max_depth=30, max_bin=100, learning_rate=0.05, colsample_bytree=0.3 \n",
      "[CV]  subsample_freq=2, subsample_for_bin=200, subsample=0.4, scale_pos_weight=18.951239977624464, reg_lambda=0.2, reg_alpha=5, objective=binary, num_leaves=10000, min_split_gain=1.1, min_child_weight=2, min_child_samples=50, metric=auc, max_depth=30, max_bin=100, learning_rate=0.05, colsample_bytree=0.3, total=  51.0s\n",
      "[CV] subsample_freq=2, subsample_for_bin=200, subsample=0.4, scale_pos_weight=18.951239977624464, reg_lambda=0.2, reg_alpha=5, objective=binary, num_leaves=10000, min_split_gain=1.1, min_child_weight=2, min_child_samples=50, metric=auc, max_depth=30, max_bin=100, learning_rate=0.05, colsample_bytree=0.3 \n",
      "[CV]  subsample_freq=2, subsample_for_bin=200, subsample=0.4, scale_pos_weight=18.951239977624464, reg_lambda=0.2, reg_alpha=5, objective=binary, num_leaves=10000, min_split_gain=1.1, min_child_weight=2, min_child_samples=50, metric=auc, max_depth=30, max_bin=100, learning_rate=0.05, colsample_bytree=0.3, total=  51.7s\n",
      "[CV] subsample_freq=2, subsample_for_bin=100, subsample=0.7, scale_pos_weight=1, reg_lambda=0.8, reg_alpha=5, objective=binary, num_leaves=50, min_split_gain=2.0, min_child_weight=6, min_child_samples=30, metric=auc, max_depth=20, max_bin=100, learning_rate=0.05, colsample_bytree=0.3 \n",
      "[CV]  subsample_freq=2, subsample_for_bin=100, subsample=0.7, scale_pos_weight=1, reg_lambda=0.8, reg_alpha=5, objective=binary, num_leaves=50, min_split_gain=2.0, min_child_weight=6, min_child_samples=30, metric=auc, max_depth=20, max_bin=100, learning_rate=0.05, colsample_bytree=0.3, total=  35.2s\n",
      "[CV] subsample_freq=2, subsample_for_bin=100, subsample=0.7, scale_pos_weight=1, reg_lambda=0.8, reg_alpha=5, objective=binary, num_leaves=50, min_split_gain=2.0, min_child_weight=6, min_child_samples=30, metric=auc, max_depth=20, max_bin=100, learning_rate=0.05, colsample_bytree=0.3 \n",
      "[CV]  subsample_freq=2, subsample_for_bin=100, subsample=0.7, scale_pos_weight=1, reg_lambda=0.8, reg_alpha=5, objective=binary, num_leaves=50, min_split_gain=2.0, min_child_weight=6, min_child_samples=30, metric=auc, max_depth=20, max_bin=100, learning_rate=0.05, colsample_bytree=0.3, total=  28.0s\n",
      "[CV] subsample_freq=2, subsample_for_bin=100, subsample=0.7, scale_pos_weight=1, reg_lambda=0.8, reg_alpha=5, objective=binary, num_leaves=50, min_split_gain=2.0, min_child_weight=6, min_child_samples=30, metric=auc, max_depth=20, max_bin=100, learning_rate=0.05, colsample_bytree=0.3 \n",
      "[CV]  subsample_freq=2, subsample_for_bin=100, subsample=0.7, scale_pos_weight=1, reg_lambda=0.8, reg_alpha=5, objective=binary, num_leaves=50, min_split_gain=2.0, min_child_weight=6, min_child_samples=30, metric=auc, max_depth=20, max_bin=100, learning_rate=0.05, colsample_bytree=0.3, total=  32.1s\n",
      "[CV] subsample_freq=2, subsample_for_bin=100, subsample=0.7, scale_pos_weight=1, reg_lambda=0.8, reg_alpha=5, objective=binary, num_leaves=50, min_split_gain=2.0, min_child_weight=6, min_child_samples=30, metric=auc, max_depth=20, max_bin=100, learning_rate=0.05, colsample_bytree=0.3 \n"
     ]
    },
    {
     "name": "stdout",
     "output_type": "stream",
     "text": [
      "[CV]  subsample_freq=2, subsample_for_bin=100, subsample=0.7, scale_pos_weight=1, reg_lambda=0.8, reg_alpha=5, objective=binary, num_leaves=50, min_split_gain=2.0, min_child_weight=6, min_child_samples=30, metric=auc, max_depth=20, max_bin=100, learning_rate=0.05, colsample_bytree=0.3, total=  32.3s\n",
      "[CV] subsample_freq=2, subsample_for_bin=10, subsample=0.1, scale_pos_weight=1, reg_lambda=0.8, reg_alpha=7, objective=binary, num_leaves=10000, min_split_gain=2.0, min_child_weight=2, min_child_samples=30, metric=auc, max_depth=30, max_bin=50, learning_rate=0.05, colsample_bytree=0.2 \n",
      "[CV]  subsample_freq=2, subsample_for_bin=10, subsample=0.1, scale_pos_weight=1, reg_lambda=0.8, reg_alpha=7, objective=binary, num_leaves=10000, min_split_gain=2.0, min_child_weight=2, min_child_samples=30, metric=auc, max_depth=30, max_bin=50, learning_rate=0.05, colsample_bytree=0.2, total=   7.2s\n",
      "[CV] subsample_freq=2, subsample_for_bin=10, subsample=0.1, scale_pos_weight=1, reg_lambda=0.8, reg_alpha=7, objective=binary, num_leaves=10000, min_split_gain=2.0, min_child_weight=2, min_child_samples=30, metric=auc, max_depth=30, max_bin=50, learning_rate=0.05, colsample_bytree=0.2 \n",
      "[CV]  subsample_freq=2, subsample_for_bin=10, subsample=0.1, scale_pos_weight=1, reg_lambda=0.8, reg_alpha=7, objective=binary, num_leaves=10000, min_split_gain=2.0, min_child_weight=2, min_child_samples=30, metric=auc, max_depth=30, max_bin=50, learning_rate=0.05, colsample_bytree=0.2, total=   7.1s\n",
      "[CV] subsample_freq=2, subsample_for_bin=10, subsample=0.1, scale_pos_weight=1, reg_lambda=0.8, reg_alpha=7, objective=binary, num_leaves=10000, min_split_gain=2.0, min_child_weight=2, min_child_samples=30, metric=auc, max_depth=30, max_bin=50, learning_rate=0.05, colsample_bytree=0.2 \n",
      "[CV]  subsample_freq=2, subsample_for_bin=10, subsample=0.1, scale_pos_weight=1, reg_lambda=0.8, reg_alpha=7, objective=binary, num_leaves=10000, min_split_gain=2.0, min_child_weight=2, min_child_samples=30, metric=auc, max_depth=30, max_bin=50, learning_rate=0.05, colsample_bytree=0.2, total=   6.3s\n",
      "[CV] subsample_freq=2, subsample_for_bin=10, subsample=0.1, scale_pos_weight=1, reg_lambda=0.8, reg_alpha=7, objective=binary, num_leaves=10000, min_split_gain=2.0, min_child_weight=2, min_child_samples=30, metric=auc, max_depth=30, max_bin=50, learning_rate=0.05, colsample_bytree=0.2 \n",
      "[CV]  subsample_freq=2, subsample_for_bin=10, subsample=0.1, scale_pos_weight=1, reg_lambda=0.8, reg_alpha=7, objective=binary, num_leaves=10000, min_split_gain=2.0, min_child_weight=2, min_child_samples=30, metric=auc, max_depth=30, max_bin=50, learning_rate=0.05, colsample_bytree=0.2, total=   8.0s\n",
      "[CV] subsample_freq=100, subsample_for_bin=10, subsample=0.7, scale_pos_weight=18.951239977624464, reg_lambda=0.8, reg_alpha=3, objective=binary, num_leaves=10000, min_split_gain=10.0, min_child_weight=6, min_child_samples=30, metric=auc, max_depth=40, max_bin=50, learning_rate=0.005, colsample_bytree=0.2 \n",
      "[CV]  subsample_freq=100, subsample_for_bin=10, subsample=0.7, scale_pos_weight=18.951239977624464, reg_lambda=0.8, reg_alpha=3, objective=binary, num_leaves=10000, min_split_gain=10.0, min_child_weight=6, min_child_samples=30, metric=auc, max_depth=40, max_bin=50, learning_rate=0.005, colsample_bytree=0.2, total=  18.2s\n",
      "[CV] subsample_freq=100, subsample_for_bin=10, subsample=0.7, scale_pos_weight=18.951239977624464, reg_lambda=0.8, reg_alpha=3, objective=binary, num_leaves=10000, min_split_gain=10.0, min_child_weight=6, min_child_samples=30, metric=auc, max_depth=40, max_bin=50, learning_rate=0.005, colsample_bytree=0.2 \n",
      "[CV]  subsample_freq=100, subsample_for_bin=10, subsample=0.7, scale_pos_weight=18.951239977624464, reg_lambda=0.8, reg_alpha=3, objective=binary, num_leaves=10000, min_split_gain=10.0, min_child_weight=6, min_child_samples=30, metric=auc, max_depth=40, max_bin=50, learning_rate=0.005, colsample_bytree=0.2, total=  20.2s\n",
      "[CV] subsample_freq=100, subsample_for_bin=10, subsample=0.7, scale_pos_weight=18.951239977624464, reg_lambda=0.8, reg_alpha=3, objective=binary, num_leaves=10000, min_split_gain=10.0, min_child_weight=6, min_child_samples=30, metric=auc, max_depth=40, max_bin=50, learning_rate=0.005, colsample_bytree=0.2 \n",
      "[CV]  subsample_freq=100, subsample_for_bin=10, subsample=0.7, scale_pos_weight=18.951239977624464, reg_lambda=0.8, reg_alpha=3, objective=binary, num_leaves=10000, min_split_gain=10.0, min_child_weight=6, min_child_samples=30, metric=auc, max_depth=40, max_bin=50, learning_rate=0.005, colsample_bytree=0.2, total=  11.9s\n",
      "[CV] subsample_freq=100, subsample_for_bin=10, subsample=0.7, scale_pos_weight=18.951239977624464, reg_lambda=0.8, reg_alpha=3, objective=binary, num_leaves=10000, min_split_gain=10.0, min_child_weight=6, min_child_samples=30, metric=auc, max_depth=40, max_bin=50, learning_rate=0.005, colsample_bytree=0.2 \n",
      "[CV]  subsample_freq=100, subsample_for_bin=10, subsample=0.7, scale_pos_weight=18.951239977624464, reg_lambda=0.8, reg_alpha=3, objective=binary, num_leaves=10000, min_split_gain=10.0, min_child_weight=6, min_child_samples=30, metric=auc, max_depth=40, max_bin=50, learning_rate=0.005, colsample_bytree=0.2, total=  23.8s\n",
      "[CV] subsample_freq=30, subsample_for_bin=100, subsample=0.4, scale_pos_weight=18.951239977624464, reg_lambda=0.2, reg_alpha=8, objective=binary, num_leaves=50, min_split_gain=1.1, min_child_weight=6, min_child_samples=100, metric=auc, max_depth=40, max_bin=100, learning_rate=0.05, colsample_bytree=0.7 \n",
      "[CV]  subsample_freq=30, subsample_for_bin=100, subsample=0.4, scale_pos_weight=18.951239977624464, reg_lambda=0.2, reg_alpha=8, objective=binary, num_leaves=50, min_split_gain=1.1, min_child_weight=6, min_child_samples=100, metric=auc, max_depth=40, max_bin=100, learning_rate=0.05, colsample_bytree=0.7, total=  33.8s\n",
      "[CV] subsample_freq=30, subsample_for_bin=100, subsample=0.4, scale_pos_weight=18.951239977624464, reg_lambda=0.2, reg_alpha=8, objective=binary, num_leaves=50, min_split_gain=1.1, min_child_weight=6, min_child_samples=100, metric=auc, max_depth=40, max_bin=100, learning_rate=0.05, colsample_bytree=0.7 \n",
      "[CV]  subsample_freq=30, subsample_for_bin=100, subsample=0.4, scale_pos_weight=18.951239977624464, reg_lambda=0.2, reg_alpha=8, objective=binary, num_leaves=50, min_split_gain=1.1, min_child_weight=6, min_child_samples=100, metric=auc, max_depth=40, max_bin=100, learning_rate=0.05, colsample_bytree=0.7, total=  27.7s\n",
      "[CV] subsample_freq=30, subsample_for_bin=100, subsample=0.4, scale_pos_weight=18.951239977624464, reg_lambda=0.2, reg_alpha=8, objective=binary, num_leaves=50, min_split_gain=1.1, min_child_weight=6, min_child_samples=100, metric=auc, max_depth=40, max_bin=100, learning_rate=0.05, colsample_bytree=0.7 \n",
      "[CV]  subsample_freq=30, subsample_for_bin=100, subsample=0.4, scale_pos_weight=18.951239977624464, reg_lambda=0.2, reg_alpha=8, objective=binary, num_leaves=50, min_split_gain=1.1, min_child_weight=6, min_child_samples=100, metric=auc, max_depth=40, max_bin=100, learning_rate=0.05, colsample_bytree=0.7, total=  30.8s\n",
      "[CV] subsample_freq=30, subsample_for_bin=100, subsample=0.4, scale_pos_weight=18.951239977624464, reg_lambda=0.2, reg_alpha=8, objective=binary, num_leaves=50, min_split_gain=1.1, min_child_weight=6, min_child_samples=100, metric=auc, max_depth=40, max_bin=100, learning_rate=0.05, colsample_bytree=0.7 \n",
      "[CV]  subsample_freq=30, subsample_for_bin=100, subsample=0.4, scale_pos_weight=18.951239977624464, reg_lambda=0.2, reg_alpha=8, objective=binary, num_leaves=50, min_split_gain=1.1, min_child_weight=6, min_child_samples=100, metric=auc, max_depth=40, max_bin=100, learning_rate=0.05, colsample_bytree=0.7, total=  32.0s\n",
      "[CV] subsample_freq=2, subsample_for_bin=10, subsample=0.4, scale_pos_weight=18.951239977624464, reg_lambda=0.2, reg_alpha=8, objective=binary, num_leaves=50, min_split_gain=2.0, min_child_weight=3, min_child_samples=50, metric=auc, max_depth=40, max_bin=100, learning_rate=0.1, colsample_bytree=0.3 \n",
      "[CV]  subsample_freq=2, subsample_for_bin=10, subsample=0.4, scale_pos_weight=18.951239977624464, reg_lambda=0.2, reg_alpha=8, objective=binary, num_leaves=50, min_split_gain=2.0, min_child_weight=3, min_child_samples=50, metric=auc, max_depth=40, max_bin=100, learning_rate=0.1, colsample_bytree=0.3, total=  11.9s\n",
      "[CV] subsample_freq=2, subsample_for_bin=10, subsample=0.4, scale_pos_weight=18.951239977624464, reg_lambda=0.2, reg_alpha=8, objective=binary, num_leaves=50, min_split_gain=2.0, min_child_weight=3, min_child_samples=50, metric=auc, max_depth=40, max_bin=100, learning_rate=0.1, colsample_bytree=0.3 \n"
     ]
    },
    {
     "name": "stdout",
     "output_type": "stream",
     "text": [
      "[CV]  subsample_freq=2, subsample_for_bin=10, subsample=0.4, scale_pos_weight=18.951239977624464, reg_lambda=0.2, reg_alpha=8, objective=binary, num_leaves=50, min_split_gain=2.0, min_child_weight=3, min_child_samples=50, metric=auc, max_depth=40, max_bin=100, learning_rate=0.1, colsample_bytree=0.3, total=  12.6s\n",
      "[CV] subsample_freq=2, subsample_for_bin=10, subsample=0.4, scale_pos_weight=18.951239977624464, reg_lambda=0.2, reg_alpha=8, objective=binary, num_leaves=50, min_split_gain=2.0, min_child_weight=3, min_child_samples=50, metric=auc, max_depth=40, max_bin=100, learning_rate=0.1, colsample_bytree=0.3 \n",
      "[CV]  subsample_freq=2, subsample_for_bin=10, subsample=0.4, scale_pos_weight=18.951239977624464, reg_lambda=0.2, reg_alpha=8, objective=binary, num_leaves=50, min_split_gain=2.0, min_child_weight=3, min_child_samples=50, metric=auc, max_depth=40, max_bin=100, learning_rate=0.1, colsample_bytree=0.3, total=   9.1s\n",
      "[CV] subsample_freq=2, subsample_for_bin=10, subsample=0.4, scale_pos_weight=18.951239977624464, reg_lambda=0.2, reg_alpha=8, objective=binary, num_leaves=50, min_split_gain=2.0, min_child_weight=3, min_child_samples=50, metric=auc, max_depth=40, max_bin=100, learning_rate=0.1, colsample_bytree=0.3 \n",
      "[CV]  subsample_freq=2, subsample_for_bin=10, subsample=0.4, scale_pos_weight=18.951239977624464, reg_lambda=0.2, reg_alpha=8, objective=binary, num_leaves=50, min_split_gain=2.0, min_child_weight=3, min_child_samples=50, metric=auc, max_depth=40, max_bin=100, learning_rate=0.1, colsample_bytree=0.3, total=  14.0s\n",
      "[CV] subsample_freq=30, subsample_for_bin=200, subsample=0.1, scale_pos_weight=1, reg_lambda=0.8, reg_alpha=5, objective=binary, num_leaves=50, min_split_gain=10.0, min_child_weight=3, min_child_samples=50, metric=auc, max_depth=20, max_bin=100, learning_rate=0.1, colsample_bytree=0.2 \n",
      "[CV]  subsample_freq=30, subsample_for_bin=200, subsample=0.1, scale_pos_weight=1, reg_lambda=0.8, reg_alpha=5, objective=binary, num_leaves=50, min_split_gain=10.0, min_child_weight=3, min_child_samples=50, metric=auc, max_depth=20, max_bin=100, learning_rate=0.1, colsample_bytree=0.2, total=  10.0s\n",
      "[CV] subsample_freq=30, subsample_for_bin=200, subsample=0.1, scale_pos_weight=1, reg_lambda=0.8, reg_alpha=5, objective=binary, num_leaves=50, min_split_gain=10.0, min_child_weight=3, min_child_samples=50, metric=auc, max_depth=20, max_bin=100, learning_rate=0.1, colsample_bytree=0.2 \n",
      "[CV]  subsample_freq=30, subsample_for_bin=200, subsample=0.1, scale_pos_weight=1, reg_lambda=0.8, reg_alpha=5, objective=binary, num_leaves=50, min_split_gain=10.0, min_child_weight=3, min_child_samples=50, metric=auc, max_depth=20, max_bin=100, learning_rate=0.1, colsample_bytree=0.2, total=   8.7s\n",
      "[CV] subsample_freq=30, subsample_for_bin=200, subsample=0.1, scale_pos_weight=1, reg_lambda=0.8, reg_alpha=5, objective=binary, num_leaves=50, min_split_gain=10.0, min_child_weight=3, min_child_samples=50, metric=auc, max_depth=20, max_bin=100, learning_rate=0.1, colsample_bytree=0.2 \n",
      "[CV]  subsample_freq=30, subsample_for_bin=200, subsample=0.1, scale_pos_weight=1, reg_lambda=0.8, reg_alpha=5, objective=binary, num_leaves=50, min_split_gain=10.0, min_child_weight=3, min_child_samples=50, metric=auc, max_depth=20, max_bin=100, learning_rate=0.1, colsample_bytree=0.2, total=   8.6s\n",
      "[CV] subsample_freq=30, subsample_for_bin=200, subsample=0.1, scale_pos_weight=1, reg_lambda=0.8, reg_alpha=5, objective=binary, num_leaves=50, min_split_gain=10.0, min_child_weight=3, min_child_samples=50, metric=auc, max_depth=20, max_bin=100, learning_rate=0.1, colsample_bytree=0.2 \n",
      "[CV]  subsample_freq=30, subsample_for_bin=200, subsample=0.1, scale_pos_weight=1, reg_lambda=0.8, reg_alpha=5, objective=binary, num_leaves=50, min_split_gain=10.0, min_child_weight=3, min_child_samples=50, metric=auc, max_depth=20, max_bin=100, learning_rate=0.1, colsample_bytree=0.2, total=   8.7s\n",
      "[CV] subsample_freq=30, subsample_for_bin=200, subsample=0.7, scale_pos_weight=1, reg_lambda=0.8, reg_alpha=2, objective=binary, num_leaves=10000, min_split_gain=10.0, min_child_weight=2, min_child_samples=50, metric=auc, max_depth=20, max_bin=100, learning_rate=0.005, colsample_bytree=0.3 \n",
      "[CV]  subsample_freq=30, subsample_for_bin=200, subsample=0.7, scale_pos_weight=1, reg_lambda=0.8, reg_alpha=2, objective=binary, num_leaves=10000, min_split_gain=10.0, min_child_weight=2, min_child_samples=50, metric=auc, max_depth=20, max_bin=100, learning_rate=0.005, colsample_bytree=0.3, total=  42.5s\n",
      "[CV] subsample_freq=30, subsample_for_bin=200, subsample=0.7, scale_pos_weight=1, reg_lambda=0.8, reg_alpha=2, objective=binary, num_leaves=10000, min_split_gain=10.0, min_child_weight=2, min_child_samples=50, metric=auc, max_depth=20, max_bin=100, learning_rate=0.005, colsample_bytree=0.3 \n",
      "[CV]  subsample_freq=30, subsample_for_bin=200, subsample=0.7, scale_pos_weight=1, reg_lambda=0.8, reg_alpha=2, objective=binary, num_leaves=10000, min_split_gain=10.0, min_child_weight=2, min_child_samples=50, metric=auc, max_depth=20, max_bin=100, learning_rate=0.005, colsample_bytree=0.3, total=  35.4s\n",
      "[CV] subsample_freq=30, subsample_for_bin=200, subsample=0.7, scale_pos_weight=1, reg_lambda=0.8, reg_alpha=2, objective=binary, num_leaves=10000, min_split_gain=10.0, min_child_weight=2, min_child_samples=50, metric=auc, max_depth=20, max_bin=100, learning_rate=0.005, colsample_bytree=0.3 \n",
      "[CV]  subsample_freq=30, subsample_for_bin=200, subsample=0.7, scale_pos_weight=1, reg_lambda=0.8, reg_alpha=2, objective=binary, num_leaves=10000, min_split_gain=10.0, min_child_weight=2, min_child_samples=50, metric=auc, max_depth=20, max_bin=100, learning_rate=0.005, colsample_bytree=0.3, total=  33.3s\n",
      "[CV] subsample_freq=30, subsample_for_bin=200, subsample=0.7, scale_pos_weight=1, reg_lambda=0.8, reg_alpha=2, objective=binary, num_leaves=10000, min_split_gain=10.0, min_child_weight=2, min_child_samples=50, metric=auc, max_depth=20, max_bin=100, learning_rate=0.005, colsample_bytree=0.3 \n",
      "[CV]  subsample_freq=30, subsample_for_bin=200, subsample=0.7, scale_pos_weight=1, reg_lambda=0.8, reg_alpha=2, objective=binary, num_leaves=10000, min_split_gain=10.0, min_child_weight=2, min_child_samples=50, metric=auc, max_depth=20, max_bin=100, learning_rate=0.005, colsample_bytree=0.3, total=  33.8s\n",
      "[CV] subsample_freq=30, subsample_for_bin=100, subsample=0.1, scale_pos_weight=1, reg_lambda=0.2, reg_alpha=2, objective=binary, num_leaves=50, min_split_gain=2.0, min_child_weight=6, min_child_samples=30, metric=auc, max_depth=10, max_bin=200, learning_rate=0.1, colsample_bytree=0.2 \n",
      "[CV]  subsample_freq=30, subsample_for_bin=100, subsample=0.1, scale_pos_weight=1, reg_lambda=0.2, reg_alpha=2, objective=binary, num_leaves=50, min_split_gain=2.0, min_child_weight=6, min_child_samples=30, metric=auc, max_depth=10, max_bin=200, learning_rate=0.1, colsample_bytree=0.2, total=  11.8s\n",
      "[CV] subsample_freq=30, subsample_for_bin=100, subsample=0.1, scale_pos_weight=1, reg_lambda=0.2, reg_alpha=2, objective=binary, num_leaves=50, min_split_gain=2.0, min_child_weight=6, min_child_samples=30, metric=auc, max_depth=10, max_bin=200, learning_rate=0.1, colsample_bytree=0.2 \n",
      "[CV]  subsample_freq=30, subsample_for_bin=100, subsample=0.1, scale_pos_weight=1, reg_lambda=0.2, reg_alpha=2, objective=binary, num_leaves=50, min_split_gain=2.0, min_child_weight=6, min_child_samples=30, metric=auc, max_depth=10, max_bin=200, learning_rate=0.1, colsample_bytree=0.2, total=   9.9s\n",
      "[CV] subsample_freq=30, subsample_for_bin=100, subsample=0.1, scale_pos_weight=1, reg_lambda=0.2, reg_alpha=2, objective=binary, num_leaves=50, min_split_gain=2.0, min_child_weight=6, min_child_samples=30, metric=auc, max_depth=10, max_bin=200, learning_rate=0.1, colsample_bytree=0.2 \n",
      "[CV]  subsample_freq=30, subsample_for_bin=100, subsample=0.1, scale_pos_weight=1, reg_lambda=0.2, reg_alpha=2, objective=binary, num_leaves=50, min_split_gain=2.0, min_child_weight=6, min_child_samples=30, metric=auc, max_depth=10, max_bin=200, learning_rate=0.1, colsample_bytree=0.2, total=  10.6s\n",
      "[CV] subsample_freq=30, subsample_for_bin=100, subsample=0.1, scale_pos_weight=1, reg_lambda=0.2, reg_alpha=2, objective=binary, num_leaves=50, min_split_gain=2.0, min_child_weight=6, min_child_samples=30, metric=auc, max_depth=10, max_bin=200, learning_rate=0.1, colsample_bytree=0.2 \n"
     ]
    },
    {
     "name": "stdout",
     "output_type": "stream",
     "text": [
      "[CV]  subsample_freq=30, subsample_for_bin=100, subsample=0.1, scale_pos_weight=1, reg_lambda=0.2, reg_alpha=2, objective=binary, num_leaves=50, min_split_gain=2.0, min_child_weight=6, min_child_samples=30, metric=auc, max_depth=10, max_bin=200, learning_rate=0.1, colsample_bytree=0.2, total=  11.0s\n",
      "[CV] subsample_freq=100, subsample_for_bin=100, subsample=0.4, scale_pos_weight=18.951239977624464, reg_lambda=0.2, reg_alpha=7, objective=binary, num_leaves=10000, min_split_gain=1.1, min_child_weight=2, min_child_samples=100, metric=auc, max_depth=20, max_bin=200, learning_rate=0.05, colsample_bytree=0.2 \n",
      "[CV]  subsample_freq=100, subsample_for_bin=100, subsample=0.4, scale_pos_weight=18.951239977624464, reg_lambda=0.2, reg_alpha=7, objective=binary, num_leaves=10000, min_split_gain=1.1, min_child_weight=2, min_child_samples=100, metric=auc, max_depth=20, max_bin=200, learning_rate=0.05, colsample_bytree=0.2, total=  39.6s\n",
      "[CV] subsample_freq=100, subsample_for_bin=100, subsample=0.4, scale_pos_weight=18.951239977624464, reg_lambda=0.2, reg_alpha=7, objective=binary, num_leaves=10000, min_split_gain=1.1, min_child_weight=2, min_child_samples=100, metric=auc, max_depth=20, max_bin=200, learning_rate=0.05, colsample_bytree=0.2 \n",
      "[CV]  subsample_freq=100, subsample_for_bin=100, subsample=0.4, scale_pos_weight=18.951239977624464, reg_lambda=0.2, reg_alpha=7, objective=binary, num_leaves=10000, min_split_gain=1.1, min_child_weight=2, min_child_samples=100, metric=auc, max_depth=20, max_bin=200, learning_rate=0.05, colsample_bytree=0.2, total=  31.3s\n",
      "[CV] subsample_freq=100, subsample_for_bin=100, subsample=0.4, scale_pos_weight=18.951239977624464, reg_lambda=0.2, reg_alpha=7, objective=binary, num_leaves=10000, min_split_gain=1.1, min_child_weight=2, min_child_samples=100, metric=auc, max_depth=20, max_bin=200, learning_rate=0.05, colsample_bytree=0.2 \n",
      "[CV]  subsample_freq=100, subsample_for_bin=100, subsample=0.4, scale_pos_weight=18.951239977624464, reg_lambda=0.2, reg_alpha=7, objective=binary, num_leaves=10000, min_split_gain=1.1, min_child_weight=2, min_child_samples=100, metric=auc, max_depth=20, max_bin=200, learning_rate=0.05, colsample_bytree=0.2, total=  35.4s\n",
      "[CV] subsample_freq=100, subsample_for_bin=100, subsample=0.4, scale_pos_weight=18.951239977624464, reg_lambda=0.2, reg_alpha=7, objective=binary, num_leaves=10000, min_split_gain=1.1, min_child_weight=2, min_child_samples=100, metric=auc, max_depth=20, max_bin=200, learning_rate=0.05, colsample_bytree=0.2 \n",
      "[CV]  subsample_freq=100, subsample_for_bin=100, subsample=0.4, scale_pos_weight=18.951239977624464, reg_lambda=0.2, reg_alpha=7, objective=binary, num_leaves=10000, min_split_gain=1.1, min_child_weight=2, min_child_samples=100, metric=auc, max_depth=20, max_bin=200, learning_rate=0.05, colsample_bytree=0.2, total=  36.2s\n",
      "[CV] subsample_freq=30, subsample_for_bin=200, subsample=0.1, scale_pos_weight=0.05276699578395344, reg_lambda=0.2, reg_alpha=3, objective=binary, num_leaves=10000, min_split_gain=2.0, min_child_weight=2, min_child_samples=100, metric=auc, max_depth=10, max_bin=100, learning_rate=0.005, colsample_bytree=0.2 \n",
      "[CV]  subsample_freq=30, subsample_for_bin=200, subsample=0.1, scale_pos_weight=0.05276699578395344, reg_lambda=0.2, reg_alpha=3, objective=binary, num_leaves=10000, min_split_gain=2.0, min_child_weight=2, min_child_samples=100, metric=auc, max_depth=10, max_bin=100, learning_rate=0.005, colsample_bytree=0.2, total=  16.2s\n",
      "[CV] subsample_freq=30, subsample_for_bin=200, subsample=0.1, scale_pos_weight=0.05276699578395344, reg_lambda=0.2, reg_alpha=3, objective=binary, num_leaves=10000, min_split_gain=2.0, min_child_weight=2, min_child_samples=100, metric=auc, max_depth=10, max_bin=100, learning_rate=0.005, colsample_bytree=0.2 \n",
      "[CV]  subsample_freq=30, subsample_for_bin=200, subsample=0.1, scale_pos_weight=0.05276699578395344, reg_lambda=0.2, reg_alpha=3, objective=binary, num_leaves=10000, min_split_gain=2.0, min_child_weight=2, min_child_samples=100, metric=auc, max_depth=10, max_bin=100, learning_rate=0.005, colsample_bytree=0.2, total=  14.4s\n",
      "[CV] subsample_freq=30, subsample_for_bin=200, subsample=0.1, scale_pos_weight=0.05276699578395344, reg_lambda=0.2, reg_alpha=3, objective=binary, num_leaves=10000, min_split_gain=2.0, min_child_weight=2, min_child_samples=100, metric=auc, max_depth=10, max_bin=100, learning_rate=0.005, colsample_bytree=0.2 \n",
      "[CV]  subsample_freq=30, subsample_for_bin=200, subsample=0.1, scale_pos_weight=0.05276699578395344, reg_lambda=0.2, reg_alpha=3, objective=binary, num_leaves=10000, min_split_gain=2.0, min_child_weight=2, min_child_samples=100, metric=auc, max_depth=10, max_bin=100, learning_rate=0.005, colsample_bytree=0.2, total=  13.7s\n",
      "[CV] subsample_freq=30, subsample_for_bin=200, subsample=0.1, scale_pos_weight=0.05276699578395344, reg_lambda=0.2, reg_alpha=3, objective=binary, num_leaves=10000, min_split_gain=2.0, min_child_weight=2, min_child_samples=100, metric=auc, max_depth=10, max_bin=100, learning_rate=0.005, colsample_bytree=0.2 \n",
      "[CV]  subsample_freq=30, subsample_for_bin=200, subsample=0.1, scale_pos_weight=0.05276699578395344, reg_lambda=0.2, reg_alpha=3, objective=binary, num_leaves=10000, min_split_gain=2.0, min_child_weight=2, min_child_samples=100, metric=auc, max_depth=10, max_bin=100, learning_rate=0.005, colsample_bytree=0.2, total=  13.8s\n",
      "[CV] subsample_freq=30, subsample_for_bin=200, subsample=0.1, scale_pos_weight=18.951239977624464, reg_lambda=0.8, reg_alpha=5, objective=binary, num_leaves=1000, min_split_gain=10.0, min_child_weight=6, min_child_samples=100, metric=auc, max_depth=40, max_bin=100, learning_rate=0.05, colsample_bytree=0.2 \n",
      "[CV]  subsample_freq=30, subsample_for_bin=200, subsample=0.1, scale_pos_weight=18.951239977624464, reg_lambda=0.8, reg_alpha=5, objective=binary, num_leaves=1000, min_split_gain=10.0, min_child_weight=6, min_child_samples=100, metric=auc, max_depth=40, max_bin=100, learning_rate=0.05, colsample_bytree=0.2, total=  20.4s\n",
      "[CV] subsample_freq=30, subsample_for_bin=200, subsample=0.1, scale_pos_weight=18.951239977624464, reg_lambda=0.8, reg_alpha=5, objective=binary, num_leaves=1000, min_split_gain=10.0, min_child_weight=6, min_child_samples=100, metric=auc, max_depth=40, max_bin=100, learning_rate=0.05, colsample_bytree=0.2 \n",
      "[CV]  subsample_freq=30, subsample_for_bin=200, subsample=0.1, scale_pos_weight=18.951239977624464, reg_lambda=0.8, reg_alpha=5, objective=binary, num_leaves=1000, min_split_gain=10.0, min_child_weight=6, min_child_samples=100, metric=auc, max_depth=40, max_bin=100, learning_rate=0.05, colsample_bytree=0.2, total=  16.8s\n",
      "[CV] subsample_freq=30, subsample_for_bin=200, subsample=0.1, scale_pos_weight=18.951239977624464, reg_lambda=0.8, reg_alpha=5, objective=binary, num_leaves=1000, min_split_gain=10.0, min_child_weight=6, min_child_samples=100, metric=auc, max_depth=40, max_bin=100, learning_rate=0.05, colsample_bytree=0.2 \n",
      "[CV]  subsample_freq=30, subsample_for_bin=200, subsample=0.1, scale_pos_weight=18.951239977624464, reg_lambda=0.8, reg_alpha=5, objective=binary, num_leaves=1000, min_split_gain=10.0, min_child_weight=6, min_child_samples=100, metric=auc, max_depth=40, max_bin=100, learning_rate=0.05, colsample_bytree=0.2, total=  16.2s\n",
      "[CV] subsample_freq=30, subsample_for_bin=200, subsample=0.1, scale_pos_weight=18.951239977624464, reg_lambda=0.8, reg_alpha=5, objective=binary, num_leaves=1000, min_split_gain=10.0, min_child_weight=6, min_child_samples=100, metric=auc, max_depth=40, max_bin=100, learning_rate=0.05, colsample_bytree=0.2 \n",
      "[CV]  subsample_freq=30, subsample_for_bin=200, subsample=0.1, scale_pos_weight=18.951239977624464, reg_lambda=0.8, reg_alpha=5, objective=binary, num_leaves=1000, min_split_gain=10.0, min_child_weight=6, min_child_samples=100, metric=auc, max_depth=40, max_bin=100, learning_rate=0.05, colsample_bytree=0.2, total=  16.0s\n",
      "[CV] subsample_freq=2, subsample_for_bin=200, subsample=0.4, scale_pos_weight=18.951239977624464, reg_lambda=0, reg_alpha=2, objective=binary, num_leaves=50, min_split_gain=1.1, min_child_weight=6, min_child_samples=30, metric=auc, max_depth=40, max_bin=200, learning_rate=0.1, colsample_bytree=0.2 \n"
     ]
    },
    {
     "name": "stdout",
     "output_type": "stream",
     "text": [
      "[CV]  subsample_freq=2, subsample_for_bin=200, subsample=0.4, scale_pos_weight=18.951239977624464, reg_lambda=0, reg_alpha=2, objective=binary, num_leaves=50, min_split_gain=1.1, min_child_weight=6, min_child_samples=30, metric=auc, max_depth=40, max_bin=200, learning_rate=0.1, colsample_bytree=0.2, total=  36.7s\n",
      "[CV] subsample_freq=2, subsample_for_bin=200, subsample=0.4, scale_pos_weight=18.951239977624464, reg_lambda=0, reg_alpha=2, objective=binary, num_leaves=50, min_split_gain=1.1, min_child_weight=6, min_child_samples=30, metric=auc, max_depth=40, max_bin=200, learning_rate=0.1, colsample_bytree=0.2 \n",
      "[CV]  subsample_freq=2, subsample_for_bin=200, subsample=0.4, scale_pos_weight=18.951239977624464, reg_lambda=0, reg_alpha=2, objective=binary, num_leaves=50, min_split_gain=1.1, min_child_weight=6, min_child_samples=30, metric=auc, max_depth=40, max_bin=200, learning_rate=0.1, colsample_bytree=0.2, total=  29.8s\n",
      "[CV] subsample_freq=2, subsample_for_bin=200, subsample=0.4, scale_pos_weight=18.951239977624464, reg_lambda=0, reg_alpha=2, objective=binary, num_leaves=50, min_split_gain=1.1, min_child_weight=6, min_child_samples=30, metric=auc, max_depth=40, max_bin=200, learning_rate=0.1, colsample_bytree=0.2 \n",
      "[CV]  subsample_freq=2, subsample_for_bin=200, subsample=0.4, scale_pos_weight=18.951239977624464, reg_lambda=0, reg_alpha=2, objective=binary, num_leaves=50, min_split_gain=1.1, min_child_weight=6, min_child_samples=30, metric=auc, max_depth=40, max_bin=200, learning_rate=0.1, colsample_bytree=0.2, total=  28.8s\n",
      "[CV] subsample_freq=2, subsample_for_bin=200, subsample=0.4, scale_pos_weight=18.951239977624464, reg_lambda=0, reg_alpha=2, objective=binary, num_leaves=50, min_split_gain=1.1, min_child_weight=6, min_child_samples=30, metric=auc, max_depth=40, max_bin=200, learning_rate=0.1, colsample_bytree=0.2 \n",
      "[CV]  subsample_freq=2, subsample_for_bin=200, subsample=0.4, scale_pos_weight=18.951239977624464, reg_lambda=0, reg_alpha=2, objective=binary, num_leaves=50, min_split_gain=1.1, min_child_weight=6, min_child_samples=30, metric=auc, max_depth=40, max_bin=200, learning_rate=0.1, colsample_bytree=0.2, total=  28.5s\n",
      "[CV] subsample_freq=30, subsample_for_bin=200, subsample=0.4, scale_pos_weight=18.951239977624464, reg_lambda=0, reg_alpha=3, objective=binary, num_leaves=50, min_split_gain=1.1, min_child_weight=2, min_child_samples=30, metric=auc, max_depth=10, max_bin=100, learning_rate=0.05, colsample_bytree=0.7 \n",
      "[CV]  subsample_freq=30, subsample_for_bin=200, subsample=0.4, scale_pos_weight=18.951239977624464, reg_lambda=0, reg_alpha=3, objective=binary, num_leaves=50, min_split_gain=1.1, min_child_weight=2, min_child_samples=30, metric=auc, max_depth=10, max_bin=100, learning_rate=0.05, colsample_bytree=0.7, total=  32.2s\n",
      "[CV] subsample_freq=30, subsample_for_bin=200, subsample=0.4, scale_pos_weight=18.951239977624464, reg_lambda=0, reg_alpha=3, objective=binary, num_leaves=50, min_split_gain=1.1, min_child_weight=2, min_child_samples=30, metric=auc, max_depth=10, max_bin=100, learning_rate=0.05, colsample_bytree=0.7 \n",
      "[CV]  subsample_freq=30, subsample_for_bin=200, subsample=0.4, scale_pos_weight=18.951239977624464, reg_lambda=0, reg_alpha=3, objective=binary, num_leaves=50, min_split_gain=1.1, min_child_weight=2, min_child_samples=30, metric=auc, max_depth=10, max_bin=100, learning_rate=0.05, colsample_bytree=0.7, total=  27.2s\n",
      "[CV] subsample_freq=30, subsample_for_bin=200, subsample=0.4, scale_pos_weight=18.951239977624464, reg_lambda=0, reg_alpha=3, objective=binary, num_leaves=50, min_split_gain=1.1, min_child_weight=2, min_child_samples=30, metric=auc, max_depth=10, max_bin=100, learning_rate=0.05, colsample_bytree=0.7 \n",
      "[CV]  subsample_freq=30, subsample_for_bin=200, subsample=0.4, scale_pos_weight=18.951239977624464, reg_lambda=0, reg_alpha=3, objective=binary, num_leaves=50, min_split_gain=1.1, min_child_weight=2, min_child_samples=30, metric=auc, max_depth=10, max_bin=100, learning_rate=0.05, colsample_bytree=0.7, total=  25.8s\n",
      "[CV] subsample_freq=30, subsample_for_bin=200, subsample=0.4, scale_pos_weight=18.951239977624464, reg_lambda=0, reg_alpha=3, objective=binary, num_leaves=50, min_split_gain=1.1, min_child_weight=2, min_child_samples=30, metric=auc, max_depth=10, max_bin=100, learning_rate=0.05, colsample_bytree=0.7 \n",
      "[CV]  subsample_freq=30, subsample_for_bin=200, subsample=0.4, scale_pos_weight=18.951239977624464, reg_lambda=0, reg_alpha=3, objective=binary, num_leaves=50, min_split_gain=1.1, min_child_weight=2, min_child_samples=30, metric=auc, max_depth=10, max_bin=100, learning_rate=0.05, colsample_bytree=0.7, total=  25.9s\n",
      "[CV] subsample_freq=100, subsample_for_bin=10, subsample=0.1, scale_pos_weight=1, reg_lambda=0, reg_alpha=8, objective=binary, num_leaves=10000, min_split_gain=2.0, min_child_weight=6, min_child_samples=50, metric=auc, max_depth=40, max_bin=200, learning_rate=0.05, colsample_bytree=0.7 \n",
      "[CV]  subsample_freq=100, subsample_for_bin=10, subsample=0.1, scale_pos_weight=1, reg_lambda=0, reg_alpha=8, objective=binary, num_leaves=10000, min_split_gain=2.0, min_child_weight=6, min_child_samples=50, metric=auc, max_depth=40, max_bin=200, learning_rate=0.05, colsample_bytree=0.7, total=   7.3s\n",
      "[CV] subsample_freq=100, subsample_for_bin=10, subsample=0.1, scale_pos_weight=1, reg_lambda=0, reg_alpha=8, objective=binary, num_leaves=10000, min_split_gain=2.0, min_child_weight=6, min_child_samples=50, metric=auc, max_depth=40, max_bin=200, learning_rate=0.05, colsample_bytree=0.7 \n",
      "[CV]  subsample_freq=100, subsample_for_bin=10, subsample=0.1, scale_pos_weight=1, reg_lambda=0, reg_alpha=8, objective=binary, num_leaves=10000, min_split_gain=2.0, min_child_weight=6, min_child_samples=50, metric=auc, max_depth=40, max_bin=200, learning_rate=0.05, colsample_bytree=0.7, total=   7.3s\n",
      "[CV] subsample_freq=100, subsample_for_bin=10, subsample=0.1, scale_pos_weight=1, reg_lambda=0, reg_alpha=8, objective=binary, num_leaves=10000, min_split_gain=2.0, min_child_weight=6, min_child_samples=50, metric=auc, max_depth=40, max_bin=200, learning_rate=0.05, colsample_bytree=0.7 \n",
      "[CV]  subsample_freq=100, subsample_for_bin=10, subsample=0.1, scale_pos_weight=1, reg_lambda=0, reg_alpha=8, objective=binary, num_leaves=10000, min_split_gain=2.0, min_child_weight=6, min_child_samples=50, metric=auc, max_depth=40, max_bin=200, learning_rate=0.05, colsample_bytree=0.7, total=   6.0s\n",
      "[CV] subsample_freq=100, subsample_for_bin=10, subsample=0.1, scale_pos_weight=1, reg_lambda=0, reg_alpha=8, objective=binary, num_leaves=10000, min_split_gain=2.0, min_child_weight=6, min_child_samples=50, metric=auc, max_depth=40, max_bin=200, learning_rate=0.05, colsample_bytree=0.7 \n",
      "[CV]  subsample_freq=100, subsample_for_bin=10, subsample=0.1, scale_pos_weight=1, reg_lambda=0, reg_alpha=8, objective=binary, num_leaves=10000, min_split_gain=2.0, min_child_weight=6, min_child_samples=50, metric=auc, max_depth=40, max_bin=200, learning_rate=0.05, colsample_bytree=0.7, total=   8.3s\n",
      "[CV] subsample_freq=30, subsample_for_bin=200, subsample=0.1, scale_pos_weight=18.951239977624464, reg_lambda=0.8, reg_alpha=7, objective=binary, num_leaves=50, min_split_gain=10.0, min_child_weight=6, min_child_samples=30, metric=auc, max_depth=10, max_bin=100, learning_rate=0.05, colsample_bytree=0.2 \n",
      "[CV]  subsample_freq=30, subsample_for_bin=200, subsample=0.1, scale_pos_weight=18.951239977624464, reg_lambda=0.8, reg_alpha=7, objective=binary, num_leaves=50, min_split_gain=10.0, min_child_weight=6, min_child_samples=30, metric=auc, max_depth=10, max_bin=100, learning_rate=0.05, colsample_bytree=0.2, total=  14.8s\n",
      "[CV] subsample_freq=30, subsample_for_bin=200, subsample=0.1, scale_pos_weight=18.951239977624464, reg_lambda=0.8, reg_alpha=7, objective=binary, num_leaves=50, min_split_gain=10.0, min_child_weight=6, min_child_samples=30, metric=auc, max_depth=10, max_bin=100, learning_rate=0.05, colsample_bytree=0.2 \n",
      "[CV]  subsample_freq=30, subsample_for_bin=200, subsample=0.1, scale_pos_weight=18.951239977624464, reg_lambda=0.8, reg_alpha=7, objective=binary, num_leaves=50, min_split_gain=10.0, min_child_weight=6, min_child_samples=30, metric=auc, max_depth=10, max_bin=100, learning_rate=0.05, colsample_bytree=0.2, total=  12.3s\n",
      "[CV] subsample_freq=30, subsample_for_bin=200, subsample=0.1, scale_pos_weight=18.951239977624464, reg_lambda=0.8, reg_alpha=7, objective=binary, num_leaves=50, min_split_gain=10.0, min_child_weight=6, min_child_samples=30, metric=auc, max_depth=10, max_bin=100, learning_rate=0.05, colsample_bytree=0.2 \n"
     ]
    },
    {
     "name": "stdout",
     "output_type": "stream",
     "text": [
      "[CV]  subsample_freq=30, subsample_for_bin=200, subsample=0.1, scale_pos_weight=18.951239977624464, reg_lambda=0.8, reg_alpha=7, objective=binary, num_leaves=50, min_split_gain=10.0, min_child_weight=6, min_child_samples=30, metric=auc, max_depth=10, max_bin=100, learning_rate=0.05, colsample_bytree=0.2, total=  12.1s\n",
      "[CV] subsample_freq=30, subsample_for_bin=200, subsample=0.1, scale_pos_weight=18.951239977624464, reg_lambda=0.8, reg_alpha=7, objective=binary, num_leaves=50, min_split_gain=10.0, min_child_weight=6, min_child_samples=30, metric=auc, max_depth=10, max_bin=100, learning_rate=0.05, colsample_bytree=0.2 \n",
      "[CV]  subsample_freq=30, subsample_for_bin=200, subsample=0.1, scale_pos_weight=18.951239977624464, reg_lambda=0.8, reg_alpha=7, objective=binary, num_leaves=50, min_split_gain=10.0, min_child_weight=6, min_child_samples=30, metric=auc, max_depth=10, max_bin=100, learning_rate=0.05, colsample_bytree=0.2, total=  12.0s\n",
      "[CV] subsample_freq=2, subsample_for_bin=10, subsample=0.7, scale_pos_weight=18.951239977624464, reg_lambda=0.2, reg_alpha=7, objective=binary, num_leaves=1000, min_split_gain=2.0, min_child_weight=6, min_child_samples=100, metric=auc, max_depth=20, max_bin=200, learning_rate=0.1, colsample_bytree=0.2 \n",
      "[CV]  subsample_freq=2, subsample_for_bin=10, subsample=0.7, scale_pos_weight=18.951239977624464, reg_lambda=0.2, reg_alpha=7, objective=binary, num_leaves=1000, min_split_gain=2.0, min_child_weight=6, min_child_samples=100, metric=auc, max_depth=20, max_bin=200, learning_rate=0.1, colsample_bytree=0.2, total=  16.4s\n",
      "[CV] subsample_freq=2, subsample_for_bin=10, subsample=0.7, scale_pos_weight=18.951239977624464, reg_lambda=0.2, reg_alpha=7, objective=binary, num_leaves=1000, min_split_gain=2.0, min_child_weight=6, min_child_samples=100, metric=auc, max_depth=20, max_bin=200, learning_rate=0.1, colsample_bytree=0.2 \n",
      "[CV]  subsample_freq=2, subsample_for_bin=10, subsample=0.7, scale_pos_weight=18.951239977624464, reg_lambda=0.2, reg_alpha=7, objective=binary, num_leaves=1000, min_split_gain=2.0, min_child_weight=6, min_child_samples=100, metric=auc, max_depth=20, max_bin=200, learning_rate=0.1, colsample_bytree=0.2, total=  18.1s\n",
      "[CV] subsample_freq=2, subsample_for_bin=10, subsample=0.7, scale_pos_weight=18.951239977624464, reg_lambda=0.2, reg_alpha=7, objective=binary, num_leaves=1000, min_split_gain=2.0, min_child_weight=6, min_child_samples=100, metric=auc, max_depth=20, max_bin=200, learning_rate=0.1, colsample_bytree=0.2 \n",
      "[CV]  subsample_freq=2, subsample_for_bin=10, subsample=0.7, scale_pos_weight=18.951239977624464, reg_lambda=0.2, reg_alpha=7, objective=binary, num_leaves=1000, min_split_gain=2.0, min_child_weight=6, min_child_samples=100, metric=auc, max_depth=20, max_bin=200, learning_rate=0.1, colsample_bytree=0.2, total=  11.9s\n",
      "[CV] subsample_freq=2, subsample_for_bin=10, subsample=0.7, scale_pos_weight=18.951239977624464, reg_lambda=0.2, reg_alpha=7, objective=binary, num_leaves=1000, min_split_gain=2.0, min_child_weight=6, min_child_samples=100, metric=auc, max_depth=20, max_bin=200, learning_rate=0.1, colsample_bytree=0.2 \n",
      "[CV]  subsample_freq=2, subsample_for_bin=10, subsample=0.7, scale_pos_weight=18.951239977624464, reg_lambda=0.2, reg_alpha=7, objective=binary, num_leaves=1000, min_split_gain=2.0, min_child_weight=6, min_child_samples=100, metric=auc, max_depth=20, max_bin=200, learning_rate=0.1, colsample_bytree=0.2, total=  21.1s\n",
      "[CV] subsample_freq=30, subsample_for_bin=100, subsample=0.4, scale_pos_weight=18.951239977624464, reg_lambda=0.2, reg_alpha=2, objective=binary, num_leaves=10000, min_split_gain=10.0, min_child_weight=6, min_child_samples=50, metric=auc, max_depth=30, max_bin=100, learning_rate=0.05, colsample_bytree=0.3 \n",
      "[CV]  subsample_freq=30, subsample_for_bin=100, subsample=0.4, scale_pos_weight=18.951239977624464, reg_lambda=0.2, reg_alpha=2, objective=binary, num_leaves=10000, min_split_gain=10.0, min_child_weight=6, min_child_samples=50, metric=auc, max_depth=30, max_bin=100, learning_rate=0.05, colsample_bytree=0.3, total=  48.1s\n",
      "[CV] subsample_freq=30, subsample_for_bin=100, subsample=0.4, scale_pos_weight=18.951239977624464, reg_lambda=0.2, reg_alpha=2, objective=binary, num_leaves=10000, min_split_gain=10.0, min_child_weight=6, min_child_samples=50, metric=auc, max_depth=30, max_bin=100, learning_rate=0.05, colsample_bytree=0.3 \n",
      "[CV]  subsample_freq=30, subsample_for_bin=100, subsample=0.4, scale_pos_weight=18.951239977624464, reg_lambda=0.2, reg_alpha=2, objective=binary, num_leaves=10000, min_split_gain=10.0, min_child_weight=6, min_child_samples=50, metric=auc, max_depth=30, max_bin=100, learning_rate=0.05, colsample_bytree=0.3, total=  37.3s\n",
      "[CV] subsample_freq=30, subsample_for_bin=100, subsample=0.4, scale_pos_weight=18.951239977624464, reg_lambda=0.2, reg_alpha=2, objective=binary, num_leaves=10000, min_split_gain=10.0, min_child_weight=6, min_child_samples=50, metric=auc, max_depth=30, max_bin=100, learning_rate=0.05, colsample_bytree=0.3 \n",
      "[CV]  subsample_freq=30, subsample_for_bin=100, subsample=0.4, scale_pos_weight=18.951239977624464, reg_lambda=0.2, reg_alpha=2, objective=binary, num_leaves=10000, min_split_gain=10.0, min_child_weight=6, min_child_samples=50, metric=auc, max_depth=30, max_bin=100, learning_rate=0.05, colsample_bytree=0.3, total=  42.0s\n",
      "[CV] subsample_freq=30, subsample_for_bin=100, subsample=0.4, scale_pos_weight=18.951239977624464, reg_lambda=0.2, reg_alpha=2, objective=binary, num_leaves=10000, min_split_gain=10.0, min_child_weight=6, min_child_samples=50, metric=auc, max_depth=30, max_bin=100, learning_rate=0.05, colsample_bytree=0.3 \n",
      "[CV]  subsample_freq=30, subsample_for_bin=100, subsample=0.4, scale_pos_weight=18.951239977624464, reg_lambda=0.2, reg_alpha=2, objective=binary, num_leaves=10000, min_split_gain=10.0, min_child_weight=6, min_child_samples=50, metric=auc, max_depth=30, max_bin=100, learning_rate=0.05, colsample_bytree=0.3, total=  43.8s\n",
      "[CV] subsample_freq=2, subsample_for_bin=10, subsample=0.1, scale_pos_weight=18.951239977624464, reg_lambda=0, reg_alpha=8, objective=binary, num_leaves=10000, min_split_gain=1.1, min_child_weight=6, min_child_samples=100, metric=auc, max_depth=20, max_bin=50, learning_rate=0.05, colsample_bytree=0.7 \n",
      "[CV]  subsample_freq=2, subsample_for_bin=10, subsample=0.1, scale_pos_weight=18.951239977624464, reg_lambda=0, reg_alpha=8, objective=binary, num_leaves=10000, min_split_gain=1.1, min_child_weight=6, min_child_samples=100, metric=auc, max_depth=20, max_bin=50, learning_rate=0.05, colsample_bytree=0.7, total=  10.4s\n",
      "[CV] subsample_freq=2, subsample_for_bin=10, subsample=0.1, scale_pos_weight=18.951239977624464, reg_lambda=0, reg_alpha=8, objective=binary, num_leaves=10000, min_split_gain=1.1, min_child_weight=6, min_child_samples=100, metric=auc, max_depth=20, max_bin=50, learning_rate=0.05, colsample_bytree=0.7 \n",
      "[CV]  subsample_freq=2, subsample_for_bin=10, subsample=0.1, scale_pos_weight=18.951239977624464, reg_lambda=0, reg_alpha=8, objective=binary, num_leaves=10000, min_split_gain=1.1, min_child_weight=6, min_child_samples=100, metric=auc, max_depth=20, max_bin=50, learning_rate=0.05, colsample_bytree=0.7, total=  10.4s\n",
      "[CV] subsample_freq=2, subsample_for_bin=10, subsample=0.1, scale_pos_weight=18.951239977624464, reg_lambda=0, reg_alpha=8, objective=binary, num_leaves=10000, min_split_gain=1.1, min_child_weight=6, min_child_samples=100, metric=auc, max_depth=20, max_bin=50, learning_rate=0.05, colsample_bytree=0.7 \n",
      "[CV]  subsample_freq=2, subsample_for_bin=10, subsample=0.1, scale_pos_weight=18.951239977624464, reg_lambda=0, reg_alpha=8, objective=binary, num_leaves=10000, min_split_gain=1.1, min_child_weight=6, min_child_samples=100, metric=auc, max_depth=20, max_bin=50, learning_rate=0.05, colsample_bytree=0.7, total=   8.0s\n",
      "[CV] subsample_freq=2, subsample_for_bin=10, subsample=0.1, scale_pos_weight=18.951239977624464, reg_lambda=0, reg_alpha=8, objective=binary, num_leaves=10000, min_split_gain=1.1, min_child_weight=6, min_child_samples=100, metric=auc, max_depth=20, max_bin=50, learning_rate=0.05, colsample_bytree=0.7 \n",
      "[CV]  subsample_freq=2, subsample_for_bin=10, subsample=0.1, scale_pos_weight=18.951239977624464, reg_lambda=0, reg_alpha=8, objective=binary, num_leaves=10000, min_split_gain=1.1, min_child_weight=6, min_child_samples=100, metric=auc, max_depth=20, max_bin=50, learning_rate=0.05, colsample_bytree=0.7, total=  11.4s\n",
      "[CV] subsample_freq=30, subsample_for_bin=100, subsample=0.1, scale_pos_weight=0.05276699578395344, reg_lambda=0, reg_alpha=2, objective=binary, num_leaves=1000, min_split_gain=1.1, min_child_weight=2, min_child_samples=100, metric=auc, max_depth=40, max_bin=100, learning_rate=0.05, colsample_bytree=0.2 \n"
     ]
    },
    {
     "name": "stdout",
     "output_type": "stream",
     "text": [
      "[CV]  subsample_freq=30, subsample_for_bin=100, subsample=0.1, scale_pos_weight=0.05276699578395344, reg_lambda=0, reg_alpha=2, objective=binary, num_leaves=1000, min_split_gain=1.1, min_child_weight=2, min_child_samples=100, metric=auc, max_depth=40, max_bin=100, learning_rate=0.05, colsample_bytree=0.2, total=   8.9s\n",
      "[CV] subsample_freq=30, subsample_for_bin=100, subsample=0.1, scale_pos_weight=0.05276699578395344, reg_lambda=0, reg_alpha=2, objective=binary, num_leaves=1000, min_split_gain=1.1, min_child_weight=2, min_child_samples=100, metric=auc, max_depth=40, max_bin=100, learning_rate=0.05, colsample_bytree=0.2 \n",
      "[CV]  subsample_freq=30, subsample_for_bin=100, subsample=0.1, scale_pos_weight=0.05276699578395344, reg_lambda=0, reg_alpha=2, objective=binary, num_leaves=1000, min_split_gain=1.1, min_child_weight=2, min_child_samples=100, metric=auc, max_depth=40, max_bin=100, learning_rate=0.05, colsample_bytree=0.2, total=   7.9s\n",
      "[CV] subsample_freq=30, subsample_for_bin=100, subsample=0.1, scale_pos_weight=0.05276699578395344, reg_lambda=0, reg_alpha=2, objective=binary, num_leaves=1000, min_split_gain=1.1, min_child_weight=2, min_child_samples=100, metric=auc, max_depth=40, max_bin=100, learning_rate=0.05, colsample_bytree=0.2 \n",
      "[CV]  subsample_freq=30, subsample_for_bin=100, subsample=0.1, scale_pos_weight=0.05276699578395344, reg_lambda=0, reg_alpha=2, objective=binary, num_leaves=1000, min_split_gain=1.1, min_child_weight=2, min_child_samples=100, metric=auc, max_depth=40, max_bin=100, learning_rate=0.05, colsample_bytree=0.2, total=   8.3s\n",
      "[CV] subsample_freq=30, subsample_for_bin=100, subsample=0.1, scale_pos_weight=0.05276699578395344, reg_lambda=0, reg_alpha=2, objective=binary, num_leaves=1000, min_split_gain=1.1, min_child_weight=2, min_child_samples=100, metric=auc, max_depth=40, max_bin=100, learning_rate=0.05, colsample_bytree=0.2 \n",
      "[CV]  subsample_freq=30, subsample_for_bin=100, subsample=0.1, scale_pos_weight=0.05276699578395344, reg_lambda=0, reg_alpha=2, objective=binary, num_leaves=1000, min_split_gain=1.1, min_child_weight=2, min_child_samples=100, metric=auc, max_depth=40, max_bin=100, learning_rate=0.05, colsample_bytree=0.2, total=   8.7s\n",
      "[CV] subsample_freq=30, subsample_for_bin=200, subsample=0.4, scale_pos_weight=18.951239977624464, reg_lambda=0.8, reg_alpha=3, objective=binary, num_leaves=1000, min_split_gain=2.0, min_child_weight=2, min_child_samples=50, metric=auc, max_depth=10, max_bin=50, learning_rate=0.05, colsample_bytree=0.3 \n",
      "[CV]  subsample_freq=30, subsample_for_bin=200, subsample=0.4, scale_pos_weight=18.951239977624464, reg_lambda=0.8, reg_alpha=3, objective=binary, num_leaves=1000, min_split_gain=2.0, min_child_weight=2, min_child_samples=50, metric=auc, max_depth=10, max_bin=50, learning_rate=0.05, colsample_bytree=0.3, total=  32.2s\n",
      "[CV] subsample_freq=30, subsample_for_bin=200, subsample=0.4, scale_pos_weight=18.951239977624464, reg_lambda=0.8, reg_alpha=3, objective=binary, num_leaves=1000, min_split_gain=2.0, min_child_weight=2, min_child_samples=50, metric=auc, max_depth=10, max_bin=50, learning_rate=0.05, colsample_bytree=0.3 \n",
      "[CV]  subsample_freq=30, subsample_for_bin=200, subsample=0.4, scale_pos_weight=18.951239977624464, reg_lambda=0.8, reg_alpha=3, objective=binary, num_leaves=1000, min_split_gain=2.0, min_child_weight=2, min_child_samples=50, metric=auc, max_depth=10, max_bin=50, learning_rate=0.05, colsample_bytree=0.3, total=  26.6s\n",
      "[CV] subsample_freq=30, subsample_for_bin=200, subsample=0.4, scale_pos_weight=18.951239977624464, reg_lambda=0.8, reg_alpha=3, objective=binary, num_leaves=1000, min_split_gain=2.0, min_child_weight=2, min_child_samples=50, metric=auc, max_depth=10, max_bin=50, learning_rate=0.05, colsample_bytree=0.3 \n",
      "[CV]  subsample_freq=30, subsample_for_bin=200, subsample=0.4, scale_pos_weight=18.951239977624464, reg_lambda=0.8, reg_alpha=3, objective=binary, num_leaves=1000, min_split_gain=2.0, min_child_weight=2, min_child_samples=50, metric=auc, max_depth=10, max_bin=50, learning_rate=0.05, colsample_bytree=0.3, total=  24.9s\n",
      "[CV] subsample_freq=30, subsample_for_bin=200, subsample=0.4, scale_pos_weight=18.951239977624464, reg_lambda=0.8, reg_alpha=3, objective=binary, num_leaves=1000, min_split_gain=2.0, min_child_weight=2, min_child_samples=50, metric=auc, max_depth=10, max_bin=50, learning_rate=0.05, colsample_bytree=0.3 \n",
      "[CV]  subsample_freq=30, subsample_for_bin=200, subsample=0.4, scale_pos_weight=18.951239977624464, reg_lambda=0.8, reg_alpha=3, objective=binary, num_leaves=1000, min_split_gain=2.0, min_child_weight=2, min_child_samples=50, metric=auc, max_depth=10, max_bin=50, learning_rate=0.05, colsample_bytree=0.3, total=  25.4s\n"
     ]
    },
    {
     "name": "stderr",
     "output_type": "stream",
     "text": [
      "[Parallel(n_jobs=1)]: Done 400 out of 400 | elapsed: 146.2min finished\n"
     ]
    },
    {
     "name": "stdout",
     "output_type": "stream",
     "text": [
      "CPU times: user 15h 59min 39s, sys: 1min 22s, total: 16h 1min 2s\n",
      "Wall time: 2h 27min 3s\n"
     ]
    },
    {
     "data": {
      "text/plain": [
       "RandomizedSearchCV(cv=4, error_score='raise',\n",
       "          estimator=LGBMClassifier(boosting_type='gbdt', class_weight=None, colsample_bytree=1.0,\n",
       "        learning_rate=0.1, max_depth=-1, min_child_samples=20,\n",
       "        min_child_weight=0.001, min_split_gain=0.0, n_estimators=100,\n",
       "        n_jobs=-1, nthread=8, num_leaves=31, objective=None,\n",
       "        random_state=None, reg_alpha=0.0, reg_lambda=0.0, silent=True,\n",
       "        subsample=1.0, subsample_for_bin=200000, subsample_freq=0,\n",
       "        verbose_eval=32),\n",
       "          fit_params=None, iid=True, n_iter=100, n_jobs=1,\n",
       "          param_distributions={'num_leaves': [50, 1000, 10000, 10000], 'max_depth': [10, 20, 30, 40], 'min_child_samples': [30, 50, 100], 'max_bin': [50, 100, 200], 'subsample': [0.1, 0.4, 0.7], 'subsample_freq': [2, 30, 100], 'colsample_bytree': [0.2, 0.3, 0.7], 'min_child_weight': [2, 3, 6], 'subsample_for_..., 0.005], 'objective': ['binary'], 'scale_pos_weight': [1, 18.951239977624464, 0.05276699578395344]},\n",
       "          pre_dispatch='2*n_jobs', random_state=42, refit=True,\n",
       "          return_train_score='warn', scoring='roc_auc', verbose=2)"
      ]
     },
     "execution_count": 44,
     "metadata": {},
     "output_type": "execute_result"
    }
   ],
   "source": [
    "%%time\n",
    "clf.fit(X_train, Y_train)"
   ]
  },
  {
   "cell_type": "code",
   "execution_count": 45,
   "metadata": {},
   "outputs": [],
   "source": [
    "def report(results, n_top=3):\n",
    "    for i in range(1, n_top + 1):\n",
    "        candidates = np.flatnonzero(results['rank_test_score'] == i)\n",
    "        for candidate in candidates:\n",
    "            print(\"Model with rank: {0}\".format(i))\n",
    "            print(\"Mean validation score: {0:.3f} (std: {1:.3f})\".format(\n",
    "                  results['mean_test_score'][candidate],\n",
    "                  results['std_test_score'][candidate]))\n",
    "            print(\"Parameters: {0}\".format(results['params'][candidate]))\n",
    "            print(\"\")"
   ]
  },
  {
   "cell_type": "code",
   "execution_count": 46,
   "metadata": {},
   "outputs": [
    {
     "name": "stdout",
     "output_type": "stream",
     "text": [
      "RandomizedSearchCV\n",
      "Model with rank: 1\n",
      "Mean validation score: 0.653 (std: 0.006)\n",
      "Parameters: {'subsample_freq': 2, 'subsample_for_bin': 100, 'subsample': 0.7, 'scale_pos_weight': 1, 'reg_lambda': 0.2, 'reg_alpha': 7, 'objective': 'binary', 'num_leaves': 50, 'min_split_gain': 2.0, 'min_child_weight': 3, 'min_child_samples': 100, 'metric': 'auc', 'max_depth': 20, 'max_bin': 100, 'learning_rate': 0.1, 'colsample_bytree': 0.7}\n",
      "\n",
      "Model with rank: 2\n",
      "Mean validation score: 0.653 (std: 0.006)\n",
      "Parameters: {'subsample_freq': 2, 'subsample_for_bin': 100, 'subsample': 0.7, 'scale_pos_weight': 1, 'reg_lambda': 0.8, 'reg_alpha': 5, 'objective': 'binary', 'num_leaves': 50, 'min_split_gain': 2.0, 'min_child_weight': 6, 'min_child_samples': 30, 'metric': 'auc', 'max_depth': 20, 'max_bin': 100, 'learning_rate': 0.05, 'colsample_bytree': 0.3}\n",
      "\n",
      "Model with rank: 3\n",
      "Mean validation score: 0.650 (std: 0.007)\n",
      "Parameters: {'subsample_freq': 100, 'subsample_for_bin': 200, 'subsample': 0.7, 'scale_pos_weight': 1, 'reg_lambda': 0, 'reg_alpha': 8, 'objective': 'binary', 'num_leaves': 10000, 'min_split_gain': 1.1, 'min_child_weight': 6, 'min_child_samples': 100, 'metric': 'auc', 'max_depth': 10, 'max_bin': 200, 'learning_rate': 0.1, 'colsample_bytree': 0.2}\n",
      "\n"
     ]
    }
   ],
   "source": [
    "print(\"RandomizedSearchCV\")\n",
    "report(clf.cv_results_)"
   ]
  },
  {
   "cell_type": "code",
   "execution_count": 47,
   "metadata": {},
   "outputs": [],
   "source": [
    "params = clf.best_params_\n",
    "# params = {'subsample_freq': 2, 'subsample_for_bin': 100, 'subsample': 0.7, 'scale_pos_weight': 1, 'reg_lambda': 0.2, 'reg_alpha': 7, 'objective': 'binary', 'num_leaves': 50, 'min_split_gain': 2.0, 'min_child_weight': 3, 'min_child_samples': 100, 'metric': 'auc', 'max_depth': 20, 'max_bin': 100, 'learning_rate': 0.1, 'colsample_bytree': 0.7}"
   ]
  },
  {
   "cell_type": "code",
   "execution_count": 50,
   "metadata": {},
   "outputs": [
    {
     "name": "stdout",
     "output_type": "stream",
     "text": [
      "Training until validation scores don't improve for 200 rounds.\n",
      "[10]\ttrain's auc: 0.650859\tvalid's auc: 0.6216\n",
      "[20]\ttrain's auc: 0.66754\tvalid's auc: 0.629954\n",
      "[30]\ttrain's auc: 0.680867\tvalid's auc: 0.637238\n",
      "[40]\ttrain's auc: 0.690948\tvalid's auc: 0.640846\n",
      "[50]\ttrain's auc: 0.698107\tvalid's auc: 0.643292\n",
      "[60]\ttrain's auc: 0.704833\tvalid's auc: 0.644888\n",
      "[70]\ttrain's auc: 0.709977\tvalid's auc: 0.645596\n",
      "[80]\ttrain's auc: 0.71439\tvalid's auc: 0.646295\n",
      "[90]\ttrain's auc: 0.71801\tvalid's auc: 0.64717\n",
      "[100]\ttrain's auc: 0.720487\tvalid's auc: 0.647642\n",
      "[110]\ttrain's auc: 0.723143\tvalid's auc: 0.647897\n",
      "[120]\ttrain's auc: 0.724961\tvalid's auc: 0.648275\n",
      "[130]\ttrain's auc: 0.726812\tvalid's auc: 0.648083\n",
      "[140]\ttrain's auc: 0.72847\tvalid's auc: 0.648556\n",
      "[150]\ttrain's auc: 0.730257\tvalid's auc: 0.648846\n",
      "[160]\ttrain's auc: 0.732237\tvalid's auc: 0.648759\n",
      "[170]\ttrain's auc: 0.733286\tvalid's auc: 0.649013\n",
      "[180]\ttrain's auc: 0.734456\tvalid's auc: 0.64854\n",
      "[190]\ttrain's auc: 0.735655\tvalid's auc: 0.64807\n",
      "[200]\ttrain's auc: 0.736575\tvalid's auc: 0.647842\n",
      "[210]\ttrain's auc: 0.737527\tvalid's auc: 0.647874\n",
      "[220]\ttrain's auc: 0.738581\tvalid's auc: 0.647821\n",
      "[230]\ttrain's auc: 0.739541\tvalid's auc: 0.647902\n",
      "[240]\ttrain's auc: 0.740271\tvalid's auc: 0.647789\n",
      "[250]\ttrain's auc: 0.7408\tvalid's auc: 0.647684\n",
      "[260]\ttrain's auc: 0.741638\tvalid's auc: 0.647471\n",
      "[270]\ttrain's auc: 0.742016\tvalid's auc: 0.6473\n",
      "[280]\ttrain's auc: 0.742726\tvalid's auc: 0.64736\n",
      "[290]\ttrain's auc: 0.743238\tvalid's auc: 0.64747\n",
      "[300]\ttrain's auc: 0.743697\tvalid's auc: 0.647234\n",
      "[310]\ttrain's auc: 0.744348\tvalid's auc: 0.647155\n",
      "[320]\ttrain's auc: 0.744766\tvalid's auc: 0.647054\n",
      "[330]\ttrain's auc: 0.745226\tvalid's auc: 0.646599\n",
      "[340]\ttrain's auc: 0.745728\tvalid's auc: 0.646459\n",
      "[350]\ttrain's auc: 0.746407\tvalid's auc: 0.646339\n",
      "[360]\ttrain's auc: 0.746814\tvalid's auc: 0.646251\n",
      "Early stopping, best iteration is:\n",
      "[169]\ttrain's auc: 0.733193\tvalid's auc: 0.649045\n"
     ]
    }
   ],
   "source": [
    "evals_results = {}\n",
    "num_boost_round=3000\n",
    "early_stopping_rounds=200\n",
    "feval=None\n",
    "\n",
    "model = lgbm.train(params, \n",
    "                     d_train, \n",
    "                     valid_sets=[d_train, d_valid], \n",
    "                     valid_names=['train','valid'], \n",
    "                     evals_result=evals_results, \n",
    "                     num_boost_round=num_boost_round,\n",
    "                     early_stopping_rounds=early_stopping_rounds,\n",
    "                     verbose_eval=10, \n",
    "                     feval=feval)"
   ]
  },
  {
   "cell_type": "code",
   "execution_count": 51,
   "metadata": {},
   "outputs": [
    {
     "name": "stdout",
     "output_type": "stream",
     "text": [
      "\n",
      "Model Report\n",
      "n_estimators :  169\n",
      "AUC: 0.6490449913737819\n"
     ]
    }
   ],
   "source": [
    "n_estimators = model.best_iteration\n",
    "print(\"\\nModel Report\")\n",
    "print(\"n_estimators : \", n_estimators)\n",
    "print(\"AUC\"+\":\", evals_results['valid']['auc'][n_estimators-1])"
   ]
  },
  {
   "cell_type": "code",
   "execution_count": 52,
   "metadata": {},
   "outputs": [
    {
     "name": "stdout",
     "output_type": "stream",
     "text": [
      "ROC AUC score: 0.6490449913737819\n"
     ]
    }
   ],
   "source": [
    "from sklearn.metrics import roc_auc_score\n",
    "\n",
    "predicted = model.predict(X_validation)\n",
    "print(\"ROC AUC score:\",roc_auc_score(Y_validation, predicted))"
   ]
  },
  {
   "cell_type": "code",
   "execution_count": 53,
   "metadata": {},
   "outputs": [],
   "source": [
    "Save(model,\"lgbm_model.pkl\")"
   ]
  },
  {
   "cell_type": "markdown",
   "metadata": {},
   "source": [
    "# Test Data"
   ]
  },
  {
   "cell_type": "code",
   "execution_count": 54,
   "metadata": {},
   "outputs": [],
   "source": [
    "test_data = scipy.sparse.load_npz(\"test_sparse_matrix_after_scale.npz\")"
   ]
  },
  {
   "cell_type": "code",
   "execution_count": 55,
   "metadata": {},
   "outputs": [],
   "source": [
    "Y_test = model.predict(test_data, num_iteration=model.best_iteration)\n",
    "print(Y_test.max())\n",
    "print(Y_test.mean())"
   ]
  },
  {
   "cell_type": "markdown",
   "metadata": {},
   "source": [
    "## Saving test predictions"
   ]
  },
  {
   "cell_type": "code",
   "execution_count": 58,
   "metadata": {},
   "outputs": [],
   "source": [
    "predictions = pd.DataFrame(Y_test)\n",
    "predictions.to_csv(\"solution_lgbm.csv\",header=None, index=None)"
   ]
  }
 ],
 "metadata": {
  "kernelspec": {
   "display_name": "Python 3",
   "language": "python",
   "name": "python3"
  },
  "language_info": {
   "codemirror_mode": {
    "name": "ipython",
    "version": 3
   },
   "file_extension": ".py",
   "mimetype": "text/x-python",
   "name": "python",
   "nbconvert_exporter": "python",
   "pygments_lexer": "ipython3",
   "version": "3.6.4"
  }
 },
 "nbformat": 4,
 "nbformat_minor": 2
}
