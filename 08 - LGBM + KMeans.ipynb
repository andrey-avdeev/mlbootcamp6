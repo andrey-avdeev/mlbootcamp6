{
 "cells": [
  {
   "cell_type": "markdown",
   "metadata": {},
   "source": [
    "# 07 - LGBM + KMeans"
   ]
  },
  {
   "cell_type": "markdown",
   "metadata": {},
   "source": [
    "#### Imports"
   ]
  },
  {
   "cell_type": "code",
   "execution_count": 1,
   "metadata": {},
   "outputs": [],
   "source": [
    "import numpy as np\n",
    "import pandas as pd\n",
    "\n",
    "import matplotlib.pyplot as plt\n",
    "import seaborn as sns\n",
    "\n",
    "sns.set(style=\"white\")"
   ]
  },
  {
   "cell_type": "markdown",
   "metadata": {},
   "source": [
    "#### Constants"
   ]
  },
  {
   "cell_type": "code",
   "execution_count": 2,
   "metadata": {},
   "outputs": [],
   "source": [
    "n_components = 1000"
   ]
  },
  {
   "cell_type": "code",
   "execution_count": 3,
   "metadata": {},
   "outputs": [],
   "source": [
    "models_folder = \"models/\"\n",
    "train_data_fn = models_folder+'train_data.pkl'\n",
    "target_fn = models_folder+'target.pkl'\n",
    "test_data_fn = models_folder+'test_data.pkl'\n",
    "\n",
    "weight_multiplier_fn = models_folder+\"weight_multiplier.pkl\""
   ]
  },
  {
   "cell_type": "markdown",
   "metadata": {},
   "source": [
    "#### Functions"
   ]
  },
  {
   "cell_type": "code",
   "execution_count": 4,
   "metadata": {},
   "outputs": [],
   "source": [
    "import os.path\n",
    "from sklearn.externals import joblib\n",
    "\n",
    "def Load(filename):\n",
    "    if os.path.isfile(filename):\n",
    "        return joblib.load(filename)\n",
    "    \n",
    "def Save(obj, filename):\n",
    "    joblib.dump(obj, filename)"
   ]
  },
  {
   "cell_type": "markdown",
   "metadata": {},
   "source": [
    "# Loading data"
   ]
  },
  {
   "cell_type": "code",
   "execution_count": 5,
   "metadata": {},
   "outputs": [],
   "source": [
    "import scipy\n",
    "\n",
    "data = scipy.sparse.load_npz(\"train_sparse_matrix_after_scale.npz\")\n",
    "\n",
    "kmeans100 = Load(models_folder+'kmeans_n100.pkl')\n",
    "kmeans2 = Load(models_folder+'kmeans_n2.pkl')\n",
    "target = Load(target_fn)"
   ]
  },
  {
   "cell_type": "code",
   "execution_count": 6,
   "metadata": {},
   "outputs": [],
   "source": [
    "from scipy import sparse\n",
    "\n",
    "traink100 = sparse.csr_matrix(kmeans100[:427994])\n",
    "traink2 = sparse.csr_matrix(kmeans2[:427994])"
   ]
  },
  {
   "cell_type": "code",
   "execution_count": 8,
   "metadata": {},
   "outputs": [],
   "source": [
    "from scipy.sparse import hstack\n",
    "\n",
    "data = hstack([data,traink100.transpose(),traink2.transpose()]).tocsr()  "
   ]
  },
  {
   "cell_type": "code",
   "execution_count": 9,
   "metadata": {},
   "outputs": [],
   "source": [
    "weight_multiplier = Load(weight_multiplier_fn)"
   ]
  },
  {
   "cell_type": "markdown",
   "metadata": {},
   "source": [
    "## Splitting dataset"
   ]
  },
  {
   "cell_type": "code",
   "execution_count": 10,
   "metadata": {},
   "outputs": [
    {
     "name": "stderr",
     "output_type": "stream",
     "text": [
      "/home/aavdeev/anaconda3/lib/python3.6/site-packages/sklearn/model_selection/_split.py:2026: FutureWarning: From version 0.21, test_size will always complement train_size unless both are specified.\n",
      "  FutureWarning)\n"
     ]
    }
   ],
   "source": [
    "from sklearn.model_selection import train_test_split\n",
    "\n",
    "X_train, X_validation, Y_train, Y_validation = train_test_split(data, target.ravel(), train_size=0.8)"
   ]
  },
  {
   "cell_type": "code",
   "execution_count": 11,
   "metadata": {},
   "outputs": [],
   "source": [
    "import lightgbm as lgbm\n",
    "import re"
   ]
  },
  {
   "cell_type": "code",
   "execution_count": 12,
   "metadata": {},
   "outputs": [],
   "source": [
    "params = {'subsample_freq': 2, 'subsample_for_bin': 100, 'subsample': 0.7, 'scale_pos_weight': 1, 'reg_lambda': 0.2, 'reg_alpha': 7, 'objective': 'binary', 'num_leaves': 50, 'min_split_gain': 2.0, 'min_child_weight': 3, 'min_child_samples': 100, 'metric': 'auc', 'max_depth': 20, 'max_bin': 100, 'learning_rate': 0.1, 'colsample_bytree': 0.7}"
   ]
  },
  {
   "cell_type": "code",
   "execution_count": 16,
   "metadata": {},
   "outputs": [],
   "source": [
    "d_train = lgbm.Dataset(X_train, label=Y_train)\n",
    "d_valid = lgbm.Dataset(X_validation, label=Y_validation)"
   ]
  },
  {
   "cell_type": "code",
   "execution_count": 17,
   "metadata": {},
   "outputs": [
    {
     "name": "stdout",
     "output_type": "stream",
     "text": [
      "Training until validation scores don't improve for 200 rounds.\n",
      "[10]\ttrain's auc: 0.650597\tvalid's auc: 0.630546\n",
      "[20]\ttrain's auc: 0.668918\tvalid's auc: 0.640062\n",
      "[30]\ttrain's auc: 0.681768\tvalid's auc: 0.646047\n",
      "[40]\ttrain's auc: 0.691654\tvalid's auc: 0.650378\n",
      "[50]\ttrain's auc: 0.699754\tvalid's auc: 0.65194\n",
      "[60]\ttrain's auc: 0.70606\tvalid's auc: 0.653426\n",
      "[70]\ttrain's auc: 0.71143\tvalid's auc: 0.653383\n",
      "[80]\ttrain's auc: 0.716006\tvalid's auc: 0.653951\n",
      "[90]\ttrain's auc: 0.719446\tvalid's auc: 0.654458\n",
      "[100]\ttrain's auc: 0.722461\tvalid's auc: 0.654586\n",
      "[110]\ttrain's auc: 0.72497\tvalid's auc: 0.654439\n",
      "[120]\ttrain's auc: 0.727716\tvalid's auc: 0.654062\n",
      "[130]\ttrain's auc: 0.729996\tvalid's auc: 0.654119\n",
      "[140]\ttrain's auc: 0.731751\tvalid's auc: 0.654028\n",
      "[150]\ttrain's auc: 0.733327\tvalid's auc: 0.653447\n",
      "[160]\ttrain's auc: 0.734771\tvalid's auc: 0.653385\n",
      "[170]\ttrain's auc: 0.736306\tvalid's auc: 0.652954\n",
      "[180]\ttrain's auc: 0.737471\tvalid's auc: 0.652845\n",
      "[190]\ttrain's auc: 0.738473\tvalid's auc: 0.65298\n",
      "[200]\ttrain's auc: 0.739599\tvalid's auc: 0.65289\n",
      "[210]\ttrain's auc: 0.740485\tvalid's auc: 0.652758\n",
      "[220]\ttrain's auc: 0.741435\tvalid's auc: 0.652723\n",
      "[230]\ttrain's auc: 0.742375\tvalid's auc: 0.6524\n",
      "[240]\ttrain's auc: 0.74344\tvalid's auc: 0.652242\n",
      "[250]\ttrain's auc: 0.744314\tvalid's auc: 0.652218\n",
      "[260]\ttrain's auc: 0.745087\tvalid's auc: 0.652293\n",
      "[270]\ttrain's auc: 0.745757\tvalid's auc: 0.652132\n",
      "[280]\ttrain's auc: 0.746541\tvalid's auc: 0.65184\n",
      "[290]\ttrain's auc: 0.747009\tvalid's auc: 0.65222\n",
      "[300]\ttrain's auc: 0.747595\tvalid's auc: 0.652383\n",
      "Early stopping, best iteration is:\n",
      "[103]\ttrain's auc: 0.723155\tvalid's auc: 0.654746\n"
     ]
    }
   ],
   "source": [
    "evals_results = {}\n",
    "num_boost_round=3000\n",
    "early_stopping_rounds=200\n",
    "feval=None\n",
    "\n",
    "model = lgbm.train(params, \n",
    "                     d_train, \n",
    "                     valid_sets=[d_train, d_valid], \n",
    "                     valid_names=['train','valid'], \n",
    "                     evals_result=evals_results, \n",
    "                     num_boost_round=num_boost_round,\n",
    "                     early_stopping_rounds=early_stopping_rounds,\n",
    "                     verbose_eval=10, \n",
    "                     feval=feval)"
   ]
  },
  {
   "cell_type": "code",
   "execution_count": 18,
   "metadata": {},
   "outputs": [
    {
     "name": "stdout",
     "output_type": "stream",
     "text": [
      "\n",
      "Model Report\n",
      "n_estimators :  103\n",
      "AUC: 0.6547462118265377\n"
     ]
    }
   ],
   "source": [
    "n_estimators = model.best_iteration\n",
    "print(\"\\nModel Report\")\n",
    "print(\"n_estimators : \", n_estimators)\n",
    "print(\"AUC\"+\":\", evals_results['valid']['auc'][n_estimators-1])"
   ]
  },
  {
   "cell_type": "code",
   "execution_count": 21,
   "metadata": {},
   "outputs": [
    {
     "name": "stdout",
     "output_type": "stream",
     "text": [
      "ROC AUC score: 0.6547462118265377\n"
     ]
    }
   ],
   "source": [
    "from sklearn.metrics import roc_auc_score\n",
    "\n",
    "predicted = model.predict(X_validation)\n",
    "print(\"ROC AUC score:\",roc_auc_score(Y_validation, predicted))"
   ]
  },
  {
   "cell_type": "code",
   "execution_count": 22,
   "metadata": {},
   "outputs": [],
   "source": [
    "model.save_model('lgbm_kmeans_model.cbm')"
   ]
  },
  {
   "cell_type": "markdown",
   "metadata": {},
   "source": [
    "# Test Data"
   ]
  },
  {
   "cell_type": "code",
   "execution_count": 28,
   "metadata": {},
   "outputs": [],
   "source": [
    "# data = Load(test_data_fn)\n",
    "test_data = scipy.sparse.load_npz(\"test_sparse_matrix_after_scale.npz\")"
   ]
  },
  {
   "cell_type": "code",
   "execution_count": 29,
   "metadata": {},
   "outputs": [],
   "source": [
    "from scipy import sparse\n",
    "\n",
    "testk100 = sparse.csr_matrix(kmeans100[427994:])\n",
    "testk2 = sparse.csr_matrix(kmeans2[427994:])"
   ]
  },
  {
   "cell_type": "code",
   "execution_count": 30,
   "metadata": {},
   "outputs": [],
   "source": [
    "from scipy.sparse import hstack\n",
    "\n",
    "test_data = hstack([test_data,testk100.transpose(),testk2.transpose()]).tocsr()  "
   ]
  },
  {
   "cell_type": "code",
   "execution_count": 31,
   "metadata": {},
   "outputs": [],
   "source": [
    "Y_test = model.predict(test_data)"
   ]
  },
  {
   "cell_type": "markdown",
   "metadata": {},
   "source": [
    "## Saving test predictions"
   ]
  },
  {
   "cell_type": "code",
   "execution_count": 32,
   "metadata": {},
   "outputs": [],
   "source": [
    "predictions = pd.DataFrame(Y_test)\n",
    "predictions.to_csv(\"solution_lgbm_kmeans.csv\",header=None, index=None)"
   ]
  },
  {
   "cell_type": "code",
   "execution_count": null,
   "metadata": {},
   "outputs": [],
   "source": []
  }
 ],
 "metadata": {
  "kernelspec": {
   "display_name": "Python 3",
   "language": "python",
   "name": "python3"
  },
  "language_info": {
   "codemirror_mode": {
    "name": "ipython",
    "version": 3
   },
   "file_extension": ".py",
   "mimetype": "text/x-python",
   "name": "python",
   "nbconvert_exporter": "python",
   "pygments_lexer": "ipython3",
   "version": "3.6.4"
  }
 },
 "nbformat": 4,
 "nbformat_minor": 2
}
