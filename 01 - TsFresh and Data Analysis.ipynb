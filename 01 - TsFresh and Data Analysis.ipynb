{
 "cells": [
  {
   "cell_type": "markdown",
   "metadata": {},
   "source": [
    "# 01 - TSFresh and Data Analysis"
   ]
  },
  {
   "cell_type": "markdown",
   "metadata": {},
   "source": [
    "#### Imports"
   ]
  },
  {
   "cell_type": "code",
   "execution_count": 1,
   "metadata": {},
   "outputs": [],
   "source": [
    "import numpy as np\n",
    "import pandas as pd\n",
    "import json \n",
    "from functools import reduce\n",
    "import seaborn as sns\n",
    "import matplotlib.pyplot as plt\n",
    "from sklearn.feature_extraction import DictVectorizer\n",
    "from sklearn.externals import joblib\n",
    "import pickle\n",
    "import os.path\n",
    "from sklearn.model_selection import KFold\n",
    "from sklearn.decomposition import PCA, IncrementalPCA, SparsePCA, TruncatedSVD\n",
    "import scipy.sparse\n",
    "from sklearn.preprocessing import MinMaxScaler, MaxAbsScaler\n",
    "import catboost\n",
    "from catboost import CatBoostClassifier, Pool\n",
    "from sklearn.model_selection import train_test_split\n",
    "from sklearn.metrics import roc_auc_score\n",
    "\n",
    "sns.set(style=\"white\")"
   ]
  },
  {
   "cell_type": "markdown",
   "metadata": {},
   "source": [
    "#### Constants"
   ]
  },
  {
   "cell_type": "code",
   "execution_count": 2,
   "metadata": {},
   "outputs": [],
   "source": [
    "nrows = None\n",
    "rare_key_threshold = 10\n",
    "nfolds = 100"
   ]
  },
  {
   "cell_type": "code",
   "execution_count": 3,
   "metadata": {},
   "outputs": [],
   "source": [
    "data_folder = 'data/'\n",
    "train_folds_folder = \"folds_train/\"\n",
    "test_folds_folder = \"folds_test/\"\n",
    "model_folder = \"models/\"\n",
    "\n",
    "target_name = 'target'\n",
    "test_index_name = 'tst_index'"
   ]
  },
  {
   "cell_type": "code",
   "execution_count": 4,
   "metadata": {},
   "outputs": [],
   "source": [
    "target_fn = model_folder +'target.pkl'\n",
    "\n",
    "label_encoder_fn = model_folder + \"label_encoder.pkl\"\n",
    "weight_multiplier_fn = model_folder + \"weight_multiplier.pkl\"\n",
    "json_metas_fn = model_folder + \"json_metas.pkl\""
   ]
  },
  {
   "cell_type": "code",
   "execution_count": 5,
   "metadata": {},
   "outputs": [],
   "source": [
    "train_indexes_fn = model_folder + \"train_indexes.pkl\"\n",
    "test_indexes_fn = model_folder + \"test_indexes.pkl\""
   ]
  },
  {
   "cell_type": "code",
   "execution_count": 6,
   "metadata": {},
   "outputs": [],
   "source": [
    "from datetime import datetime\n",
    "today = datetime.today()"
   ]
  },
  {
   "cell_type": "markdown",
   "metadata": {},
   "source": [
    "#### Functions"
   ]
  },
  {
   "cell_type": "code",
   "execution_count": 7,
   "metadata": {},
   "outputs": [],
   "source": [
    "def stayOnlyKeys(keys, dictionary):\n",
    "    for key in list(dictionary.keys()):\n",
    "        if key not in keys:\n",
    "            del dictionary[key]\n",
    "    return dictionary"
   ]
  },
  {
   "cell_type": "code",
   "execution_count": 8,
   "metadata": {},
   "outputs": [],
   "source": [
    "def LoadTarget():\n",
    "    dft = pd.read_csv(data_folder+'mlboot_train_answers.tsv',\n",
    "                      delimiter='\\t',\n",
    "                      encoding='utf-8',\n",
    "                      header=0)\n",
    "    dft.columns = ['cuid','target']\n",
    "    dft = dft.set_index('cuid')\n",
    "    \n",
    "    return dft"
   ]
  },
  {
   "cell_type": "code",
   "execution_count": 9,
   "metadata": {},
   "outputs": [],
   "source": [
    "def LoadTest():\n",
    "    dftst = pd.read_csv(data_folder+'mlboot_test.tsv',\n",
    "                          delimiter='\\t',\n",
    "                          encoding='utf-8',\n",
    "                          header=0)\n",
    "    dftst[test_index_name] = dftst.index+2\n",
    "    dftst = dftst.set_index('cuid')\n",
    "    \n",
    "    return dftst"
   ]
  },
  {
   "cell_type": "code",
   "execution_count": 10,
   "metadata": {},
   "outputs": [],
   "source": [
    "def LoadData(nrows = None):\n",
    "    df = pd.read_csv(data_folder+'mlboot_data.tsv',\n",
    "                delimiter='\\t',\n",
    "                encoding='utf-8',\n",
    "                nrows=nrows,\n",
    "                header=None,\n",
    "                names=['cuid','cat_feature', 'json1', 'json2', 'json3', 'dt_diff'],\n",
    "                index_col='cuid'\n",
    "                )\n",
    "    \n",
    "    return df"
   ]
  },
  {
   "cell_type": "code",
   "execution_count": 11,
   "metadata": {},
   "outputs": [],
   "source": [
    "def LoadRawDataSet(nrows):\n",
    "    df = LoadData(nrows)\n",
    "    dftst = LoadTest()\n",
    "    dft = LoadTarget()\n",
    "    \n",
    "    df = df.join(dft)\n",
    "    df = df.join(dftst)\n",
    "    \n",
    "    return df"
   ]
  },
  {
   "cell_type": "code",
   "execution_count": 12,
   "metadata": {},
   "outputs": [],
   "source": [
    "def GetTrainDataSet(df):\n",
    "    print('Rows in input:',len(df.index))\n",
    "    print('Rows in output:',len(df[df[target_name].notnull()].index))\n",
    "    \n",
    "    return df[df[target_name].notnull()]"
   ]
  },
  {
   "cell_type": "code",
   "execution_count": 13,
   "metadata": {},
   "outputs": [],
   "source": [
    "def GetTestDataSet(df):\n",
    "    print('Rows in input:',len(df.index))\n",
    "    print('Rows in output:',len(df[df[test_index_name].notnull()].index))\n",
    "    \n",
    "    return df[df[test_index_name].notnull()]"
   ]
  },
  {
   "cell_type": "code",
   "execution_count": 14,
   "metadata": {},
   "outputs": [],
   "source": [
    "def Save(obj, filename):\n",
    "    joblib.dump(obj, filename)"
   ]
  },
  {
   "cell_type": "code",
   "execution_count": 15,
   "metadata": {},
   "outputs": [],
   "source": [
    "def Load(filename):\n",
    "    if os.path.isfile(filename):\n",
    "        return joblib.load(filename)"
   ]
  },
  {
   "cell_type": "markdown",
   "metadata": {},
   "source": [
    "# Loading data"
   ]
  },
  {
   "cell_type": "markdown",
   "metadata": {},
   "source": [
    "## From tsv files"
   ]
  },
  {
   "cell_type": "code",
   "execution_count": 16,
   "metadata": {},
   "outputs": [],
   "source": [
    "df = LoadRawDataSet(nrows)"
   ]
  },
  {
   "cell_type": "code",
   "execution_count": 17,
   "metadata": {},
   "outputs": [],
   "source": [
    "from sklearn import preprocessing\n",
    "\n",
    "encoder = preprocessing.LabelEncoder()\n",
    "encoder.fit(df.index.unique())\n",
    "\n",
    "Save(encoder, label_encoder_fn )"
   ]
  },
  {
   "cell_type": "code",
   "execution_count": 18,
   "metadata": {},
   "outputs": [],
   "source": [
    "df[\"id\"] = encoder.transform(df.index)\n",
    "df.index = df[\"id\"]"
   ]
  },
  {
   "cell_type": "code",
   "execution_count": 19,
   "metadata": {},
   "outputs": [
    {
     "name": "stderr",
     "output_type": "stream",
     "text": [
      "/home/aavdeev/anaconda3/lib/python3.6/site-packages/statsmodels/compat/pandas.py:56: FutureWarning: The pandas.core.datetools module is deprecated and will be removed in a future version. Please use the pandas.tseries module instead.\n",
      "  from pandas.core import datetools\n",
      "Feature Extraction: 100%|██████████| 20/20 [00:49<00:00,  2.49s/it]\n"
     ]
    },
    {
     "name": "stdout",
     "output_type": "stream",
     "text": [
      "CPU times: user 1min 35s, sys: 6.48 s, total: 1min 41s\n",
      "Wall time: 1min 46s\n"
     ]
    }
   ],
   "source": [
    "%%time\n",
    "from tsfresh.feature_extraction import extract_features, EfficientFCParameters, ComprehensiveFCParameters, MinimalFCParameters\n",
    "settings = MinimalFCParameters()\n",
    "\n",
    "extracted_features = extract_features(df,\n",
    "                 column_id=\"id\",\n",
    "#                  column_sort=\"dt_diff\",\n",
    "                 column_kind=None,\n",
    "                 column_value=\"cat_feature\",\n",
    "                 default_fc_parameters=settings)"
   ]
  },
  {
   "cell_type": "code",
   "execution_count": 20,
   "metadata": {},
   "outputs": [],
   "source": [
    "df = df.join(extracted_features)"
   ]
  },
  {
   "cell_type": "code",
   "execution_count": 21,
   "metadata": {},
   "outputs": [
    {
     "name": "stdout",
     "output_type": "stream",
     "text": [
      "Rows in input: 19528597\n",
      "Rows in output: 12874345\n"
     ]
    }
   ],
   "source": [
    "dft = GetTrainDataSet(df)\n",
    "dft = dft.drop([test_index_name], axis=1)"
   ]
  },
  {
   "cell_type": "code",
   "execution_count": 22,
   "metadata": {},
   "outputs": [
    {
     "name": "stdout",
     "output_type": "stream",
     "text": [
      "Rows in input: 19528597\n",
      "Rows in output: 6654252\n"
     ]
    }
   ],
   "source": [
    "dftst = GetTestDataSet(df)\n",
    "dftst = dftst.drop([target_name], axis=1)"
   ]
  },
  {
   "cell_type": "code",
   "execution_count": 23,
   "metadata": {},
   "outputs": [
    {
     "name": "stderr",
     "output_type": "stream",
     "text": [
      "/home/aavdeev/anaconda3/lib/python3.6/site-packages/ipykernel_launcher.py:1: FutureWarning: 'id' is both an index level and a column label.\n",
      "Defaulting to column, but this will raise an ambiguity error in a future version\n",
      "  \"\"\"Entry point for launching an IPython kernel.\n"
     ]
    },
    {
     "name": "stdout",
     "output_type": "stream",
     "text": [
      "Target size: 427994\n"
     ]
    }
   ],
   "source": [
    "target_df = dft.groupby(\"id\", as_index=True).agg({\n",
    "         'target':['max']\n",
    "    })\n",
    "target = target_df.values\n",
    "print(\"Target size:\",len(target))\n",
    "\n",
    "Save(target, target_fn)"
   ]
  },
  {
   "cell_type": "code",
   "execution_count": 24,
   "metadata": {},
   "outputs": [
    {
     "name": "stdout",
     "output_type": "stream",
     "text": [
      "Weight multiplier for imbalanced dataset: 18.951239977624464\n"
     ]
    }
   ],
   "source": [
    "classes,counts = np.unique(target, return_counts=True)\n",
    "weight_multiplier = counts[0]/counts[1]\n",
    "print('Weight multiplier for imbalanced dataset:',weight_multiplier)\n",
    "\n",
    "Save(weight_multiplier, weight_multiplier_fn)"
   ]
  },
  {
   "cell_type": "markdown",
   "metadata": {},
   "source": [
    "## Json counters research"
   ]
  },
  {
   "cell_type": "markdown",
   "metadata": {},
   "source": [
    "Нужно, чтобы ключи счётчиков в трейне и тесте пересекались.\n",
    "Не имеет смысла тренировать модель на тех счётчкиках, которые в тестовых данных не встречаются.\n",
    "Аналогично с тестовыми данными - из них нужно убрать те счётчики, которые не встречаются в трейне, так как они всё равно не помогут модели"
   ]
  },
  {
   "cell_type": "code",
   "execution_count": 25,
   "metadata": {},
   "outputs": [],
   "source": [
    "def analyze_keys(text, meta, dataset_type=\"train\"):\n",
    "    dictionary = json.loads(text)\n",
    "    keys = dictionary.keys()\n",
    "    \n",
    "    meta[dataset_type].update(keys)\n",
    "    \n",
    "    for key in keys:\n",
    "        if key in meta[\"key_counter\"]:\n",
    "            meta[\"key_counter\"][key] = meta[\"key_counter\"][key]+1\n",
    "        else:\n",
    "            meta[\"key_counter\"][key] = 1\n",
    "        \n",
    "        if key in meta[\"valued_key_counter\"] and dictionary[key] is not None and dictionary[key] > 0:\n",
    "                meta[\"valued_key_counter\"][key] = meta[\"valued_key_counter\"][key]+1\n",
    "        if key not in meta[\"valued_key_counter\"] and dictionary[key] is not None and dictionary[key] > 0:\n",
    "                meta[\"valued_key_counter\"][key] = 1\n",
    "            \n",
    "            \n",
    "def GetNonTrashKeys(dic):\n",
    "    global rare_key_threshold\n",
    "    \n",
    "    non_trash_keys_dict = dict( (key, value) for (key, value) in dic.items() if value > rare_key_threshold )\n",
    "    non_trash_keys = set(list(non_trash_keys_dict.keys()))\n",
    "    \n",
    "    return non_trash_keys"
   ]
  },
  {
   "cell_type": "code",
   "execution_count": 26,
   "metadata": {},
   "outputs": [],
   "source": [
    "def jobs_manager():\n",
    "    from IPython.lib.backgroundjobs import BackgroundJobManager\n",
    "    from IPython.core.magic import register_line_magic\n",
    "    from IPython import get_ipython\n",
    "\n",
    "    jobs = BackgroundJobManager()\n",
    "\n",
    "    @register_line_magic\n",
    "    def job(line):\n",
    "        ip = get_ipython()\n",
    "        jobs.new(line, ip.user_global_ns)\n",
    "\n",
    "    return jobs\n",
    "\n",
    "def get_chunks(sequence, count):\n",
    "    count = min(count, len(sequence))\n",
    "    chunks = [[] for _ in range(count)]\n",
    "    for index, item in enumerate(sequence):\n",
    "        chunks[index % count].append(item) \n",
    "    return chunks\n",
    "\n",
    "def log_progress(sequence, every=None, size=None):\n",
    "    from ipywidgets import IntProgress, HTML, VBox\n",
    "    from IPython.display import display\n",
    "\n",
    "    is_iterator = False\n",
    "    if size is None:\n",
    "        try:\n",
    "            size = len(sequence)\n",
    "        except TypeError:\n",
    "            is_iterator = True\n",
    "    if size is not None:\n",
    "        if every is None:\n",
    "            if size <= 200:\n",
    "                every = 1\n",
    "            else:\n",
    "                every = size / 200     # every 0.5%\n",
    "    else:\n",
    "        assert every is not None, 'sequence is iterator, set every'\n",
    "\n",
    "    if is_iterator:\n",
    "        progress = IntProgress(min=0, max=1, value=1)\n",
    "        progress.bar_style = 'info'\n",
    "    else:\n",
    "        progress = IntProgress(min=0, max=size, value=0)\n",
    "    label = HTML()\n",
    "    box = VBox(children=[label, progress])\n",
    "    display(box)\n",
    "\n",
    "    index = 0\n",
    "    try:\n",
    "        for index, record in enumerate(sequence, 1):\n",
    "            if index == 1 or index % every == 0:\n",
    "                if is_iterator:\n",
    "                    label.value = '{index} / ?'.format(index=index)\n",
    "                else:\n",
    "                    progress.value = index\n",
    "                    label.value = u'{index} / {size}'.format(\n",
    "                        index=index,\n",
    "                        size=size\n",
    "                    )\n",
    "            yield record\n",
    "    except:\n",
    "        progress.bar_style = 'danger'\n",
    "        raise\n",
    "    else:\n",
    "        progress.bar_style = 'success'\n",
    "        progress.value = index\n",
    "        label.value = str(index or '?')\n",
    "\n",
    "jobs = jobs_manager()"
   ]
  },
  {
   "cell_type": "code",
   "execution_count": 27,
   "metadata": {},
   "outputs": [],
   "source": [
    "def kill_thread(thread):\n",
    "    import ctypes\n",
    "    \n",
    "    id = thread.ident\n",
    "    code = ctypes.pythonapi.PyThreadState_SetAsyncExc(\n",
    "        ctypes.c_long(id),\n",
    "        ctypes.py_object(SystemError)\n",
    "    )\n",
    "    if code == 0:\n",
    "        raise ValueError('invalid thread id')\n",
    "    elif code != 1:\n",
    "        ctypes.pythonapi.PyThreadState_SetAsyncExc(\n",
    "            ctypes.c_long(id),\n",
    "            ctypes.c_long(0)\n",
    "        )\n",
    "        raise SystemError('PyThreadState_SetAsyncExc failed')"
   ]
  },
  {
   "cell_type": "code",
   "execution_count": 28,
   "metadata": {},
   "outputs": [],
   "source": [
    "json_metas = []\n",
    "\n",
    "def build_json_meta(i):\n",
    "    global json_metas\n",
    "    global dft\n",
    "    global dftst\n",
    "    \n",
    "    meta = {\n",
    "        \"train\":set([]),\n",
    "        \"test\":set([]),\n",
    "        \"total\":set([]),\n",
    "        \"cross\":set([]),\n",
    "        \"key_counter\":{},\n",
    "        \"valued_key_counter\":{},\n",
    "        \"non_trash\":set([]),\n",
    "        \"important_keys\":set([]),\n",
    "        \"i\":i,\n",
    "        \"column\":\"json\"+str(i)\n",
    "    }\n",
    "\n",
    "\n",
    "    print(\"Counting keys:\",i)\n",
    "    dft[meta[\"column\"]].apply(lambda text: analyze_keys(text, meta, \"train\"))\n",
    "    dftst[meta[\"column\"]].apply(lambda text: analyze_keys(text, meta, \"test\"))\n",
    "    \n",
    "    meta[\"total\"] = meta[\"train\"].copy()\n",
    "    meta[\"total\"].update(meta[\"test\"])\n",
    "    \n",
    "    meta[\"cross\"] = meta[\"train\"] & meta[\"test\"]\n",
    "\n",
    "    meta[\"non_trash\"] = GetNonTrashKeys(meta[\"key_counter\"])\n",
    "    meta[\"important_keys\"] = meta[\"non_trash\"] & meta[\"cross\"]\n",
    "\n",
    "    print(\"DictVectorizer fiting:\",i)\n",
    "    dict_vector = dict.fromkeys(meta[\"important_keys\"], 1)\n",
    "\n",
    "    vectorizer = DictVectorizer(sparse=True).fit([dict_vector])\n",
    "\n",
    "    meta[\"vectorizer\"] = vectorizer\n",
    "    \n",
    "    json_metas.append(meta)"
   ]
  },
  {
   "cell_type": "code",
   "execution_count": 29,
   "metadata": {},
   "outputs": [
    {
     "name": "stdout",
     "output_type": "stream",
     "text": [
      "Starting job # 0 in a separate thread.\n",
      "Starting job # 2 in a separate thread.\n",
      "Starting job # 3 in a separate thread.\n"
     ]
    },
    {
     "data": {
      "application/vnd.jupyter.widget-view+json": {
       "model_id": "4af590de475f4b248841ba26a18b8ec6",
       "version_major": 2,
       "version_minor": 0
      },
      "text/html": [
       "<p>Failed to display Jupyter Widget of type <code>VBox</code>.</p>\n",
       "<p>\n",
       "  If you're reading this message in the Jupyter Notebook or JupyterLab Notebook, it may mean\n",
       "  that the widgets JavaScript is still loading. If this message persists, it\n",
       "  likely means that the widgets JavaScript library is either not installed or\n",
       "  not enabled. See the <a href=\"https://ipywidgets.readthedocs.io/en/stable/user_install.html\">Jupyter\n",
       "  Widgets Documentation</a> for setup instructions.\n",
       "</p>\n",
       "<p>\n",
       "  If you're reading this message in another frontend (for example, a static\n",
       "  rendering on GitHub or <a href=\"https://nbviewer.jupyter.org/\">NBViewer</a>),\n",
       "  it may mean that your frontend doesn't currently support widgets.\n",
       "</p>\n"
      ],
      "text/plain": [
       "VBox(children=(HTML(value=''), IntProgress(value=0, max=1)))"
      ]
     },
     "metadata": {},
     "output_type": "display_data"
    },
    {
     "data": {
      "application/vnd.jupyter.widget-view+json": {
       "model_id": "0069d661c9754ff9a90a165aeb800ba6",
       "version_major": 2,
       "version_minor": 0
      },
      "text/html": [
       "<p>Failed to display Jupyter Widget of type <code>VBox</code>.</p>\n",
       "<p>\n",
       "  If you're reading this message in the Jupyter Notebook or JupyterLab Notebook, it may mean\n",
       "  that the widgets JavaScript is still loading. If this message persists, it\n",
       "  likely means that the widgets JavaScript library is either not installed or\n",
       "  not enabled. See the <a href=\"https://ipywidgets.readthedocs.io/en/stable/user_install.html\">Jupyter\n",
       "  Widgets Documentation</a> for setup instructions.\n",
       "</p>\n",
       "<p>\n",
       "  If you're reading this message in another frontend (for example, a static\n",
       "  rendering on GitHub or <a href=\"https://nbviewer.jupyter.org/\">NBViewer</a>),\n",
       "  it may mean that your frontend doesn't currently support widgets.\n",
       "</p>\n"
      ],
      "text/plain": [
       "VBox(children=(HTML(value=''), IntProgress(value=0, max=1)))"
      ]
     },
     "metadata": {},
     "output_type": "display_data"
    },
    {
     "data": {
      "application/vnd.jupyter.widget-view+json": {
       "model_id": "8f42f0b0e4a7461e964307209d47919f",
       "version_major": 2,
       "version_minor": 0
      },
      "text/html": [
       "<p>Failed to display Jupyter Widget of type <code>VBox</code>.</p>\n",
       "<p>\n",
       "  If you're reading this message in the Jupyter Notebook or JupyterLab Notebook, it may mean\n",
       "  that the widgets JavaScript is still loading. If this message persists, it\n",
       "  likely means that the widgets JavaScript library is either not installed or\n",
       "  not enabled. See the <a href=\"https://ipywidgets.readthedocs.io/en/stable/user_install.html\">Jupyter\n",
       "  Widgets Documentation</a> for setup instructions.\n",
       "</p>\n",
       "<p>\n",
       "  If you're reading this message in another frontend (for example, a static\n",
       "  rendering on GitHub or <a href=\"https://nbviewer.jupyter.org/\">NBViewer</a>),\n",
       "  it may mean that your frontend doesn't currently support widgets.\n",
       "</p>\n"
      ],
      "text/plain": [
       "VBox(children=(HTML(value=''), IntProgress(value=0, max=1)))"
      ]
     },
     "metadata": {},
     "output_type": "display_data"
    },
    {
     "name": "stdout",
     "output_type": "stream",
     "text": [
      "Counting keys: 2\n",
      "Counting keys: 3\n",
      "Counting keys: 1\n",
      "DictVectorizer fiting: 3\n",
      "DictVectorizer fiting: 1\n",
      "DictVectorizer fiting: 2\n",
      "CPU times: user 14min 50s, sys: 2.22 s, total: 14min 53s\n",
      "Wall time: 14min 51s\n"
     ]
    }
   ],
   "source": [
    "%%time\n",
    "for chunk in get_chunks(range(1,4), 3):\n",
    "    %job [build_json_meta(index) for index in log_progress(chunk, every=1)]    \n",
    "    \n",
    "for thread in jobs.running:\n",
    "    thread.join()"
   ]
  },
  {
   "cell_type": "code",
   "execution_count": 30,
   "metadata": {},
   "outputs": [],
   "source": [
    "for i in range(0,3):\n",
    "    json_metas[i][\"valued_non_trash\"] = GetNonTrashKeys(json_metas[i][\"valued_key_counter\"])"
   ]
  },
  {
   "cell_type": "code",
   "execution_count": 31,
   "metadata": {},
   "outputs": [
    {
     "name": "stdout",
     "output_type": "stream",
     "text": [
      "non_trash 88675\n",
      "valued_non_trash 88675\n",
      "important_keys 54542\n",
      "non_trash 425587\n",
      "valued_non_trash 425587\n",
      "important_keys 296752\n",
      "non_trash 20275\n",
      "valued_non_trash 20275\n",
      "important_keys 20268\n"
     ]
    }
   ],
   "source": [
    "for i in range(0,3):\n",
    "    print(\"non_trash\",len(json_metas[i][\"non_trash\"]))\n",
    "    print(\"valued_non_trash\",len(json_metas[i][\"valued_non_trash\"]))\n",
    "    print(\"important_keys\",len(json_metas[i][\"important_keys\"]))    "
   ]
  },
  {
   "cell_type": "code",
   "execution_count": 32,
   "metadata": {},
   "outputs": [
    {
     "name": "stdout",
     "output_type": "stream",
     "text": [
      "CPU times: user 49.8 s, sys: 800 ms, total: 50.6 s\n",
      "Wall time: 50.6 s\n"
     ]
    }
   ],
   "source": [
    "%%time\n",
    "Save(json_metas, json_metas_fn)"
   ]
  },
  {
   "cell_type": "markdown",
   "metadata": {},
   "source": [
    "## Spliting on folds"
   ]
  },
  {
   "cell_type": "code",
   "execution_count": 33,
   "metadata": {},
   "outputs": [],
   "source": [
    "train_indexes = np.array_split(dft.index.unique(), nfolds)\n",
    "\n",
    "dft = dft.drop([target_name], axis=1)"
   ]
  },
  {
   "cell_type": "code",
   "execution_count": 34,
   "metadata": {},
   "outputs": [],
   "source": [
    "i = 0\n",
    "\n",
    "for index in train_indexes:\n",
    "    dfi = dft[dft.index.isin(index)]\n",
    "    \n",
    "    dfi_fn = train_folds_folder+\"dfi{!s}.pkl\".format(i)\n",
    "    \n",
    "    Save(dfi, dfi_fn)\n",
    "    i = i+1\n",
    "    \n",
    "Save(train_indexes, train_indexes_fn)"
   ]
  },
  {
   "cell_type": "code",
   "execution_count": 35,
   "metadata": {},
   "outputs": [],
   "source": [
    "dftst = dftst.sort_values(test_index_name)\n",
    "dftst = dftst.drop([test_index_name], axis=1)\n",
    "test_indexes = np.array_split(dftst.index.unique(), nfolds)"
   ]
  },
  {
   "cell_type": "code",
   "execution_count": 36,
   "metadata": {},
   "outputs": [
    {
     "data": {
      "text/html": [
       "<div>\n",
       "<style scoped>\n",
       "    .dataframe tbody tr th:only-of-type {\n",
       "        vertical-align: middle;\n",
       "    }\n",
       "\n",
       "    .dataframe tbody tr th {\n",
       "        vertical-align: top;\n",
       "    }\n",
       "\n",
       "    .dataframe thead th {\n",
       "        text-align: right;\n",
       "    }\n",
       "</style>\n",
       "<table border=\"1\" class=\"dataframe\">\n",
       "  <thead>\n",
       "    <tr style=\"text-align: right;\">\n",
       "      <th></th>\n",
       "      <th>cat_feature</th>\n",
       "      <th>json1</th>\n",
       "      <th>json2</th>\n",
       "      <th>json3</th>\n",
       "      <th>dt_diff</th>\n",
       "      <th>id</th>\n",
       "      <th>cat_feature__length</th>\n",
       "      <th>cat_feature__maximum</th>\n",
       "      <th>cat_feature__mean</th>\n",
       "      <th>cat_feature__median</th>\n",
       "      <th>cat_feature__minimum</th>\n",
       "      <th>cat_feature__standard_deviation</th>\n",
       "      <th>cat_feature__sum_values</th>\n",
       "      <th>cat_feature__variance</th>\n",
       "    </tr>\n",
       "    <tr>\n",
       "      <th>id</th>\n",
       "      <th></th>\n",
       "      <th></th>\n",
       "      <th></th>\n",
       "      <th></th>\n",
       "      <th></th>\n",
       "      <th></th>\n",
       "      <th></th>\n",
       "      <th></th>\n",
       "      <th></th>\n",
       "      <th></th>\n",
       "      <th></th>\n",
       "      <th></th>\n",
       "      <th></th>\n",
       "      <th></th>\n",
       "    </tr>\n",
       "  </thead>\n",
       "  <tbody>\n",
       "    <tr>\n",
       "      <th>324768</th>\n",
       "      <td>5</td>\n",
       "      <td>{\"664922\":1,\"812686\":2,\"1479433\":1,\"709068\":1,...</td>\n",
       "      <td>{\"165949\":1,\"362\":1,\"260639\":5,\"19776\":2,\"1435...</td>\n",
       "      <td>{}</td>\n",
       "      <td>1</td>\n",
       "      <td>324768</td>\n",
       "      <td>86.0</td>\n",
       "      <td>5.0</td>\n",
       "      <td>2.325581</td>\n",
       "      <td>0.0</td>\n",
       "      <td>0.0</td>\n",
       "      <td>2.493908</td>\n",
       "      <td>200.0</td>\n",
       "      <td>6.219578</td>\n",
       "    </tr>\n",
       "    <tr>\n",
       "      <th>324768</th>\n",
       "      <td>0</td>\n",
       "      <td>{\"572620\":1,\"159474\":1,\"809001\":1,\"1657077\":1,...</td>\n",
       "      <td>{\"16370\":1,\"87041\":1,\"138296\":1,\"143207\":1,\"13...</td>\n",
       "      <td>{}</td>\n",
       "      <td>17</td>\n",
       "      <td>324768</td>\n",
       "      <td>86.0</td>\n",
       "      <td>5.0</td>\n",
       "      <td>2.325581</td>\n",
       "      <td>0.0</td>\n",
       "      <td>0.0</td>\n",
       "      <td>2.493908</td>\n",
       "      <td>200.0</td>\n",
       "      <td>6.219578</td>\n",
       "    </tr>\n",
       "    <tr>\n",
       "      <th>324768</th>\n",
       "      <td>5</td>\n",
       "      <td>{\"806039\":1,\"1539087\":1,\"809001\":2,\"844920\":1,...</td>\n",
       "      <td>{\"11835\":1,\"586\":1,\"74873\":1,\"233680\":1,\"20410...</td>\n",
       "      <td>{}</td>\n",
       "      <td>18</td>\n",
       "      <td>324768</td>\n",
       "      <td>86.0</td>\n",
       "      <td>5.0</td>\n",
       "      <td>2.325581</td>\n",
       "      <td>0.0</td>\n",
       "      <td>0.0</td>\n",
       "      <td>2.493908</td>\n",
       "      <td>200.0</td>\n",
       "      <td>6.219578</td>\n",
       "    </tr>\n",
       "    <tr>\n",
       "      <th>324768</th>\n",
       "      <td>0</td>\n",
       "      <td>{\"793814\":3,\"844920\":2,\"955650\":2,\"806039\":1,\"...</td>\n",
       "      <td>{\"5631\":1,\"22165\":2,\"1078720\":2,\"225454\":2,\"91...</td>\n",
       "      <td>{}</td>\n",
       "      <td>18</td>\n",
       "      <td>324768</td>\n",
       "      <td>86.0</td>\n",
       "      <td>5.0</td>\n",
       "      <td>2.325581</td>\n",
       "      <td>0.0</td>\n",
       "      <td>0.0</td>\n",
       "      <td>2.493908</td>\n",
       "      <td>200.0</td>\n",
       "      <td>6.219578</td>\n",
       "    </tr>\n",
       "    <tr>\n",
       "      <th>324768</th>\n",
       "      <td>0</td>\n",
       "      <td>{\"1353000\":1,\"1376123\":2,\"2015951\":2,\"1436354\"...</td>\n",
       "      <td>{\"5458\":1,\"14681\":2,\"120797\":1,\"1078720\":2,\"53...</td>\n",
       "      <td>{}</td>\n",
       "      <td>19</td>\n",
       "      <td>324768</td>\n",
       "      <td>86.0</td>\n",
       "      <td>5.0</td>\n",
       "      <td>2.325581</td>\n",
       "      <td>0.0</td>\n",
       "      <td>0.0</td>\n",
       "      <td>2.493908</td>\n",
       "      <td>200.0</td>\n",
       "      <td>6.219578</td>\n",
       "    </tr>\n",
       "    <tr>\n",
       "      <th>324768</th>\n",
       "      <td>5</td>\n",
       "      <td>{\"1353000\":1,\"1376123\":2,\"2015951\":2,\"1436354\"...</td>\n",
       "      <td>{\"5458\":1,\"14681\":2,\"120797\":1,\"1078720\":2,\"53...</td>\n",
       "      <td>{}</td>\n",
       "      <td>19</td>\n",
       "      <td>324768</td>\n",
       "      <td>86.0</td>\n",
       "      <td>5.0</td>\n",
       "      <td>2.325581</td>\n",
       "      <td>0.0</td>\n",
       "      <td>0.0</td>\n",
       "      <td>2.493908</td>\n",
       "      <td>200.0</td>\n",
       "      <td>6.219578</td>\n",
       "    </tr>\n",
       "    <tr>\n",
       "      <th>324768</th>\n",
       "      <td>5</td>\n",
       "      <td>{\"1856814\":1,\"955650\":1,\"1539087\":1}</td>\n",
       "      <td>{\"24624\":1,\"1643\":1,\"2399\":1,\"235314\":1,\"10034...</td>\n",
       "      <td>{}</td>\n",
       "      <td>20</td>\n",
       "      <td>324768</td>\n",
       "      <td>86.0</td>\n",
       "      <td>5.0</td>\n",
       "      <td>2.325581</td>\n",
       "      <td>0.0</td>\n",
       "      <td>0.0</td>\n",
       "      <td>2.493908</td>\n",
       "      <td>200.0</td>\n",
       "      <td>6.219578</td>\n",
       "    </tr>\n",
       "    <tr>\n",
       "      <th>324768</th>\n",
       "      <td>0</td>\n",
       "      <td>{\"1183551\":1,\"868991\":1,\"1331393\":1,\"1856814\":...</td>\n",
       "      <td>{\"47413\":1,\"1643\":3,\"938\":1,\"17805\":1,\"538\":1,...</td>\n",
       "      <td>{}</td>\n",
       "      <td>20</td>\n",
       "      <td>324768</td>\n",
       "      <td>86.0</td>\n",
       "      <td>5.0</td>\n",
       "      <td>2.325581</td>\n",
       "      <td>0.0</td>\n",
       "      <td>0.0</td>\n",
       "      <td>2.493908</td>\n",
       "      <td>200.0</td>\n",
       "      <td>6.219578</td>\n",
       "    </tr>\n",
       "    <tr>\n",
       "      <th>324768</th>\n",
       "      <td>5</td>\n",
       "      <td>{\"1006855\":1,\"241767\":1,\"1196877\":1,\"1082055\":...</td>\n",
       "      <td>{\"17382\":1,\"5235\":1,\"6700\":1,\"1078720\":4,\"5388...</td>\n",
       "      <td>{\"595375\":1,\"49144\":1,\"7471\":1}</td>\n",
       "      <td>21</td>\n",
       "      <td>324768</td>\n",
       "      <td>86.0</td>\n",
       "      <td>5.0</td>\n",
       "      <td>2.325581</td>\n",
       "      <td>0.0</td>\n",
       "      <td>0.0</td>\n",
       "      <td>2.493908</td>\n",
       "      <td>200.0</td>\n",
       "      <td>6.219578</td>\n",
       "    </tr>\n",
       "    <tr>\n",
       "      <th>324768</th>\n",
       "      <td>0</td>\n",
       "      <td>{\"1006855\":1,\"241767\":1,\"1196877\":1,\"1082055\":...</td>\n",
       "      <td>{\"17382\":1,\"5235\":1,\"6700\":1,\"1078720\":4,\"5388...</td>\n",
       "      <td>{\"595375\":1,\"49144\":1,\"7471\":1}</td>\n",
       "      <td>21</td>\n",
       "      <td>324768</td>\n",
       "      <td>86.0</td>\n",
       "      <td>5.0</td>\n",
       "      <td>2.325581</td>\n",
       "      <td>0.0</td>\n",
       "      <td>0.0</td>\n",
       "      <td>2.493908</td>\n",
       "      <td>200.0</td>\n",
       "      <td>6.219578</td>\n",
       "    </tr>\n",
       "  </tbody>\n",
       "</table>\n",
       "</div>"
      ],
      "text/plain": [
       "        cat_feature                                              json1  \\\n",
       "id                                                                       \n",
       "324768            5  {\"664922\":1,\"812686\":2,\"1479433\":1,\"709068\":1,...   \n",
       "324768            0  {\"572620\":1,\"159474\":1,\"809001\":1,\"1657077\":1,...   \n",
       "324768            5  {\"806039\":1,\"1539087\":1,\"809001\":2,\"844920\":1,...   \n",
       "324768            0  {\"793814\":3,\"844920\":2,\"955650\":2,\"806039\":1,\"...   \n",
       "324768            0  {\"1353000\":1,\"1376123\":2,\"2015951\":2,\"1436354\"...   \n",
       "324768            5  {\"1353000\":1,\"1376123\":2,\"2015951\":2,\"1436354\"...   \n",
       "324768            5               {\"1856814\":1,\"955650\":1,\"1539087\":1}   \n",
       "324768            0  {\"1183551\":1,\"868991\":1,\"1331393\":1,\"1856814\":...   \n",
       "324768            5  {\"1006855\":1,\"241767\":1,\"1196877\":1,\"1082055\":...   \n",
       "324768            0  {\"1006855\":1,\"241767\":1,\"1196877\":1,\"1082055\":...   \n",
       "\n",
       "                                                    json2  \\\n",
       "id                                                          \n",
       "324768  {\"165949\":1,\"362\":1,\"260639\":5,\"19776\":2,\"1435...   \n",
       "324768  {\"16370\":1,\"87041\":1,\"138296\":1,\"143207\":1,\"13...   \n",
       "324768  {\"11835\":1,\"586\":1,\"74873\":1,\"233680\":1,\"20410...   \n",
       "324768  {\"5631\":1,\"22165\":2,\"1078720\":2,\"225454\":2,\"91...   \n",
       "324768  {\"5458\":1,\"14681\":2,\"120797\":1,\"1078720\":2,\"53...   \n",
       "324768  {\"5458\":1,\"14681\":2,\"120797\":1,\"1078720\":2,\"53...   \n",
       "324768  {\"24624\":1,\"1643\":1,\"2399\":1,\"235314\":1,\"10034...   \n",
       "324768  {\"47413\":1,\"1643\":3,\"938\":1,\"17805\":1,\"538\":1,...   \n",
       "324768  {\"17382\":1,\"5235\":1,\"6700\":1,\"1078720\":4,\"5388...   \n",
       "324768  {\"17382\":1,\"5235\":1,\"6700\":1,\"1078720\":4,\"5388...   \n",
       "\n",
       "                                  json3  dt_diff      id  cat_feature__length  \\\n",
       "id                                                                              \n",
       "324768                               {}        1  324768                 86.0   \n",
       "324768                               {}       17  324768                 86.0   \n",
       "324768                               {}       18  324768                 86.0   \n",
       "324768                               {}       18  324768                 86.0   \n",
       "324768                               {}       19  324768                 86.0   \n",
       "324768                               {}       19  324768                 86.0   \n",
       "324768                               {}       20  324768                 86.0   \n",
       "324768                               {}       20  324768                 86.0   \n",
       "324768  {\"595375\":1,\"49144\":1,\"7471\":1}       21  324768                 86.0   \n",
       "324768  {\"595375\":1,\"49144\":1,\"7471\":1}       21  324768                 86.0   \n",
       "\n",
       "        cat_feature__maximum  cat_feature__mean  cat_feature__median  \\\n",
       "id                                                                     \n",
       "324768                   5.0           2.325581                  0.0   \n",
       "324768                   5.0           2.325581                  0.0   \n",
       "324768                   5.0           2.325581                  0.0   \n",
       "324768                   5.0           2.325581                  0.0   \n",
       "324768                   5.0           2.325581                  0.0   \n",
       "324768                   5.0           2.325581                  0.0   \n",
       "324768                   5.0           2.325581                  0.0   \n",
       "324768                   5.0           2.325581                  0.0   \n",
       "324768                   5.0           2.325581                  0.0   \n",
       "324768                   5.0           2.325581                  0.0   \n",
       "\n",
       "        cat_feature__minimum  cat_feature__standard_deviation  \\\n",
       "id                                                              \n",
       "324768                   0.0                         2.493908   \n",
       "324768                   0.0                         2.493908   \n",
       "324768                   0.0                         2.493908   \n",
       "324768                   0.0                         2.493908   \n",
       "324768                   0.0                         2.493908   \n",
       "324768                   0.0                         2.493908   \n",
       "324768                   0.0                         2.493908   \n",
       "324768                   0.0                         2.493908   \n",
       "324768                   0.0                         2.493908   \n",
       "324768                   0.0                         2.493908   \n",
       "\n",
       "        cat_feature__sum_values  cat_feature__variance  \n",
       "id                                                      \n",
       "324768                    200.0               6.219578  \n",
       "324768                    200.0               6.219578  \n",
       "324768                    200.0               6.219578  \n",
       "324768                    200.0               6.219578  \n",
       "324768                    200.0               6.219578  \n",
       "324768                    200.0               6.219578  \n",
       "324768                    200.0               6.219578  \n",
       "324768                    200.0               6.219578  \n",
       "324768                    200.0               6.219578  \n",
       "324768                    200.0               6.219578  "
      ]
     },
     "execution_count": 36,
     "metadata": {},
     "output_type": "execute_result"
    }
   ],
   "source": [
    "dftst.head(10)"
   ]
  },
  {
   "cell_type": "code",
   "execution_count": 37,
   "metadata": {},
   "outputs": [],
   "source": [
    "i = 0\n",
    "\n",
    "for index in test_indexes:\n",
    "    dfi = dftst[dftst.index.isin(index)]\n",
    "    \n",
    "    dfi_fn = test_folds_folder+\"dfi{!s}.pkl\".format(i)\n",
    "    \n",
    "    Save(dfi, dfi_fn)\n",
    "    i = i+1\n",
    "\n",
    "Save(test_indexes, test_indexes_fn)"
   ]
  }
 ],
 "metadata": {
  "kernelspec": {
   "display_name": "Python 3",
   "language": "python",
   "name": "python3"
  },
  "language_info": {
   "codemirror_mode": {
    "name": "ipython",
    "version": 3
   },
   "file_extension": ".py",
   "mimetype": "text/x-python",
   "name": "python",
   "nbconvert_exporter": "python",
   "pygments_lexer": "ipython3",
   "version": "3.6.4"
  }
 },
 "nbformat": 4,
 "nbformat_minor": 2
}
