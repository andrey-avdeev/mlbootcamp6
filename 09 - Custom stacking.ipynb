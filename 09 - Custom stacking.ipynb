{
 "cells": [
  {
   "cell_type": "markdown",
   "metadata": {},
   "source": [
    "# 07 - LGBM + KMeans"
   ]
  },
  {
   "cell_type": "markdown",
   "metadata": {},
   "source": [
    "#### Imports"
   ]
  },
  {
   "cell_type": "code",
   "execution_count": 1,
   "metadata": {},
   "outputs": [],
   "source": [
    "import numpy as np\n",
    "import pandas as pd\n",
    "\n",
    "import matplotlib.pyplot as plt\n",
    "import seaborn as sns\n",
    "\n",
    "sns.set(style=\"white\")"
   ]
  },
  {
   "cell_type": "markdown",
   "metadata": {},
   "source": [
    "#### Constants"
   ]
  },
  {
   "cell_type": "code",
   "execution_count": 2,
   "metadata": {},
   "outputs": [],
   "source": [
    "n_components = 1000"
   ]
  },
  {
   "cell_type": "code",
   "execution_count": 3,
   "metadata": {},
   "outputs": [],
   "source": [
    "models_folder = \"models/\"\n",
    "train_data_fn = models_folder+'train_data.pkl'\n",
    "target_fn = models_folder+'target.pkl'\n",
    "test_data_fn = models_folder+'test_data.pkl'\n",
    "\n",
    "weight_multiplier_fn = models_folder+\"weight_multiplier.pkl\""
   ]
  },
  {
   "cell_type": "markdown",
   "metadata": {},
   "source": [
    "#### Functions"
   ]
  },
  {
   "cell_type": "code",
   "execution_count": 4,
   "metadata": {},
   "outputs": [],
   "source": [
    "import os.path\n",
    "from sklearn.externals import joblib\n",
    "\n",
    "def Load(filename):\n",
    "    if os.path.isfile(filename):\n",
    "        return joblib.load(filename)\n",
    "    \n",
    "def Save(obj, filename):\n",
    "    joblib.dump(obj, filename)"
   ]
  },
  {
   "cell_type": "code",
   "execution_count": 17,
   "metadata": {},
   "outputs": [],
   "source": [
    "lgbm = pd.read_csv('solution_lgbm.csv',\n",
    "                      delimiter='\\t',\n",
    "                      encoding='utf-8',\n",
    "                      header=None)\n",
    "lgbm.columns = ['lgbm']\n",
    "\n",
    "catboost = pd.read_csv('solution_catboost.csv',\n",
    "                      delimiter='\\t',\n",
    "                      encoding='utf-8',\n",
    "                      header=None)\n",
    "catboost.columns = ['catboost']\n",
    "\n",
    "lgbm_kmeans = pd.read_csv('solution_lgbm_kmeans.csv',\n",
    "                      delimiter='\\t',\n",
    "                      encoding='utf-8',\n",
    "                      header=None)\n",
    "\n",
    "lgbm_kmeans.columns = ['lgbm_kmeans']"
   ]
  },
  {
   "cell_type": "code",
   "execution_count": 28,
   "metadata": {},
   "outputs": [],
   "source": [
    "df = lgbm.join(lgbm_kmeans)"
   ]
  },
  {
   "cell_type": "code",
   "execution_count": 29,
   "metadata": {},
   "outputs": [
    {
     "data": {
      "text/html": [
       "<div>\n",
       "<style scoped>\n",
       "    .dataframe tbody tr th:only-of-type {\n",
       "        vertical-align: middle;\n",
       "    }\n",
       "\n",
       "    .dataframe tbody tr th {\n",
       "        vertical-align: top;\n",
       "    }\n",
       "\n",
       "    .dataframe thead th {\n",
       "        text-align: right;\n",
       "    }\n",
       "</style>\n",
       "<table border=\"1\" class=\"dataframe\">\n",
       "  <thead>\n",
       "    <tr style=\"text-align: right;\">\n",
       "      <th></th>\n",
       "      <th>lgbm</th>\n",
       "      <th>lgbm_kmeans</th>\n",
       "    </tr>\n",
       "  </thead>\n",
       "  <tbody>\n",
       "    <tr>\n",
       "      <th>0</th>\n",
       "      <td>0.130328</td>\n",
       "      <td>0.175593</td>\n",
       "    </tr>\n",
       "    <tr>\n",
       "      <th>1</th>\n",
       "      <td>0.042108</td>\n",
       "      <td>0.054789</td>\n",
       "    </tr>\n",
       "    <tr>\n",
       "      <th>2</th>\n",
       "      <td>0.075908</td>\n",
       "      <td>0.071964</td>\n",
       "    </tr>\n",
       "    <tr>\n",
       "      <th>3</th>\n",
       "      <td>0.041370</td>\n",
       "      <td>0.051234</td>\n",
       "    </tr>\n",
       "    <tr>\n",
       "      <th>4</th>\n",
       "      <td>0.031718</td>\n",
       "      <td>0.029703</td>\n",
       "    </tr>\n",
       "  </tbody>\n",
       "</table>\n",
       "</div>"
      ],
      "text/plain": [
       "       lgbm  lgbm_kmeans\n",
       "0  0.130328     0.175593\n",
       "1  0.042108     0.054789\n",
       "2  0.075908     0.071964\n",
       "3  0.041370     0.051234\n",
       "4  0.031718     0.029703"
      ]
     },
     "execution_count": 29,
     "metadata": {},
     "output_type": "execute_result"
    }
   ],
   "source": [
    "df.head(5)"
   ]
  },
  {
   "cell_type": "code",
   "execution_count": 30,
   "metadata": {},
   "outputs": [],
   "source": [
    "predictions = df.mean(axis=1)"
   ]
  },
  {
   "cell_type": "code",
   "execution_count": 31,
   "metadata": {},
   "outputs": [
    {
     "data": {
      "text/plain": [
       "0         0.152960\n",
       "1         0.048449\n",
       "2         0.073936\n",
       "3         0.046302\n",
       "4         0.030711\n",
       "5         0.039109\n",
       "6         0.065182\n",
       "7         0.048276\n",
       "8         0.066141\n",
       "9         0.030397\n",
       "10        0.026220\n",
       "11        0.024621\n",
       "12        0.042983\n",
       "13        0.045932\n",
       "14        0.038844\n",
       "15        0.044818\n",
       "16        0.044298\n",
       "17        0.054569\n",
       "18        0.080715\n",
       "19        0.055531\n",
       "20        0.019236\n",
       "21        0.046827\n",
       "22        0.054694\n",
       "23        0.016473\n",
       "24        0.047906\n",
       "25        0.036086\n",
       "26        0.014198\n",
       "27        0.103437\n",
       "28        0.015201\n",
       "29        0.017398\n",
       "            ...   \n",
       "180994    0.020754\n",
       "180995    0.081219\n",
       "180996    0.040667\n",
       "180997    0.060395\n",
       "180998    0.046208\n",
       "180999    0.085668\n",
       "181000    0.035335\n",
       "181001    0.032099\n",
       "181002    0.031505\n",
       "181003    0.061867\n",
       "181004    0.056301\n",
       "181005    0.103779\n",
       "181006    0.045230\n",
       "181007    0.050998\n",
       "181008    0.028350\n",
       "181009    0.040163\n",
       "181010    0.033341\n",
       "181011    0.033344\n",
       "181012    0.051268\n",
       "181013    0.047068\n",
       "181014    0.011343\n",
       "181015    0.065488\n",
       "181016    0.032922\n",
       "181017    0.048848\n",
       "181018    0.050541\n",
       "181019    0.030186\n",
       "181020    0.021423\n",
       "181021    0.038689\n",
       "181022    0.036451\n",
       "181023    0.042507\n",
       "Length: 181024, dtype: float64"
      ]
     },
     "execution_count": 31,
     "metadata": {},
     "output_type": "execute_result"
    }
   ],
   "source": [
    "predictions"
   ]
  },
  {
   "cell_type": "code",
   "execution_count": 32,
   "metadata": {},
   "outputs": [],
   "source": [
    "predictions.to_csv(\"solution_dummy_stacking.csv\",header=None, index=None)"
   ]
  },
  {
   "cell_type": "markdown",
   "metadata": {},
   "source": [
    "# Loading data"
   ]
  },
  {
   "cell_type": "code",
   "execution_count": null,
   "metadata": {},
   "outputs": [],
   "source": [
    "import scipy\n",
    "\n",
    "data = scipy.sparse.load_npz(\"train_sparse_matrix_after_scale.npz\")\n",
    "\n",
    "kmeans100 = Load(models_folder+'kmeans_n100.pkl')\n",
    "kmeans2 = Load(models_folder+'kmeans_n2.pkl')\n",
    "target = Load(target_fn)"
   ]
  },
  {
   "cell_type": "code",
   "execution_count": null,
   "metadata": {},
   "outputs": [],
   "source": [
    "from scipy import sparse\n",
    "\n",
    "traink100 = sparse.csr_matrix(kmeans100[:427994])\n",
    "traink2 = sparse.csr_matrix(kmeans2[:427994])"
   ]
  },
  {
   "cell_type": "code",
   "execution_count": null,
   "metadata": {},
   "outputs": [],
   "source": [
    "from scipy.sparse import hstack\n",
    "\n",
    "data = hstack([data,traink100.transpose(),traink2.transpose()]).tocsr()  "
   ]
  },
  {
   "cell_type": "code",
   "execution_count": null,
   "metadata": {},
   "outputs": [],
   "source": [
    "weight_multiplier = Load(weight_multiplier_fn)"
   ]
  },
  {
   "cell_type": "markdown",
   "metadata": {},
   "source": [
    "## Splitting dataset"
   ]
  },
  {
   "cell_type": "code",
   "execution_count": null,
   "metadata": {},
   "outputs": [],
   "source": [
    "from sklearn.model_selection import train_test_split\n",
    "\n",
    "X_train, X_validation, Y_train, Y_validation = train_test_split(data, target.ravel(), train_size=0.8)"
   ]
  },
  {
   "cell_type": "code",
   "execution_count": null,
   "metadata": {},
   "outputs": [],
   "source": [
    "import lightgbm as lgbm\n",
    "import re"
   ]
  },
  {
   "cell_type": "code",
   "execution_count": null,
   "metadata": {},
   "outputs": [],
   "source": [
    "params = {'subsample_freq': 2, 'subsample_for_bin': 100, 'subsample': 0.7, 'scale_pos_weight': 1, 'reg_lambda': 0.2, 'reg_alpha': 7, 'objective': 'binary', 'num_leaves': 50, 'min_split_gain': 2.0, 'min_child_weight': 3, 'min_child_samples': 100, 'metric': 'auc', 'max_depth': 20, 'max_bin': 100, 'learning_rate': 0.1, 'colsample_bytree': 0.7}"
   ]
  },
  {
   "cell_type": "code",
   "execution_count": null,
   "metadata": {},
   "outputs": [],
   "source": [
    "d_train = lgbm.Dataset(X_train, label=Y_train)\n",
    "d_valid = lgbm.Dataset(X_validation, label=Y_validation)"
   ]
  },
  {
   "cell_type": "code",
   "execution_count": null,
   "metadata": {},
   "outputs": [],
   "source": [
    "evals_results = {}\n",
    "num_boost_round=3000\n",
    "early_stopping_rounds=200\n",
    "feval=None\n",
    "\n",
    "model = lgbm.train(params, \n",
    "                     d_train, \n",
    "                     valid_sets=[d_train, d_valid], \n",
    "                     valid_names=['train','valid'], \n",
    "                     evals_result=evals_results, \n",
    "                     num_boost_round=num_boost_round,\n",
    "                     early_stopping_rounds=early_stopping_rounds,\n",
    "                     verbose_eval=10, \n",
    "                     feval=feval)"
   ]
  },
  {
   "cell_type": "code",
   "execution_count": null,
   "metadata": {},
   "outputs": [],
   "source": [
    "n_estimators = model.best_iteration\n",
    "print(\"\\nModel Report\")\n",
    "print(\"n_estimators : \", n_estimators)\n",
    "print(\"AUC\"+\":\", evals_results['valid']['auc'][n_estimators-1])"
   ]
  },
  {
   "cell_type": "code",
   "execution_count": null,
   "metadata": {},
   "outputs": [],
   "source": [
    "from sklearn.metrics import roc_auc_score\n",
    "\n",
    "predicted = model.predict(X_validation)\n",
    "print(\"ROC AUC score:\",roc_auc_score(Y_validation, predicted))"
   ]
  },
  {
   "cell_type": "code",
   "execution_count": null,
   "metadata": {},
   "outputs": [],
   "source": [
    "model.save_model('lgbm_kmeans_model.cbm')"
   ]
  },
  {
   "cell_type": "markdown",
   "metadata": {},
   "source": [
    "# Test Data"
   ]
  },
  {
   "cell_type": "code",
   "execution_count": null,
   "metadata": {},
   "outputs": [],
   "source": [
    "# data = Load(test_data_fn)\n",
    "test_data = scipy.sparse.load_npz(\"test_sparse_matrix_after_scale.npz\")"
   ]
  },
  {
   "cell_type": "code",
   "execution_count": null,
   "metadata": {},
   "outputs": [],
   "source": [
    "from scipy import sparse\n",
    "\n",
    "testk100 = sparse.csr_matrix(kmeans100[427994:])\n",
    "testk2 = sparse.csr_matrix(kmeans2[427994:])"
   ]
  },
  {
   "cell_type": "code",
   "execution_count": null,
   "metadata": {},
   "outputs": [],
   "source": [
    "from scipy.sparse import hstack\n",
    "\n",
    "test_data = hstack([test_data,testk100.transpose(),testk2.transpose()]).tocsr()  "
   ]
  },
  {
   "cell_type": "code",
   "execution_count": null,
   "metadata": {},
   "outputs": [],
   "source": [
    "Y_test = model.predict(test_data)"
   ]
  },
  {
   "cell_type": "markdown",
   "metadata": {},
   "source": [
    "## Saving test predictions"
   ]
  },
  {
   "cell_type": "code",
   "execution_count": null,
   "metadata": {},
   "outputs": [],
   "source": [
    "predictions = pd.DataFrame(Y_test)\n",
    "predictions.to_csv(\"solution_lgbm_kmeans.csv\",header=None, index=None)"
   ]
  },
  {
   "cell_type": "code",
   "execution_count": null,
   "metadata": {},
   "outputs": [],
   "source": []
  }
 ],
 "metadata": {
  "kernelspec": {
   "display_name": "Python 3",
   "language": "python",
   "name": "python3"
  },
  "language_info": {
   "codemirror_mode": {
    "name": "ipython",
    "version": 3
   },
   "file_extension": ".py",
   "mimetype": "text/x-python",
   "name": "python",
   "nbconvert_exporter": "python",
   "pygments_lexer": "ipython3",
   "version": "3.6.4"
  }
 },
 "nbformat": 4,
 "nbformat_minor": 2
}
